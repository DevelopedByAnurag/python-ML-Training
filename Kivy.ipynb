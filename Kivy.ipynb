{
 "cells": [
  {
   "cell_type": "markdown",
   "metadata": {},
   "source": [
    "# What is Kivy?"
   ]
  },
  {
   "cell_type": "markdown",
   "metadata": {},
   "source": [
    "Kivy is a python module that allows for the creation of cross compatible applications using python. It makes it very easy to reuse the same code on IOS, Andorid, Mac, Windows, Linux and virtually all other well known operating systems. Creating apps with kivy is great as your code works on every kind of device. Kivy is similar to TKinter in the way you develop apps. It allows you to create a GUI using widgets and layouts."
   ]
  },
  {
   "cell_type": "markdown",
   "metadata": {},
   "source": [
    "## Installing Kivy\n"
   ]
  },
  {
   "cell_type": "markdown",
   "metadata": {},
   "source": [
    "\n",
    "For detailed instructions on all operating systems please visit the kivy website.\n",
    "\n",
    "Before we can start using kivy we must download and install it. The easiest way to do this is to use pip. To test if you have pip in your system path open up cmd and type pip."
   ]
  },
  {
   "cell_type": "markdown",
   "metadata": {},
   "source": [
    "If you do not receive any errors you can continue with the instructions.\n",
    "\n",
    "If this did NOT work then you need to add pip to your system path. There are multiple ways to do this but the easiest is to modify your python installation and add pip. You can watch the video starting at 2:00 to see how to do this.\n",
    "\n",
    "If pip is working then you need to type the following commands into your command prompt."
   ]
  },
  {
   "cell_type": "raw",
   "metadata": {},
   "source": [
    "python -m pip install --upgrade pip wheel setuptools\n",
    "python -m pip install docutils pygments pypiwin32 kivy.deps.sdl2 kivy.deps.glew\n",
    "python -m pip install kivy.deps.gstreamer\n",
    "python -m pip install kivy.deps.angle\n",
    "python -m pip install pygame\n",
    "python -m pip install kivy"
   ]
  },
  {
   "cell_type": "markdown",
   "metadata": {},
   "source": [
    "## Creating our First App"
   ]
  },
  {
   "cell_type": "markdown",
   "metadata": {},
   "source": [
    "Once we have Kivy installed and setup we can get to creating our first app.\n",
    "\n",
    "The first thing we need to do is import the necessary modules."
   ]
  },
  {
   "cell_type": "code",
   "execution_count": 1,
   "metadata": {},
   "outputs": [
    {
     "name": "stderr",
     "output_type": "stream",
     "text": [
      "[INFO   ] [Logger      ] Record log in C:\\Users\\jaskirat\\.kivy\\logs\\kivy_19-06-09_6.txt\n",
      "[INFO   ] [Kivy        ] v1.11.0\n",
      "[INFO   ] [Kivy        ] Installed at \"C:\\Users\\jaskirat\\AppData\\Roaming\\Python\\Python36\\site-packages\\kivy\\__init__.py\"\n",
      "[INFO   ] [Python      ] v3.6.6 |Anaconda custom (64-bit)| (default, Jun 28 2018, 11:27:44) [MSC v.1900 64 bit (AMD64)]\n",
      "[INFO   ] [Python      ] Interpreter at \"C:\\Users\\jaskirat\\Anaconda3\\python.exe\"\n",
      "[INFO   ] [deps        ] Successfully imported \"kivy_deps.gstreamer\" 0.1.17\n",
      "[INFO   ] [deps        ] Successfully imported \"kivy_deps.angle\" 0.1.9\n",
      "[INFO   ] [deps        ] Successfully imported \"kivy_deps.glew\" 0.1.12\n",
      "[INFO   ] [deps        ] Successfully imported \"kivy_deps.sdl2\" 0.1.22\n",
      "[INFO   ] [Factory     ] 184 symbols loaded\n",
      "[INFO   ] [Image       ] Providers: img_tex, img_dds, img_sdl2, img_pil, img_gif (img_ffpyplayer ignored)\n",
      "[INFO   ] [Text        ] Provider: sdl2\n",
      "[INFO   ] [Window      ] Provider: sdl2\n",
      "[INFO   ] [GL          ] Using the \"OpenGL\" graphics system\n",
      "[INFO   ] [GL          ] GLEW initialization succeeded\n",
      "[INFO   ] [GL          ] Backend used <glew>\n",
      "[INFO   ] [GL          ] OpenGL version <b'4.5.0 - Build 24.20.100.6286'>\n",
      "[INFO   ] [GL          ] OpenGL vendor <b'Intel'>\n",
      "[INFO   ] [GL          ] OpenGL renderer <b'Intel(R) UHD Graphics 620'>\n",
      "[INFO   ] [GL          ] OpenGL parsed version: 4, 5\n",
      "[INFO   ] [GL          ] Shading version <b'4.50 - Build 24.20.100.6286'>\n",
      "[INFO   ] [GL          ] Texture max size <16384>\n",
      "[INFO   ] [GL          ] Texture max units <32>\n",
      "[INFO   ] [Window      ] auto add sdl2 input provider\n",
      "[INFO   ] [Window      ] virtual keyboard not allowed, single mode, not docked\n",
      "[INFO   ] [Base        ] Start application main loop\n",
      "[INFO   ] [GL          ] NPOT texture support is available\n",
      "[INFO   ] [Base        ] Leaving application in progress...\n",
      "[INFO   ] [WindowSDL   ] exiting mainloop and closing.\n"
     ]
    }
   ],
   "source": [
    "import kivy\n",
    "from kivy.app import App\n",
    "from kivy.uix.label import Label"
   ]
  },
  {
   "cell_type": "markdown",
   "metadata": {},
   "source": [
    "The best way to create apps using Kivy is to do so using OOP. Therefore, we need to create a class to represent our window. This class will inherit from the App class that we imported above. This means it will take all functionally from App. In doing so all we have to do to make our class functional is implement a method build() which will tell Kivy what to place on the screen."
   ]
  },
  {
   "cell_type": "code",
   "execution_count": 2,
   "metadata": {},
   "outputs": [],
   "source": [
    "class MyApp(App):\n",
    "    def build(self):\n",
    "        return Label(text=\"tech with tim\")"
   ]
  },
  {
   "cell_type": "markdown",
   "metadata": {},
   "source": [
    "We simply return a label that says \"tech with tim\"."
   ]
  },
  {
   "cell_type": "markdown",
   "metadata": {},
   "source": [
    "### Running our App"
   ]
  },
  {
   "cell_type": "markdown",
   "metadata": {},
   "source": [
    "Believe it or not we have just created our first app. To run it we need to add the following code to the end of our program."
   ]
  },
  {
   "cell_type": "code",
   "execution_count": 3,
   "metadata": {},
   "outputs": [],
   "source": [
    "if __name__ == \"__main__\":\n",
    "    MyApp().run()"
   ]
  },
  {
   "cell_type": "markdown",
   "metadata": {},
   "source": [
    "## Labels, Input and GUI Layouts"
   ]
  },
  {
   "cell_type": "markdown",
   "metadata": {},
   "source": [
    "In this kivy tutorial python we will create a basic GUI that represents a form. The form will have input for a first name, last name and email address. To do this we will be using something called a grid layout, labels and text input boxes."
   ]
  },
  {
   "cell_type": "markdown",
   "metadata": {},
   "source": [
    "Importing Modules"
   ]
  },
  {
   "cell_type": "code",
   "execution_count": 1,
   "metadata": {},
   "outputs": [
    {
     "name": "stderr",
     "output_type": "stream",
     "text": [
      "[INFO   ] [Logger      ] Record log in C:\\Users\\jaskirat\\.kivy\\logs\\kivy_19-06-09_7.txt\n",
      "[INFO   ] [Kivy        ] v1.11.0\n",
      "[INFO   ] [Kivy        ] Installed at \"C:\\Users\\jaskirat\\AppData\\Roaming\\Python\\Python36\\site-packages\\kivy\\__init__.py\"\n",
      "[INFO   ] [Python      ] v3.6.6 |Anaconda custom (64-bit)| (default, Jun 28 2018, 11:27:44) [MSC v.1900 64 bit (AMD64)]\n",
      "[INFO   ] [Python      ] Interpreter at \"C:\\Users\\jaskirat\\Anaconda3\\python.exe\"\n",
      "[INFO   ] [deps        ] Successfully imported \"kivy_deps.gstreamer\" 0.1.17\n",
      "[INFO   ] [deps        ] Successfully imported \"kivy_deps.angle\" 0.1.9\n",
      "[INFO   ] [deps        ] Successfully imported \"kivy_deps.glew\" 0.1.12\n",
      "[INFO   ] [deps        ] Successfully imported \"kivy_deps.sdl2\" 0.1.22\n",
      "[INFO   ] [Factory     ] 184 symbols loaded\n",
      "[INFO   ] [Image       ] Providers: img_tex, img_dds, img_sdl2, img_pil, img_gif (img_ffpyplayer ignored)\n",
      "[INFO   ] [Text        ] Provider: sdl2\n",
      "[INFO   ] [Window      ] Provider: sdl2\n",
      "[INFO   ] [GL          ] Using the \"OpenGL\" graphics system\n",
      "[INFO   ] [GL          ] GLEW initialization succeeded\n",
      "[INFO   ] [GL          ] Backend used <glew>\n",
      "[INFO   ] [GL          ] OpenGL version <b'4.5.0 - Build 24.20.100.6286'>\n",
      "[INFO   ] [GL          ] OpenGL vendor <b'Intel'>\n",
      "[INFO   ] [GL          ] OpenGL renderer <b'Intel(R) UHD Graphics 620'>\n",
      "[INFO   ] [GL          ] OpenGL parsed version: 4, 5\n",
      "[INFO   ] [GL          ] Shading version <b'4.50 - Build 24.20.100.6286'>\n",
      "[INFO   ] [GL          ] Texture max size <16384>\n",
      "[INFO   ] [GL          ] Texture max units <32>\n",
      "[INFO   ] [Window      ] auto add sdl2 input provider\n",
      "[INFO   ] [Window      ] virtual keyboard not allowed, single mode, not docked\n",
      "[INFO   ] [Base        ] Start application main loop\n",
      "[INFO   ] [GL          ] NPOT texture support is available\n",
      "[INFO   ] [Base        ] Leaving application in progress...\n",
      "[INFO   ] [WindowSDL   ] exiting mainloop and closing.\n",
      "[INFO   ] [Base        ] Start application main loop\n",
      "[ERROR  ] [Base        ] No event listeners have been created\n",
      "[ERROR  ] [Base        ] Application will leave\n",
      "[INFO   ] [Base        ] Leaving application in progress...\n",
      "[INFO   ] [Base        ] Leaving application in progress...\n"
     ]
    }
   ],
   "source": [
    "import kivy\n",
    "from kivy.app import App\n",
    "from kivy.uix.label import Label\n",
    "from kivy.uix.gridlayout import GridLayout\n",
    "from kivy.uix.textinput import TextInput"
   ]
  },
  {
   "cell_type": "markdown",
   "metadata": {},
   "source": [
    "### Creating a Grid Layout"
   ]
  },
  {
   "cell_type": "markdown",
   "metadata": {},
   "source": [
    "In the last video we simply told kivy to build a Label by returning \"Label(text=tech with tim)\" from our MyApp class. In this video we will create another class that will contain all of the elements in our GUI. We will then create an instance of that class and return that from the build method. This way we can build more than one widget/element for our application.\n",
    "\n",
    "This class will inherit from the class GridLayout (that we imported above). This will allow us to use all of the functionality of the GridLayout module created for us by kivy.\n",
    "\n",
    "When we inherit from GridLayout we need to call it's constructor. To do this we call super().__init__() passing in a few arguments."
   ]
  },
  {
   "cell_type": "code",
   "execution_count": 19,
   "metadata": {},
   "outputs": [],
   "source": [
    "class MyGrid(GridLayout):\n",
    "    def __init__(self, **kwargs):\n",
    "        super(MyGrid, self).__init__(**kwargs)\n",
    "        pass\n",
    "    pass\n",
    "# We use **kwargs because we don't know how many arguments we may receive. \n"
   ]
  },
  {
   "cell_type": "markdown",
   "metadata": {},
   "source": [
    "### Adding Elements\n"
   ]
  },
  {
   "cell_type": "markdown",
   "metadata": {},
   "source": [
    "Since we inherited from the GridLayout class there are tons of methods and attributes that we can access from inside of our newly created class.\n",
    "\n",
    "The first thing we need to do is configure the number of columns. Since we are using a GridLayout we will need to define a number of columns for our widgets/elements to be organized in. When we add widgets the columns will be filled and new rows will automatically be created."
   ]
  },
  {
   "cell_type": "code",
   "execution_count": 20,
   "metadata": {},
   "outputs": [],
   "source": [
    "class MyGrid(GridLayout):\n",
    "    def __init__(self, **kwargs):\n",
    "        super(MyGrid, self).__init__(**kwargs)\n",
    "        self.cols = 2 # We define the amount of columns to be 2"
   ]
  },
  {
   "cell_type": "markdown",
   "metadata": {},
   "source": [
    "Next we will add a label and a text input box to our Grid Layout. Since we specified two columns when we add these they should be beside each other."
   ]
  },
  {
   "cell_type": "code",
   "execution_count": 2,
   "metadata": {},
   "outputs": [],
   "source": [
    "class MyGrid(GridLayout):\n",
    "    def __init__(self, **kwargs):\n",
    "        super(MyGrid, self).__init__(**kwargs)\n",
    "        self.cols = 2\n",
    "        self.add_widget(Label(text=\"Name: \"))  # Add a label widget \n",
    "        self.name = TextInput(multiline=False)  # Create a Text input box stored in the name variable\n",
    "        self.add_widget(self.name)  # Add the text input widget to the GUI\n"
   ]
  },
  {
   "cell_type": "markdown",
   "metadata": {},
   "source": [
    "Now if we change MyApp class to return MyGrid() then we are ready to test the program.\n",
    "\n"
   ]
  },
  {
   "cell_type": "code",
   "execution_count": 3,
   "metadata": {},
   "outputs": [],
   "source": [
    "class MyApp(App):\n",
    "    def build(self):\n",
    "        return MyGrid()\n",
    "\n",
    "if __name__ == \"__main__\":\n",
    "    MyApp().run()"
   ]
  },
  {
   "cell_type": "code",
   "execution_count": 25,
   "metadata": {},
   "outputs": [
    {
     "ename": "ArgumentError",
     "evalue": "argument 3: <class 'TypeError'>: wrong type",
     "output_type": "error",
     "traceback": [
      "\u001b[1;31m---------------------------------------------------------------------------\u001b[0m",
      "\u001b[1;31mArgumentError\u001b[0m                             Traceback (most recent call last)",
      "\u001b[1;32m~\\Anaconda3\\lib\\site-packages\\kivy\\core\\window\\window_sdl2.py\u001b[0m in \u001b[0;36mmainloop\u001b[1;34m(self)\u001b[0m\n\u001b[0;32m    745\u001b[0m             \u001b[1;32mtry\u001b[0m\u001b[1;33m:\u001b[0m\u001b[1;33m\u001b[0m\u001b[0m\n\u001b[1;32m--> 746\u001b[1;33m                 \u001b[0mself\u001b[0m\u001b[1;33m.\u001b[0m\u001b[0m_mainloop\u001b[0m\u001b[1;33m(\u001b[0m\u001b[1;33m)\u001b[0m\u001b[1;33m\u001b[0m\u001b[0m\n\u001b[0m\u001b[0;32m    747\u001b[0m             \u001b[1;32mexcept\u001b[0m \u001b[0mBaseException\u001b[0m \u001b[1;32mas\u001b[0m \u001b[0minst\u001b[0m\u001b[1;33m:\u001b[0m\u001b[1;33m\u001b[0m\u001b[0m\n",
      "\u001b[1;32m~\\Anaconda3\\lib\\site-packages\\kivy\\core\\window\\window_sdl2.py\u001b[0m in \u001b[0;36m_mainloop\u001b[1;34m(self)\u001b[0m\n\u001b[0;32m    477\u001b[0m     \u001b[1;32mdef\u001b[0m \u001b[0m_mainloop\u001b[0m\u001b[1;33m(\u001b[0m\u001b[0mself\u001b[0m\u001b[1;33m)\u001b[0m\u001b[1;33m:\u001b[0m\u001b[1;33m\u001b[0m\u001b[0m\n\u001b[1;32m--> 478\u001b[1;33m         \u001b[0mEventLoop\u001b[0m\u001b[1;33m.\u001b[0m\u001b[0midle\u001b[0m\u001b[1;33m(\u001b[0m\u001b[1;33m)\u001b[0m\u001b[1;33m\u001b[0m\u001b[0m\n\u001b[0m\u001b[0;32m    479\u001b[0m \u001b[1;33m\u001b[0m\u001b[0m\n",
      "\u001b[1;32m~\\Anaconda3\\lib\\site-packages\\kivy\\base.py\u001b[0m in \u001b[0;36midle\u001b[1;34m(self)\u001b[0m\n\u001b[0;32m    361\u001b[0m             \u001b[0mLogger\u001b[0m\u001b[1;33m.\u001b[0m\u001b[0merror\u001b[0m\u001b[1;33m(\u001b[0m\u001b[1;34m'Base: Application will leave'\u001b[0m\u001b[1;33m)\u001b[0m\u001b[1;33m\u001b[0m\u001b[0m\n\u001b[1;32m--> 362\u001b[1;33m             \u001b[0mself\u001b[0m\u001b[1;33m.\u001b[0m\u001b[0mexit\u001b[0m\u001b[1;33m(\u001b[0m\u001b[1;33m)\u001b[0m\u001b[1;33m\u001b[0m\u001b[0m\n\u001b[0m\u001b[0;32m    363\u001b[0m             \u001b[1;32mreturn\u001b[0m \u001b[1;32mFalse\u001b[0m\u001b[1;33m\u001b[0m\u001b[0m\n",
      "\u001b[1;32m~\\Anaconda3\\lib\\site-packages\\kivy\\base.py\u001b[0m in \u001b[0;36mexit\u001b[1;34m(self)\u001b[0m\n\u001b[0;32m    374\u001b[0m         \u001b[1;34m'''Close the main loop and close the window.'''\u001b[0m\u001b[1;33m\u001b[0m\u001b[0m\n\u001b[1;32m--> 375\u001b[1;33m         \u001b[0mself\u001b[0m\u001b[1;33m.\u001b[0m\u001b[0mclose\u001b[0m\u001b[1;33m(\u001b[0m\u001b[1;33m)\u001b[0m\u001b[1;33m\u001b[0m\u001b[0m\n\u001b[0m\u001b[0;32m    376\u001b[0m         \u001b[1;32mif\u001b[0m \u001b[0mself\u001b[0m\u001b[1;33m.\u001b[0m\u001b[0mwindow\u001b[0m\u001b[1;33m:\u001b[0m\u001b[1;33m\u001b[0m\u001b[0m\n",
      "\u001b[1;32m~\\Anaconda3\\lib\\site-packages\\kivy\\base.py\u001b[0m in \u001b[0;36mclose\u001b[1;34m(self)\u001b[0m\n\u001b[0;32m    171\u001b[0m         \u001b[0mself\u001b[0m\u001b[1;33m.\u001b[0m\u001b[0mquit\u001b[0m \u001b[1;33m=\u001b[0m \u001b[1;32mTrue\u001b[0m\u001b[1;33m\u001b[0m\u001b[0m\n\u001b[1;32m--> 172\u001b[1;33m         \u001b[0mself\u001b[0m\u001b[1;33m.\u001b[0m\u001b[0mstop\u001b[0m\u001b[1;33m(\u001b[0m\u001b[1;33m)\u001b[0m\u001b[1;33m\u001b[0m\u001b[0m\n\u001b[0m\u001b[0;32m    173\u001b[0m         \u001b[0mself\u001b[0m\u001b[1;33m.\u001b[0m\u001b[0mstatus\u001b[0m \u001b[1;33m=\u001b[0m \u001b[1;34m'closed'\u001b[0m\u001b[1;33m\u001b[0m\u001b[0m\n",
      "\u001b[1;32m~\\Anaconda3\\lib\\site-packages\\kivy\\base.py\u001b[0m in \u001b[0;36mstop\u001b[1;34m(self)\u001b[0m\n\u001b[0;32m    183\u001b[0m         \u001b[1;32mfor\u001b[0m \u001b[0mprovider\u001b[0m \u001b[1;32min\u001b[0m \u001b[0mreversed\u001b[0m\u001b[1;33m(\u001b[0m\u001b[0mself\u001b[0m\u001b[1;33m.\u001b[0m\u001b[0minput_providers\u001b[0m\u001b[1;33m[\u001b[0m\u001b[1;33m:\u001b[0m\u001b[1;33m]\u001b[0m\u001b[1;33m)\u001b[0m\u001b[1;33m:\u001b[0m\u001b[1;33m\u001b[0m\u001b[0m\n\u001b[1;32m--> 184\u001b[1;33m             \u001b[0mprovider\u001b[0m\u001b[1;33m.\u001b[0m\u001b[0mstop\u001b[0m\u001b[1;33m(\u001b[0m\u001b[1;33m)\u001b[0m\u001b[1;33m\u001b[0m\u001b[0m\n\u001b[0m\u001b[0;32m    185\u001b[0m             \u001b[1;32mif\u001b[0m \u001b[0mprovider\u001b[0m \u001b[1;32min\u001b[0m \u001b[0mself\u001b[0m\u001b[1;33m.\u001b[0m\u001b[0minput_providers_autoremove\u001b[0m\u001b[1;33m:\u001b[0m\u001b[1;33m\u001b[0m\u001b[0m\n",
      "\u001b[1;32m~\\Anaconda3\\lib\\site-packages\\kivy\\input\\providers\\wm_pen.py\u001b[0m in \u001b[0;36mstop\u001b[1;34m(self)\u001b[0m\n\u001b[0;32m    110\u001b[0m             \u001b[0mself\u001b[0m\u001b[1;33m.\u001b[0m\u001b[0mpen\u001b[0m \u001b[1;33m=\u001b[0m \u001b[1;32mNone\u001b[0m\u001b[1;33m\u001b[0m\u001b[0m\n\u001b[1;32m--> 111\u001b[1;33m             \u001b[0mSetWindowLong_WndProc_wrapper\u001b[0m\u001b[1;33m(\u001b[0m\u001b[0mself\u001b[0m\u001b[1;33m.\u001b[0m\u001b[0mhwnd\u001b[0m\u001b[1;33m,\u001b[0m \u001b[0mself\u001b[0m\u001b[1;33m.\u001b[0m\u001b[0mold_windProc\u001b[0m\u001b[1;33m)\u001b[0m\u001b[1;33m\u001b[0m\u001b[0m\n\u001b[0m\u001b[0;32m    112\u001b[0m \u001b[1;33m\u001b[0m\u001b[0m\n",
      "\u001b[1;32m~\\Anaconda3\\lib\\site-packages\\kivy\\input\\providers\\wm_common.py\u001b[0m in \u001b[0;36m_closure\u001b[1;34m(hWnd, wndProc)\u001b[0m\n\u001b[0;32m    121\u001b[0m         \u001b[1;32mdef\u001b[0m \u001b[0m_closure\u001b[0m\u001b[1;33m(\u001b[0m\u001b[0mhWnd\u001b[0m\u001b[1;33m,\u001b[0m \u001b[0mwndProc\u001b[0m\u001b[1;33m)\u001b[0m\u001b[1;33m:\u001b[0m\u001b[1;33m\u001b[0m\u001b[0m\n\u001b[1;32m--> 122\u001b[1;33m             \u001b[0moldAddr\u001b[0m \u001b[1;33m=\u001b[0m \u001b[0mfunc\u001b[0m\u001b[1;33m(\u001b[0m\u001b[0mhWnd\u001b[0m\u001b[1;33m,\u001b[0m \u001b[0mGWL_WNDPROC\u001b[0m\u001b[1;33m,\u001b[0m \u001b[0mcast\u001b[0m\u001b[1;33m(\u001b[0m\u001b[0mwndProc\u001b[0m\u001b[1;33m,\u001b[0m \u001b[0mc_void_p\u001b[0m\u001b[1;33m)\u001b[0m\u001b[1;33m.\u001b[0m\u001b[0mvalue\u001b[0m\u001b[1;33m)\u001b[0m\u001b[1;33m\u001b[0m\u001b[0m\n\u001b[0m\u001b[0;32m    123\u001b[0m             \u001b[1;32mreturn\u001b[0m \u001b[0mcast\u001b[0m\u001b[1;33m(\u001b[0m\u001b[0mc_void_p\u001b[0m\u001b[1;33m(\u001b[0m\u001b[0moldAddr\u001b[0m\u001b[1;33m)\u001b[0m\u001b[1;33m,\u001b[0m \u001b[0mWNDPROC\u001b[0m\u001b[1;33m)\u001b[0m\u001b[1;33m\u001b[0m\u001b[0m\n",
      "\u001b[1;31mArgumentError\u001b[0m: argument 3: <class 'TypeError'>: wrong type",
      "\nDuring handling of the above exception, another exception occurred:\n",
      "\u001b[1;31mArgumentError\u001b[0m                             Traceback (most recent call last)",
      "\u001b[1;32m~\\Anaconda3\\lib\\site-packages\\kivy\\base.py\u001b[0m in \u001b[0;36mrunTouchApp\u001b[1;34m(widget, slave)\u001b[0m\n\u001b[0;32m    503\u001b[0m         \u001b[1;32melse\u001b[0m\u001b[1;33m:\u001b[0m\u001b[1;33m\u001b[0m\u001b[0m\n\u001b[1;32m--> 504\u001b[1;33m             \u001b[0mEventLoop\u001b[0m\u001b[1;33m.\u001b[0m\u001b[0mwindow\u001b[0m\u001b[1;33m.\u001b[0m\u001b[0mmainloop\u001b[0m\u001b[1;33m(\u001b[0m\u001b[1;33m)\u001b[0m\u001b[1;33m\u001b[0m\u001b[0m\n\u001b[0m\u001b[0;32m    505\u001b[0m     \u001b[1;32mfinally\u001b[0m\u001b[1;33m:\u001b[0m\u001b[1;33m\u001b[0m\u001b[0m\n",
      "\u001b[1;32m~\\Anaconda3\\lib\\site-packages\\kivy\\core\\window\\window_sdl2.py\u001b[0m in \u001b[0;36mmainloop\u001b[1;34m(self)\u001b[0m\n\u001b[0;32m    750\u001b[0m                 \u001b[1;32mif\u001b[0m \u001b[0mr\u001b[0m \u001b[1;33m==\u001b[0m \u001b[0mExceptionManager\u001b[0m\u001b[1;33m.\u001b[0m\u001b[0mRAISE\u001b[0m\u001b[1;33m:\u001b[0m\u001b[1;33m\u001b[0m\u001b[0m\n\u001b[1;32m--> 751\u001b[1;33m                     \u001b[0mstopTouchApp\u001b[0m\u001b[1;33m(\u001b[0m\u001b[1;33m)\u001b[0m\u001b[1;33m\u001b[0m\u001b[0m\n\u001b[0m\u001b[0;32m    752\u001b[0m                     \u001b[1;32mraise\u001b[0m\u001b[1;33m\u001b[0m\u001b[0m\n",
      "\u001b[1;32m~\\Anaconda3\\lib\\site-packages\\kivy\\base.py\u001b[0m in \u001b[0;36mstopTouchApp\u001b[1;34m()\u001b[0m\n\u001b[0;32m    520\u001b[0m     \u001b[0mLogger\u001b[0m\u001b[1;33m.\u001b[0m\u001b[0minfo\u001b[0m\u001b[1;33m(\u001b[0m\u001b[1;34m'Base: Leaving application in progress...'\u001b[0m\u001b[1;33m)\u001b[0m\u001b[1;33m\u001b[0m\u001b[0m\n\u001b[1;32m--> 521\u001b[1;33m     \u001b[0mEventLoop\u001b[0m\u001b[1;33m.\u001b[0m\u001b[0mclose\u001b[0m\u001b[1;33m(\u001b[0m\u001b[1;33m)\u001b[0m\u001b[1;33m\u001b[0m\u001b[0m\n\u001b[0m",
      "\u001b[1;32m~\\Anaconda3\\lib\\site-packages\\kivy\\base.py\u001b[0m in \u001b[0;36mclose\u001b[1;34m(self)\u001b[0m\n\u001b[0;32m    171\u001b[0m         \u001b[0mself\u001b[0m\u001b[1;33m.\u001b[0m\u001b[0mquit\u001b[0m \u001b[1;33m=\u001b[0m \u001b[1;32mTrue\u001b[0m\u001b[1;33m\u001b[0m\u001b[0m\n\u001b[1;32m--> 172\u001b[1;33m         \u001b[0mself\u001b[0m\u001b[1;33m.\u001b[0m\u001b[0mstop\u001b[0m\u001b[1;33m(\u001b[0m\u001b[1;33m)\u001b[0m\u001b[1;33m\u001b[0m\u001b[0m\n\u001b[0m\u001b[0;32m    173\u001b[0m         \u001b[0mself\u001b[0m\u001b[1;33m.\u001b[0m\u001b[0mstatus\u001b[0m \u001b[1;33m=\u001b[0m \u001b[1;34m'closed'\u001b[0m\u001b[1;33m\u001b[0m\u001b[0m\n",
      "\u001b[1;32m~\\Anaconda3\\lib\\site-packages\\kivy\\base.py\u001b[0m in \u001b[0;36mstop\u001b[1;34m(self)\u001b[0m\n\u001b[0;32m    183\u001b[0m         \u001b[1;32mfor\u001b[0m \u001b[0mprovider\u001b[0m \u001b[1;32min\u001b[0m \u001b[0mreversed\u001b[0m\u001b[1;33m(\u001b[0m\u001b[0mself\u001b[0m\u001b[1;33m.\u001b[0m\u001b[0minput_providers\u001b[0m\u001b[1;33m[\u001b[0m\u001b[1;33m:\u001b[0m\u001b[1;33m]\u001b[0m\u001b[1;33m)\u001b[0m\u001b[1;33m:\u001b[0m\u001b[1;33m\u001b[0m\u001b[0m\n\u001b[1;32m--> 184\u001b[1;33m             \u001b[0mprovider\u001b[0m\u001b[1;33m.\u001b[0m\u001b[0mstop\u001b[0m\u001b[1;33m(\u001b[0m\u001b[1;33m)\u001b[0m\u001b[1;33m\u001b[0m\u001b[0m\n\u001b[0m\u001b[0;32m    185\u001b[0m             \u001b[1;32mif\u001b[0m \u001b[0mprovider\u001b[0m \u001b[1;32min\u001b[0m \u001b[0mself\u001b[0m\u001b[1;33m.\u001b[0m\u001b[0minput_providers_autoremove\u001b[0m\u001b[1;33m:\u001b[0m\u001b[1;33m\u001b[0m\u001b[0m\n",
      "\u001b[1;32m~\\Anaconda3\\lib\\site-packages\\kivy\\input\\providers\\wm_pen.py\u001b[0m in \u001b[0;36mstop\u001b[1;34m(self)\u001b[0m\n\u001b[0;32m    110\u001b[0m             \u001b[0mself\u001b[0m\u001b[1;33m.\u001b[0m\u001b[0mpen\u001b[0m \u001b[1;33m=\u001b[0m \u001b[1;32mNone\u001b[0m\u001b[1;33m\u001b[0m\u001b[0m\n\u001b[1;32m--> 111\u001b[1;33m             \u001b[0mSetWindowLong_WndProc_wrapper\u001b[0m\u001b[1;33m(\u001b[0m\u001b[0mself\u001b[0m\u001b[1;33m.\u001b[0m\u001b[0mhwnd\u001b[0m\u001b[1;33m,\u001b[0m \u001b[0mself\u001b[0m\u001b[1;33m.\u001b[0m\u001b[0mold_windProc\u001b[0m\u001b[1;33m)\u001b[0m\u001b[1;33m\u001b[0m\u001b[0m\n\u001b[0m\u001b[0;32m    112\u001b[0m \u001b[1;33m\u001b[0m\u001b[0m\n",
      "\u001b[1;32m~\\Anaconda3\\lib\\site-packages\\kivy\\input\\providers\\wm_common.py\u001b[0m in \u001b[0;36m_closure\u001b[1;34m(hWnd, wndProc)\u001b[0m\n\u001b[0;32m    121\u001b[0m         \u001b[1;32mdef\u001b[0m \u001b[0m_closure\u001b[0m\u001b[1;33m(\u001b[0m\u001b[0mhWnd\u001b[0m\u001b[1;33m,\u001b[0m \u001b[0mwndProc\u001b[0m\u001b[1;33m)\u001b[0m\u001b[1;33m:\u001b[0m\u001b[1;33m\u001b[0m\u001b[0m\n\u001b[1;32m--> 122\u001b[1;33m             \u001b[0moldAddr\u001b[0m \u001b[1;33m=\u001b[0m \u001b[0mfunc\u001b[0m\u001b[1;33m(\u001b[0m\u001b[0mhWnd\u001b[0m\u001b[1;33m,\u001b[0m \u001b[0mGWL_WNDPROC\u001b[0m\u001b[1;33m,\u001b[0m \u001b[0mcast\u001b[0m\u001b[1;33m(\u001b[0m\u001b[0mwndProc\u001b[0m\u001b[1;33m,\u001b[0m \u001b[0mc_void_p\u001b[0m\u001b[1;33m)\u001b[0m\u001b[1;33m.\u001b[0m\u001b[0mvalue\u001b[0m\u001b[1;33m)\u001b[0m\u001b[1;33m\u001b[0m\u001b[0m\n\u001b[0m\u001b[0;32m    123\u001b[0m             \u001b[1;32mreturn\u001b[0m \u001b[0mcast\u001b[0m\u001b[1;33m(\u001b[0m\u001b[0mc_void_p\u001b[0m\u001b[1;33m(\u001b[0m\u001b[0moldAddr\u001b[0m\u001b[1;33m)\u001b[0m\u001b[1;33m,\u001b[0m \u001b[0mWNDPROC\u001b[0m\u001b[1;33m)\u001b[0m\u001b[1;33m\u001b[0m\u001b[0m\n",
      "\u001b[1;31mArgumentError\u001b[0m: argument 3: <class 'TypeError'>: wrong type",
      "\nDuring handling of the above exception, another exception occurred:\n",
      "\u001b[1;31mArgumentError\u001b[0m                             Traceback (most recent call last)",
      "\u001b[1;32m<ipython-input-25-09d654eefce3>\u001b[0m in \u001b[0;36m<module>\u001b[1;34m()\u001b[0m\n\u001b[0;32m     18\u001b[0m \u001b[1;33m\u001b[0m\u001b[0m\n\u001b[0;32m     19\u001b[0m \u001b[1;32mif\u001b[0m \u001b[0m__name__\u001b[0m \u001b[1;33m==\u001b[0m \u001b[1;34m\"__main__\"\u001b[0m\u001b[1;33m:\u001b[0m\u001b[1;33m\u001b[0m\u001b[0m\n\u001b[1;32m---> 20\u001b[1;33m     \u001b[0mMyApp\u001b[0m\u001b[1;33m(\u001b[0m\u001b[1;33m)\u001b[0m\u001b[1;33m.\u001b[0m\u001b[0mrun\u001b[0m\u001b[1;33m(\u001b[0m\u001b[1;33m)\u001b[0m\u001b[1;33m\u001b[0m\u001b[0m\n\u001b[0m",
      "\u001b[1;32m~\\Anaconda3\\lib\\site-packages\\kivy\\app.py\u001b[0m in \u001b[0;36mrun\u001b[1;34m(self)\u001b[0m\n\u001b[0;32m    853\u001b[0m \u001b[1;33m\u001b[0m\u001b[0m\n\u001b[0;32m    854\u001b[0m         \u001b[0mself\u001b[0m\u001b[1;33m.\u001b[0m\u001b[0mdispatch\u001b[0m\u001b[1;33m(\u001b[0m\u001b[1;34m'on_start'\u001b[0m\u001b[1;33m)\u001b[0m\u001b[1;33m\u001b[0m\u001b[0m\n\u001b[1;32m--> 855\u001b[1;33m         \u001b[0mrunTouchApp\u001b[0m\u001b[1;33m(\u001b[0m\u001b[1;33m)\u001b[0m\u001b[1;33m\u001b[0m\u001b[0m\n\u001b[0m\u001b[0;32m    856\u001b[0m         \u001b[0mself\u001b[0m\u001b[1;33m.\u001b[0m\u001b[0mstop\u001b[0m\u001b[1;33m(\u001b[0m\u001b[1;33m)\u001b[0m\u001b[1;33m\u001b[0m\u001b[0m\n\u001b[0;32m    857\u001b[0m \u001b[1;33m\u001b[0m\u001b[0m\n",
      "\u001b[1;32m~\\Anaconda3\\lib\\site-packages\\kivy\\base.py\u001b[0m in \u001b[0;36mrunTouchApp\u001b[1;34m(widget, slave)\u001b[0m\n\u001b[0;32m    504\u001b[0m             \u001b[0mEventLoop\u001b[0m\u001b[1;33m.\u001b[0m\u001b[0mwindow\u001b[0m\u001b[1;33m.\u001b[0m\u001b[0mmainloop\u001b[0m\u001b[1;33m(\u001b[0m\u001b[1;33m)\u001b[0m\u001b[1;33m\u001b[0m\u001b[0m\n\u001b[0;32m    505\u001b[0m     \u001b[1;32mfinally\u001b[0m\u001b[1;33m:\u001b[0m\u001b[1;33m\u001b[0m\u001b[0m\n\u001b[1;32m--> 506\u001b[1;33m         \u001b[0mstopTouchApp\u001b[0m\u001b[1;33m(\u001b[0m\u001b[1;33m)\u001b[0m\u001b[1;33m\u001b[0m\u001b[0m\n\u001b[0m\u001b[0;32m    507\u001b[0m \u001b[1;33m\u001b[0m\u001b[0m\n\u001b[0;32m    508\u001b[0m \u001b[1;33m\u001b[0m\u001b[0m\n",
      "\u001b[1;32m~\\Anaconda3\\lib\\site-packages\\kivy\\base.py\u001b[0m in \u001b[0;36mstopTouchApp\u001b[1;34m()\u001b[0m\n\u001b[0;32m    519\u001b[0m         \u001b[1;32mreturn\u001b[0m\u001b[1;33m\u001b[0m\u001b[0m\n\u001b[0;32m    520\u001b[0m     \u001b[0mLogger\u001b[0m\u001b[1;33m.\u001b[0m\u001b[0minfo\u001b[0m\u001b[1;33m(\u001b[0m\u001b[1;34m'Base: Leaving application in progress...'\u001b[0m\u001b[1;33m)\u001b[0m\u001b[1;33m\u001b[0m\u001b[0m\n\u001b[1;32m--> 521\u001b[1;33m     \u001b[0mEventLoop\u001b[0m\u001b[1;33m.\u001b[0m\u001b[0mclose\u001b[0m\u001b[1;33m(\u001b[0m\u001b[1;33m)\u001b[0m\u001b[1;33m\u001b[0m\u001b[0m\n\u001b[0m",
      "\u001b[1;32m~\\Anaconda3\\lib\\site-packages\\kivy\\base.py\u001b[0m in \u001b[0;36mclose\u001b[1;34m(self)\u001b[0m\n\u001b[0;32m    170\u001b[0m         input providers.'''\n\u001b[0;32m    171\u001b[0m         \u001b[0mself\u001b[0m\u001b[1;33m.\u001b[0m\u001b[0mquit\u001b[0m \u001b[1;33m=\u001b[0m \u001b[1;32mTrue\u001b[0m\u001b[1;33m\u001b[0m\u001b[0m\n\u001b[1;32m--> 172\u001b[1;33m         \u001b[0mself\u001b[0m\u001b[1;33m.\u001b[0m\u001b[0mstop\u001b[0m\u001b[1;33m(\u001b[0m\u001b[1;33m)\u001b[0m\u001b[1;33m\u001b[0m\u001b[0m\n\u001b[0m\u001b[0;32m    173\u001b[0m         \u001b[0mself\u001b[0m\u001b[1;33m.\u001b[0m\u001b[0mstatus\u001b[0m \u001b[1;33m=\u001b[0m \u001b[1;34m'closed'\u001b[0m\u001b[1;33m\u001b[0m\u001b[0m\n\u001b[0;32m    174\u001b[0m \u001b[1;33m\u001b[0m\u001b[0m\n",
      "\u001b[1;32m~\\Anaconda3\\lib\\site-packages\\kivy\\base.py\u001b[0m in \u001b[0;36mstop\u001b[1;34m(self)\u001b[0m\n\u001b[0;32m    182\u001b[0m         \u001b[1;31m# problem happens, crashing badly without error\u001b[0m\u001b[1;33m\u001b[0m\u001b[1;33m\u001b[0m\u001b[0m\n\u001b[0;32m    183\u001b[0m         \u001b[1;32mfor\u001b[0m \u001b[0mprovider\u001b[0m \u001b[1;32min\u001b[0m \u001b[0mreversed\u001b[0m\u001b[1;33m(\u001b[0m\u001b[0mself\u001b[0m\u001b[1;33m.\u001b[0m\u001b[0minput_providers\u001b[0m\u001b[1;33m[\u001b[0m\u001b[1;33m:\u001b[0m\u001b[1;33m]\u001b[0m\u001b[1;33m)\u001b[0m\u001b[1;33m:\u001b[0m\u001b[1;33m\u001b[0m\u001b[0m\n\u001b[1;32m--> 184\u001b[1;33m             \u001b[0mprovider\u001b[0m\u001b[1;33m.\u001b[0m\u001b[0mstop\u001b[0m\u001b[1;33m(\u001b[0m\u001b[1;33m)\u001b[0m\u001b[1;33m\u001b[0m\u001b[0m\n\u001b[0m\u001b[0;32m    185\u001b[0m             \u001b[1;32mif\u001b[0m \u001b[0mprovider\u001b[0m \u001b[1;32min\u001b[0m \u001b[0mself\u001b[0m\u001b[1;33m.\u001b[0m\u001b[0minput_providers_autoremove\u001b[0m\u001b[1;33m:\u001b[0m\u001b[1;33m\u001b[0m\u001b[0m\n\u001b[0;32m    186\u001b[0m                 \u001b[0mself\u001b[0m\u001b[1;33m.\u001b[0m\u001b[0minput_providers_autoremove\u001b[0m\u001b[1;33m.\u001b[0m\u001b[0mremove\u001b[0m\u001b[1;33m(\u001b[0m\u001b[0mprovider\u001b[0m\u001b[1;33m)\u001b[0m\u001b[1;33m\u001b[0m\u001b[0m\n",
      "\u001b[1;32m~\\Anaconda3\\lib\\site-packages\\kivy\\input\\providers\\wm_pen.py\u001b[0m in \u001b[0;36mstop\u001b[1;34m(self)\u001b[0m\n\u001b[0;32m    109\u001b[0m         \u001b[1;32mdef\u001b[0m \u001b[0mstop\u001b[0m\u001b[1;33m(\u001b[0m\u001b[0mself\u001b[0m\u001b[1;33m)\u001b[0m\u001b[1;33m:\u001b[0m\u001b[1;33m\u001b[0m\u001b[0m\n\u001b[0;32m    110\u001b[0m             \u001b[0mself\u001b[0m\u001b[1;33m.\u001b[0m\u001b[0mpen\u001b[0m \u001b[1;33m=\u001b[0m \u001b[1;32mNone\u001b[0m\u001b[1;33m\u001b[0m\u001b[0m\n\u001b[1;32m--> 111\u001b[1;33m             \u001b[0mSetWindowLong_WndProc_wrapper\u001b[0m\u001b[1;33m(\u001b[0m\u001b[0mself\u001b[0m\u001b[1;33m.\u001b[0m\u001b[0mhwnd\u001b[0m\u001b[1;33m,\u001b[0m \u001b[0mself\u001b[0m\u001b[1;33m.\u001b[0m\u001b[0mold_windProc\u001b[0m\u001b[1;33m)\u001b[0m\u001b[1;33m\u001b[0m\u001b[0m\n\u001b[0m\u001b[0;32m    112\u001b[0m \u001b[1;33m\u001b[0m\u001b[0m\n\u001b[0;32m    113\u001b[0m     \u001b[0mMotionEventFactory\u001b[0m\u001b[1;33m.\u001b[0m\u001b[0mregister\u001b[0m\u001b[1;33m(\u001b[0m\u001b[1;34m'wm_pen'\u001b[0m\u001b[1;33m,\u001b[0m \u001b[0mWM_PenProvider\u001b[0m\u001b[1;33m)\u001b[0m\u001b[1;33m\u001b[0m\u001b[0m\n",
      "\u001b[1;32m~\\Anaconda3\\lib\\site-packages\\kivy\\input\\providers\\wm_common.py\u001b[0m in \u001b[0;36m_closure\u001b[1;34m(hWnd, wndProc)\u001b[0m\n\u001b[0;32m    120\u001b[0m     \u001b[1;32mdef\u001b[0m \u001b[0mSetWindowLong_WndProc_wrapper_generator\u001b[0m\u001b[1;33m(\u001b[0m\u001b[0mfunc\u001b[0m\u001b[1;33m)\u001b[0m\u001b[1;33m:\u001b[0m\u001b[1;33m\u001b[0m\u001b[0m\n\u001b[0;32m    121\u001b[0m         \u001b[1;32mdef\u001b[0m \u001b[0m_closure\u001b[0m\u001b[1;33m(\u001b[0m\u001b[0mhWnd\u001b[0m\u001b[1;33m,\u001b[0m \u001b[0mwndProc\u001b[0m\u001b[1;33m)\u001b[0m\u001b[1;33m:\u001b[0m\u001b[1;33m\u001b[0m\u001b[0m\n\u001b[1;32m--> 122\u001b[1;33m             \u001b[0moldAddr\u001b[0m \u001b[1;33m=\u001b[0m \u001b[0mfunc\u001b[0m\u001b[1;33m(\u001b[0m\u001b[0mhWnd\u001b[0m\u001b[1;33m,\u001b[0m \u001b[0mGWL_WNDPROC\u001b[0m\u001b[1;33m,\u001b[0m \u001b[0mcast\u001b[0m\u001b[1;33m(\u001b[0m\u001b[0mwndProc\u001b[0m\u001b[1;33m,\u001b[0m \u001b[0mc_void_p\u001b[0m\u001b[1;33m)\u001b[0m\u001b[1;33m.\u001b[0m\u001b[0mvalue\u001b[0m\u001b[1;33m)\u001b[0m\u001b[1;33m\u001b[0m\u001b[0m\n\u001b[0m\u001b[0;32m    123\u001b[0m             \u001b[1;32mreturn\u001b[0m \u001b[0mcast\u001b[0m\u001b[1;33m(\u001b[0m\u001b[0mc_void_p\u001b[0m\u001b[1;33m(\u001b[0m\u001b[0moldAddr\u001b[0m\u001b[1;33m)\u001b[0m\u001b[1;33m,\u001b[0m \u001b[0mWNDPROC\u001b[0m\u001b[1;33m)\u001b[0m\u001b[1;33m\u001b[0m\u001b[0m\n\u001b[0;32m    124\u001b[0m \u001b[1;33m\u001b[0m\u001b[0m\n",
      "\u001b[1;31mArgumentError\u001b[0m: argument 3: <class 'TypeError'>: wrong type"
     ]
    }
   ],
   "source": [
    "import kivy\n",
    "from kivy.app import App\n",
    "from kivy.uix.label import Label\n",
    "from kivy.uix.gridlayout import GridLayout\n",
    "from kivy.uix.textinput import TextInput\n",
    "\n",
    "class MyGrid(GridLayout):\n",
    "    def __init__(self, **kwargs):\n",
    "        super(MyGrid, self).__init__(**kwargs)\n",
    "        self.cols = 2\n",
    "        self.add_widget(Label(text=\"Name: \"))  # Add a label widget \n",
    "        self.name = TextInput(multiline=False)  # Create a Text input box stored in the name variable\n",
    "        self.add_widget(self.name)  # Add the text input widget to the GUI\n",
    "\n",
    "class MyApp(App):\n",
    "    def build(self):\n",
    "        return MyGrid()\n",
    "    \n",
    "if __name__ == \"__main__\":\n",
    "    MyApp().run()"
   ]
  },
  {
   "cell_type": "markdown",
   "metadata": {},
   "source": [
    "## Adding More Widgets"
   ]
  },
  {
   "cell_type": "markdown",
   "metadata": {},
   "source": [
    "Adding more widgets is fairly straight forward. We can simply copy the code we've already written and modify a few names."
   ]
  },
  {
   "cell_type": "code",
   "execution_count": 1,
   "metadata": {},
   "outputs": [
    {
     "name": "stderr",
     "output_type": "stream",
     "text": [
      "[INFO   ] [Logger      ] Record log in C:\\Users\\jaskirat\\.kivy\\logs\\kivy_19-06-09_8.txt\n",
      "[INFO   ] [Kivy        ] v1.11.0\n",
      "[INFO   ] [Kivy        ] Installed at \"C:\\Users\\jaskirat\\AppData\\Roaming\\Python\\Python36\\site-packages\\kivy\\__init__.py\"\n",
      "[INFO   ] [Python      ] v3.6.6 |Anaconda custom (64-bit)| (default, Jun 28 2018, 11:27:44) [MSC v.1900 64 bit (AMD64)]\n",
      "[INFO   ] [Python      ] Interpreter at \"C:\\Users\\jaskirat\\Anaconda3\\python.exe\"\n",
      "[INFO   ] [deps        ] Successfully imported \"kivy_deps.gstreamer\" 0.1.17\n",
      "[INFO   ] [deps        ] Successfully imported \"kivy_deps.angle\" 0.1.9\n",
      "[INFO   ] [deps        ] Successfully imported \"kivy_deps.glew\" 0.1.12\n",
      "[INFO   ] [deps        ] Successfully imported \"kivy_deps.sdl2\" 0.1.22\n",
      "[INFO   ] [Factory     ] 184 symbols loaded\n",
      "[INFO   ] [Image       ] Providers: img_tex, img_dds, img_sdl2, img_pil, img_gif (img_ffpyplayer ignored)\n",
      "[INFO   ] [Text        ] Provider: sdl2\n",
      "[INFO   ] [Window      ] Provider: sdl2\n",
      "[INFO   ] [GL          ] Using the \"OpenGL\" graphics system\n",
      "[INFO   ] [GL          ] GLEW initialization succeeded\n",
      "[INFO   ] [GL          ] Backend used <glew>\n",
      "[INFO   ] [GL          ] OpenGL version <b'4.5.0 - Build 24.20.100.6286'>\n",
      "[INFO   ] [GL          ] OpenGL vendor <b'Intel'>\n",
      "[INFO   ] [GL          ] OpenGL renderer <b'Intel(R) UHD Graphics 620'>\n",
      "[INFO   ] [GL          ] OpenGL parsed version: 4, 5\n",
      "[INFO   ] [GL          ] Shading version <b'4.50 - Build 24.20.100.6286'>\n",
      "[INFO   ] [GL          ] Texture max size <16384>\n",
      "[INFO   ] [GL          ] Texture max units <32>\n",
      "[INFO   ] [Window      ] auto add sdl2 input provider\n",
      "[INFO   ] [Window      ] virtual keyboard not allowed, single mode, not docked\n",
      "[INFO   ] [Base        ] Start application main loop\n",
      "[INFO   ] [GL          ] NPOT texture support is available\n",
      "[INFO   ] [Base        ] Leaving application in progress...\n",
      "[INFO   ] [WindowSDL   ] exiting mainloop and closing.\n",
      "[INFO   ] [Base        ] Start application main loop\n",
      "[ERROR  ] [Base        ] No event listeners have been created\n",
      "[ERROR  ] [Base        ] Application will leave\n",
      "[INFO   ] [Base        ] Leaving application in progress...\n",
      "[INFO   ] [Base        ] Leaving application in progress...\n"
     ]
    }
   ],
   "source": [
    "import kivy\n",
    "from kivy.app import App\n",
    "from kivy.uix.label import Label\n",
    "from kivy.uix.gridlayout import GridLayout\n",
    "from kivy.uix.textinput import TextInput\n",
    "\n",
    "class MyGrid(GridLayout):\n",
    "    def __init__(self, **kwargs):\n",
    "        super(MyGrid, self).__init__(**kwargs)\n",
    "        self.cols = 2\n",
    "\n",
    "        self.add_widget(Label(text=\"First Name: \"))\n",
    "        self.name = TextInput(multiline=False)\n",
    "        self.add_widget(self.name)\n",
    "\n",
    "        self.add_widget(Label(text=\"Last Name: \"))\n",
    "        self.lastName = TextInput(multiline=False)\n",
    "        self.add_widget(self.lastName)\n",
    "\n",
    "        self.add_widget(Label(text=\"Email: \"))\n",
    "        self.email = TextInput(multiline=False)\n",
    "        self.add_widget(self.email)\n",
    "        pass\n",
    "    pass\n",
    "\n",
    "class MyApp(App):\n",
    "    def build(self):\n",
    "        return MyGrid()\n",
    "    \n",
    "if __name__ == \"__main__\":\n",
    "    MyApp().run()"
   ]
  },
  {
   "cell_type": "markdown",
   "metadata": {},
   "source": [
    "## Creating Buttons & Triggering Events"
   ]
  },
  {
   "cell_type": "markdown",
   "metadata": {},
   "source": [
    "In this kivy tutorial I will go over how to create buttons and trigger events when those buttons are clicked. I will also talk about creating multiple grid layouts to better display our widgets."
   ]
  },
  {
   "cell_type": "markdown",
   "metadata": {},
   "source": [
    "Importing Modules\n"
   ]
  },
  {
   "cell_type": "markdown",
   "metadata": {},
   "source": [
    "The first thing we need to do is import Button from kivy.uix.button.\n",
    "\n"
   ]
  },
  {
   "cell_type": "code",
   "execution_count": 2,
   "metadata": {},
   "outputs": [],
   "source": [
    "import kivy\n",
    "from kivy.app import App\n",
    "from kivy.uix.label import Label\n",
    "from kivy.uix.gridlayout import GridLayout\n",
    "from kivy.uix.textinput import TextInput\n",
    "from kivy.uix.button import Button\n",
    "\n",
    "class MyGrid(GridLayout):\n",
    "    def __init__(self, **kwargs):\n",
    "        super(MyGrid, self).__init__(**kwargs)\n",
    "        self.cols = 2\n",
    "\n",
    "        self.add_widget(Label(text=\"First Name: \"))\n",
    "        self.name = TextInput(multiline=False)\n",
    "        self.add_widget(self.name)\n",
    "\n",
    "        self.add_widget(Label(text=\"Last Name: \"))\n",
    "        self.lastName = TextInput(multiline=False)\n",
    "        self.add_widget(self.lastName)\n",
    "\n",
    "        self.add_widget(Label(text=\"Email: \"))\n",
    "        self.email = TextInput(multiline=False)\n",
    "        self.add_widget(self.email)\n",
    "        self.submit = Button(text=\"Submit\", font_size=40)  \n",
    "        self.add_widget(self.submit)\n",
    "        # Adding this inside the __init__ of the class will create a button for us\n",
    "\n",
    "        pass\n",
    "    pass\n",
    "\n",
    "class MyApp(App):\n",
    "    def build(self):\n",
    "        return MyGrid()\n",
    "    \n",
    "if __name__ == \"__main__\":\n",
    "    MyApp().run()"
   ]
  },
  {
   "cell_type": "markdown",
   "metadata": {},
   "source": [
    "Creating a Button\n",
    "Creating a button can be done in a similar way to creating a text input box. To do so we simply declare a variable to hold our button and then add that to the grid layout."
   ]
  },
  {
   "cell_type": "markdown",
   "metadata": {},
   "source": [
    "## Multiple Layouts"
   ]
  },
  {
   "cell_type": "markdown",
   "metadata": {},
   "source": [
    "The reason why our button is not centered is because we are using one grid layout that has 2 rows. This means when we add a button it is slotted in the first column of the forth row. A clever way of fixing this is by creating multiple grid layouts.\n",
    "\n",
    "We can add all of the labels and text input boxes into a layout with two columns and then add that layout into another layout that only contains one column. We would also add our button into the layout with only one column so that it spans the entire bottom of the screen. Essentially we are going to be using two grid layouts and placing one inside of the other.\n",
    "\n",
    "To do this we need to create another grid layout inside of our class and call it inside and add the appropriate widgets to it."
   ]
  },
  {
   "cell_type": "code",
   "execution_count": 3,
   "metadata": {},
   "outputs": [],
   "source": [
    "class MyGrid(GridLayout):\n",
    "    def __init__(self, **kwargs):\n",
    "        super(MyGrid, self).__init__(**kwargs)\n",
    "        self.cols = 1 # Set columns for main layout\n",
    "\n",
    "        self.inside = GridLayout() # Create a new grid layout\n",
    "        self.inside.cols = 2 # set columns for the new grid layout\n",
    "\n",
    "        # ALL OF THESE ARE APART OF THE (INTERIOR)NEW LAYOUT\n",
    "        self.inside.add_widget(Label(text=\"First Name: \"))\n",
    "        self.name = TextInput(multiline=False)\n",
    "        self.inside.add_widget(self.name)\n",
    "\n",
    "        self.inside.add_widget(Label(text=\"Last Name: \"))\n",
    "        self.lastName = TextInput(multiline=False)\n",
    "        self.inside.add_widget(self.lastName)\n",
    "\n",
    "        self.inside.add_widget(Label(text=\"Email: \"))\n",
    "        self.email = TextInput(multiline=False)\n",
    "        self.inside.add_widget(self.email)\n",
    "        #-------------------------------------------------\n",
    "\n",
    "        self.add_widget(self.inside) # Add the interior layout to the main\n",
    "\n",
    "        self.submit = Button(text=\"Submit\", font_size=40)\n",
    "       \n",
    "        self.add_widget(self.submit) # Add the button to the main layout "
   ]
  },
  {
   "cell_type": "markdown",
   "metadata": {},
   "source": [
    "## Binding Button Functions\n"
   ]
  },
  {
   "cell_type": "markdown",
   "metadata": {},
   "source": [
    "Now that we have our button added we need to add some functionality to it. In my case when the button is clicked I'd like to collect all of the information from the form and print it to the console. I'd also like to clear the form so that it can be used again.\n",
    "\n",
    "To accomplish this we need to do something called binding. We are going to bind a button to a function/method that we create so that when that button is clicked the function will run. To bind a button we use the following:"
   ]
  },
  {
   "cell_type": "raw",
   "metadata": {},
   "source": [
    "self.submit.bind(on_press=self.pressed)\n",
    "# pressed is the name of the method we want to run\n",
    "# submit is clearly the name of our button"
   ]
  },
  {
   "cell_type": "markdown",
   "metadata": {},
   "source": [
    "Now since we've bind our button to the method pressed we need to create that method.\n",
    "\n",
    "Inside of our class we will create the method pressed that contains one parameter. It is important that you include this.\n",
    "To get the value of each of the text inputs in our form we can simply access the attribute .text. Similarly to change the text."
   ]
  },
  {
   "cell_type": "raw",
   "metadata": {},
   "source": [
    "# This goes inside our class MyGrid\n",
    "def pressed(self, instance):\n",
    "    # Get the value of all of the tex inputs\n",
    "    name = self.name.text\n",
    "    last = self.lastName.text\n",
    "    email = self.email.text\n",
    "\n",
    "    # print the values to the screen\n",
    "    print(\"Name:\", name, \"Last Name:\", last, \"Email:\", email)\n",
    "\n",
    "    # Reset text to blank in each text input\n",
    "    self.name.text = \"\"\n",
    "    self.lastName.text = \"\"\n",
    "    self.email.text = \"\""
   ]
  },
  {
   "cell_type": "markdown",
   "metadata": {},
   "source": [
    "If we run the program and click the button we should see that the text inputs get cleared and our input gets printed to the console."
   ]
  },
  {
   "cell_type": "code",
   "execution_count": 1,
   "metadata": {},
   "outputs": [
    {
     "name": "stderr",
     "output_type": "stream",
     "text": [
      "[INFO   ] [Logger      ] Record log in C:\\Users\\jaskirat\\.kivy\\logs\\kivy_19-06-09_9.txt\n",
      "[INFO   ] [Kivy        ] v1.11.0\n",
      "[INFO   ] [Kivy        ] Installed at \"C:\\Users\\jaskirat\\AppData\\Roaming\\Python\\Python36\\site-packages\\kivy\\__init__.py\"\n",
      "[INFO   ] [Python      ] v3.6.6 |Anaconda custom (64-bit)| (default, Jun 28 2018, 11:27:44) [MSC v.1900 64 bit (AMD64)]\n",
      "[INFO   ] [Python      ] Interpreter at \"C:\\Users\\jaskirat\\Anaconda3\\python.exe\"\n",
      "[INFO   ] [deps        ] Successfully imported \"kivy_deps.gstreamer\" 0.1.17\n",
      "[INFO   ] [deps        ] Successfully imported \"kivy_deps.angle\" 0.1.9\n",
      "[INFO   ] [deps        ] Successfully imported \"kivy_deps.glew\" 0.1.12\n",
      "[INFO   ] [deps        ] Successfully imported \"kivy_deps.sdl2\" 0.1.22\n",
      "[INFO   ] [Factory     ] 184 symbols loaded\n",
      "[INFO   ] [Image       ] Providers: img_tex, img_dds, img_sdl2, img_pil, img_gif (img_ffpyplayer ignored)\n",
      "[INFO   ] [Text        ] Provider: sdl2\n",
      "[INFO   ] [Window      ] Provider: sdl2\n",
      "[INFO   ] [GL          ] Using the \"OpenGL\" graphics system\n",
      "[INFO   ] [GL          ] GLEW initialization succeeded\n",
      "[INFO   ] [GL          ] Backend used <glew>\n",
      "[INFO   ] [GL          ] OpenGL version <b'4.5.0 - Build 24.20.100.6286'>\n",
      "[INFO   ] [GL          ] OpenGL vendor <b'Intel'>\n",
      "[INFO   ] [GL          ] OpenGL renderer <b'Intel(R) UHD Graphics 620'>\n",
      "[INFO   ] [GL          ] OpenGL parsed version: 4, 5\n",
      "[INFO   ] [GL          ] Shading version <b'4.50 - Build 24.20.100.6286'>\n",
      "[INFO   ] [GL          ] Texture max size <16384>\n",
      "[INFO   ] [GL          ] Texture max units <32>\n",
      "[INFO   ] [Window      ] auto add sdl2 input provider\n",
      "[INFO   ] [Window      ] virtual keyboard not allowed, single mode, not docked\n",
      "[INFO   ] [Base        ] Start application main loop\n",
      "[INFO   ] [GL          ] NPOT texture support is available\n"
     ]
    },
    {
     "name": "stdout",
     "output_type": "stream",
     "text": [
      "Name: jaskirat Last Name: singh Email: jkrt.ngh69@gmail.com\n",
      "Name: jas Last Name: sh Email: s@.com\n"
     ]
    },
    {
     "name": "stderr",
     "output_type": "stream",
     "text": [
      "[INFO   ] [Base        ] Leaving application in progress...\n",
      "[INFO   ] [WindowSDL   ] exiting mainloop and closing.\n",
      "[INFO   ] [Base        ] Start application main loop\n",
      "[ERROR  ] [Base        ] No event listeners have been created\n",
      "[ERROR  ] [Base        ] Application will leave\n",
      "[INFO   ] [Base        ] Leaving application in progress...\n",
      "[INFO   ] [Base        ] Leaving application in progress...\n"
     ]
    }
   ],
   "source": [
    "import kivy\n",
    "from kivy.app import App\n",
    "from kivy.uix.label import Label\n",
    "from kivy.uix.gridlayout import GridLayout\n",
    "from kivy.uix.textinput import TextInput\n",
    "from kivy.uix.button import Button\n",
    "\n",
    "\n",
    "class MyGrid(GridLayout):\n",
    "    def __init__(self, **kwargs):\n",
    "        super(MyGrid, self).__init__(**kwargs)\n",
    "        self.cols = 1\n",
    "\n",
    "        self.inside = GridLayout()\n",
    "        self.inside.cols = 2\n",
    "\n",
    "        self.inside.add_widget(Label(text=\"First Name: \"))\n",
    "        self.name = TextInput(multiline=False)\n",
    "        self.inside.add_widget(self.name)\n",
    "\n",
    "        self.inside.add_widget(Label(text=\"Last Name: \"))\n",
    "        self.lastName = TextInput(multiline=False)\n",
    "        self.inside.add_widget(self.lastName)\n",
    "\n",
    "        self.inside.add_widget(Label(text=\"Email: \"))\n",
    "        self.email = TextInput(multiline=False)\n",
    "        self.inside.add_widget(self.email)\n",
    "\n",
    "        self.add_widget(self.inside)\n",
    "\n",
    "        self.submit = Button(text=\"Submit\", font_size=40)\n",
    "        self.submit.bind(on_press=self.pressed)\n",
    "        self.add_widget(self.submit)\n",
    "\n",
    "    def pressed(self, instance):\n",
    "        name = self.name.text\n",
    "        last = self.lastName.text\n",
    "        email = self.email.text\n",
    "\n",
    "        print(\"Name:\", name, \"Last Name:\", last, \"Email:\", email)\n",
    "        self.name.text = \"\"\n",
    "        self.lastName.text = \"\"\n",
    "        self.email.text = \"\"\n",
    "\n",
    "class MyApp(App):\n",
    "    def build(self):\n",
    "        return MyGrid()\n",
    "\n",
    "\n",
    "if __name__ == \"__main__\":\n",
    "    MyApp().run()"
   ]
  },
  {
   "cell_type": "markdown",
   "metadata": {},
   "source": [
    "## The kv Design Language\n"
   ]
  },
  {
   "cell_type": "markdown",
   "metadata": {},
   "source": [
    "The kv Design Language\n",
    "Up until this point we have been adding widgets to our window/app using python code. This is acceptable and works fine however there is a much easier and nicer way to do this.\n",
    "\n",
    "Kivy has something called the kv design language. You think of it as a language similar to HTML and CSS where it is responsible for styling and adding elements to the display but does not handle any logic. In this tutorial I will show you how to create a .kv file and create the graphical part of your application from within that file.\n",
    "\n",
    "Note: We still need our python script to handle the logic and load the application."
   ]
  },
  {
   "cell_type": "markdown",
   "metadata": {},
   "source": [
    "## Creating a .kv File\n"
   ]
  },
  {
   "cell_type": "markdown",
   "metadata": {},
   "source": [
    "There are a few conventions we need to follow when creating a .kv file.\n",
    "\n",
    "Naming: The name of your .kv file must follow the rules below in order for python/kivy to be able to see and load the file.\n",
    "1. It must be all lowercase\n",
    "2. It must match with the name of your main class. (The one that has the build method)\n",
    "3. If the name of your main class ends in \"app\" (lowercase or uppercase) you must not include \"app\" in your file name.\n",
    "\n",
    "File Location: The file must be in the same directory as your python script.\n",
    "\n",
    "File Extension: The file must be saved as type *All Files and end with .kv"
   ]
  },
  {
   "cell_type": "code",
   "execution_count": 1,
   "metadata": {},
   "outputs": [
    {
     "name": "stderr",
     "output_type": "stream",
     "text": [
      "[INFO   ] [Logger      ] Record log in C:\\Users\\jaskirat\\.kivy\\logs\\kivy_19-06-09_12.txt\n",
      "[INFO   ] [Kivy        ] v1.11.0\n",
      "[INFO   ] [Kivy        ] Installed at \"C:\\Users\\jaskirat\\AppData\\Roaming\\Python\\Python36\\site-packages\\kivy\\__init__.py\"\n",
      "[INFO   ] [Python      ] v3.6.6 |Anaconda custom (64-bit)| (default, Jun 28 2018, 11:27:44) [MSC v.1900 64 bit (AMD64)]\n",
      "[INFO   ] [Python      ] Interpreter at \"C:\\Users\\jaskirat\\Anaconda3\\python.exe\"\n",
      "[INFO   ] [deps        ] Successfully imported \"kivy_deps.gstreamer\" 0.1.17\n",
      "[INFO   ] [deps        ] Successfully imported \"kivy_deps.angle\" 0.1.9\n",
      "[INFO   ] [deps        ] Successfully imported \"kivy_deps.glew\" 0.1.12\n",
      "[INFO   ] [deps        ] Successfully imported \"kivy_deps.sdl2\" 0.1.22\n",
      "[INFO   ] [Factory     ] 184 symbols loaded\n",
      "[INFO   ] [Image       ] Providers: img_tex, img_dds, img_sdl2, img_pil, img_gif (img_ffpyplayer ignored)\n",
      "[INFO   ] [Text        ] Provider: sdl2\n",
      "[INFO   ] [Window      ] Provider: sdl2\n",
      "[INFO   ] [GL          ] Using the \"OpenGL\" graphics system\n",
      "[INFO   ] [GL          ] GLEW initialization succeeded\n",
      "[INFO   ] [GL          ] Backend used <glew>\n",
      "[INFO   ] [GL          ] OpenGL version <b'4.5.0 - Build 24.20.100.6286'>\n",
      "[INFO   ] [GL          ] OpenGL vendor <b'Intel'>\n",
      "[INFO   ] [GL          ] OpenGL renderer <b'Intel(R) UHD Graphics 620'>\n",
      "[INFO   ] [GL          ] OpenGL parsed version: 4, 5\n",
      "[INFO   ] [GL          ] Shading version <b'4.50 - Build 24.20.100.6286'>\n",
      "[INFO   ] [GL          ] Texture max size <16384>\n",
      "[INFO   ] [GL          ] Texture max units <32>\n",
      "[INFO   ] [Window      ] auto add sdl2 input provider\n",
      "[INFO   ] [Window      ] virtual keyboard not allowed, single mode, not docked\n",
      "[INFO   ] [Base        ] Start application main loop\n",
      "[INFO   ] [GL          ] NPOT texture support is available\n"
     ]
    },
    {
     "name": "stdout",
     "output_type": "stream",
     "text": [
      "Name: jaskirat email: jkrt.ngh69@gmail.com\n"
     ]
    },
    {
     "name": "stderr",
     "output_type": "stream",
     "text": [
      "[INFO   ] [Base        ] Leaving application in progress...\n",
      "[INFO   ] [WindowSDL   ] exiting mainloop and closing.\n"
     ]
    }
   ],
   "source": [
    "import kivy\n",
    "from kivy.app import App\n",
    "from kivy.uix.label import Label\n",
    "from kivy.uix.gridlayout import GridLayout\n",
    "from kivy.uix.textinput import TextInput\n",
    "from kivy.uix.button import Button\n",
    "from kivy.uix.widget import Widget\n",
    "from kivy.properties import ObjectProperty\n",
    "\n",
    "\n",
    "class MyGrid(Widget):\n",
    "    name = ObjectProperty(None)\n",
    "    email = ObjectProperty(None)\n",
    "\n",
    "    def btn(self):\n",
    "        print(\"Name:\", self.name.text, \"email:\", self.email.text)\n",
    "        self.name.text = \"\"\n",
    "        self.email.text = \"\"\n",
    "\n",
    "\n",
    "\n",
    "\n",
    "class MyApp(App):\n",
    "    def build(self):\n",
    "        return MyGrid()\n",
    "\n",
    "\n",
    "if __name__ == \"__main__\":\n",
    "    MyApp().run()"
   ]
  },
  {
   "cell_type": "markdown",
   "metadata": {},
   "source": [
    "If you have named your file correctly there is nothing else you need to do to ensure that it is linked with your python script."
   ]
  },
  {
   "cell_type": "markdown",
   "metadata": {},
   "source": [
    "## Setting up The Python Script\n"
   ]
  },
  {
   "cell_type": "markdown",
   "metadata": {},
   "source": [
    "Before continuing please import the following module from your python script.\n",
    "\n"
   ]
  },
  {
   "cell_type": "raw",
   "metadata": {},
   "source": [
    "from kivy.uix.widget import Widget\n"
   ]
  },
  {
   "cell_type": "markdown",
   "metadata": {},
   "source": [
    "The first thing we need to do to add widgets to our screen using .kv is set up an empty class in our python script. This class will simply inherit from Widget and will be what is used from within the kv file to add widgets."
   ]
  },
  {
   "cell_type": "raw",
   "metadata": {},
   "source": [
    "class MyGrid(Widget):\n",
    "    pass"
   ]
  },
  {
   "cell_type": "raw",
   "metadata": {},
   "source": [
    "Now ensure that your main classes build method returns an instance of MyGrid and we are ready to go."
   ]
  },
  {
   "cell_type": "raw",
   "metadata": {},
   "source": [
    "class MyApp(App):\n",
    "    def build(self):\n",
    "        return MyGrid()"
   ]
  },
  {
   "cell_type": "markdown",
   "metadata": {},
   "source": [
    "Adding Widgets From a .kv File\n",
    "Two important things to remember about .kv files:\n",
    "- Capitals are Important\n",
    "- Indentation is important\n",
    "\n",
    "The first thing we do when writing in a .kv is declare the class we will be adding widgets to. In my case it's MyGrid."
   ]
  },
  {
   "cell_type": "code",
   "execution_count": null,
   "metadata": {},
   "outputs": [],
   "source": []
  }
 ],
 "metadata": {
  "kernelspec": {
   "display_name": "Python 3.6 (tensorflow)",
   "language": "python",
   "name": "tensorflow"
  },
  "language_info": {
   "codemirror_mode": {
    "name": "ipython",
    "version": 3
   },
   "file_extension": ".py",
   "mimetype": "text/x-python",
   "name": "python",
   "nbconvert_exporter": "python",
   "pygments_lexer": "ipython3",
   "version": "3.6.6"
  }
 },
 "nbformat": 4,
 "nbformat_minor": 2
}
