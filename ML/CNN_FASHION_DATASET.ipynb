{
 "cells": [
  {
   "cell_type": "code",
   "execution_count": null,
   "metadata": {},
   "outputs": [],
   "source": [
    "http://bit.ly/2NxcW2w"
   ]
  },
  {
   "cell_type": "markdown",
   "metadata": {},
   "source": [
    "## What is a Neural Network?"
   ]
  },
  {
   "cell_type": "markdown",
   "metadata": {},
   "source": [
    "So what is a neural network? When most people hear of a neural network the think of some magical black box that is capable of solving very complicated problems. In reality a neural network is just a very fancy math formula, well kind of. A neural network is biologically inspired and named after the network of neurons that exist in your brain. A neural network is simply a group of connected neurons, there are some input neurons, some output neurons and a group of what we call hidden neurons in between. When we feed information to the input neurons we get some information from the output neurons. Information starts at the input neurons and travels to the next layers of neurons having whats called a weight and a bias applied to it. These weight and biases start out randomly determined and are tweaked as the network learns and sees more data. After reaching a new layer there is a function applied to each neurons value that is called an activation function."
   ]
  },
  {
   "cell_type": "markdown",
   "metadata": {},
   "source": [
    "https://techwithtim.net/wp-content/uploads/2019/05/1_3w6P6OHcU3j0T_lRUmnjQw.jpeg"
   ]
  },
  {
   "cell_type": "markdown",
   "metadata": {},
   "source": [
    "Installing MatPlotLib\n",
    "The last thing to install is MatPlotLib. If you are unfamiliar with matplotlib it is a python module that allows us to visualize and graph data. Install it with the pip command below:\n",
    "\n",
    "pip install matplotlib"
   ]
  },
  {
   "cell_type": "markdown",
   "metadata": {},
   "source": [
    "Installing Tensorflow \n",
    "Before we can start loading in the data that we will feed our neural network we must install tensorflow 2.0. If you are on windows it is as easy as typing the following (this is the cpu version):\n",
    "\n",
    "pip install  tensorflow\n",
    "\n"
   ]
  },
  {
   "cell_type": "markdown",
   "metadata": {},
   "source": [
    "## The Importance of Data"
   ]
  },
  {
   "cell_type": "markdown",
   "metadata": {},
   "source": [
    "Data is by far the most important part of any neural network. Choosing the right data and transforming it into a form that the neural network can use and understand is vital and will affect the networks performance. This is because the data we pass the network is what it will use to modify its weights and biases!\n",
    "\n"
   ]
  },
  {
   "cell_type": "markdown",
   "metadata": {},
   "source": [
    "## Keras Datasets"
   ]
  },
  {
   "cell_type": "markdown",
   "metadata": {},
   "source": [
    "In these first few tutorials we will simply use some built in keras datasets which will make loading data fairly easy. The dataset we will use to start is the Fashion MNIST datset. This dataset contains 60000 images of different clothing/apparel items. The goal of our network will be to look at these images and classify them appropriately To load our first dataset in we will do the following:"
   ]
  },
  {
   "cell_type": "markdown",
   "metadata": {},
   "source": [
    "https://www.tensorflow.org/beta/tutorials/keras/basic_classification"
   ]
  },
  {
   "cell_type": "code",
   "execution_count": 19,
   "metadata": {},
   "outputs": [],
   "source": [
    "import tensorflow as tf \n",
    "from tensorflow import keras\n",
    "import numpy as np \n",
    "import matplotlib.pyplot as plt\n",
    "\n",
    "data = keras.datasets.fashion_mnist"
   ]
  },
  {
   "cell_type": "markdown",
   "metadata": {},
   "source": [
    "Now we will split our data into training and testing data. It is important that we do this so we can test the accuracy of the model on data it has not seen before."
   ]
  },
  {
   "cell_type": "code",
   "execution_count": 20,
   "metadata": {},
   "outputs": [],
   "source": [
    "(train_images, train_labels), (test_images, test_labels) = data.load_data()"
   ]
  },
  {
   "cell_type": "markdown",
   "metadata": {},
   "source": [
    "Finally we will define a list of the class names and pre-process images. We do this by dividing each image by 255. Since each image is greyscale we are simply scaling the pixel values down to make computations easier for our model."
   ]
  },
  {
   "cell_type": "code",
   "execution_count": 21,
   "metadata": {},
   "outputs": [
    {
     "name": "stdout",
     "output_type": "stream",
     "text": [
      "60000\n",
      "60000\n",
      "10000\n"
     ]
    }
   ],
   "source": [
    "print(len(train_images))\n",
    "print(len(train_labels))\n",
    "print(len(test_images))"
   ]
  },
  {
   "cell_type": "code",
   "execution_count": 22,
   "metadata": {},
   "outputs": [
    {
     "name": "stdout",
     "output_type": "stream",
     "text": [
      "[[[0. 0. 0. ... 0. 0. 0.]\n",
      "  [0. 0. 0. ... 0. 0. 0.]\n",
      "  [0. 0. 0. ... 0. 0. 0.]\n",
      "  ...\n",
      "  [0. 0. 0. ... 0. 0. 0.]\n",
      "  [0. 0. 0. ... 0. 0. 0.]\n",
      "  [0. 0. 0. ... 0. 0. 0.]]\n",
      "\n",
      " [[0. 0. 0. ... 0. 0. 0.]\n",
      "  [0. 0. 0. ... 0. 0. 0.]\n",
      "  [0. 0. 0. ... 0. 0. 0.]\n",
      "  ...\n",
      "  [0. 0. 0. ... 0. 0. 0.]\n",
      "  [0. 0. 0. ... 0. 0. 0.]\n",
      "  [0. 0. 0. ... 0. 0. 0.]]\n",
      "\n",
      " [[0. 0. 0. ... 0. 0. 0.]\n",
      "  [0. 0. 0. ... 0. 0. 0.]\n",
      "  [0. 0. 0. ... 0. 0. 0.]\n",
      "  ...\n",
      "  [0. 0. 0. ... 0. 0. 0.]\n",
      "  [0. 0. 0. ... 0. 0. 0.]\n",
      "  [0. 0. 0. ... 0. 0. 0.]]\n",
      "\n",
      " ...\n",
      "\n",
      " [[0. 0. 0. ... 0. 0. 0.]\n",
      "  [0. 0. 0. ... 0. 0. 0.]\n",
      "  [0. 0. 0. ... 0. 0. 0.]\n",
      "  ...\n",
      "  [0. 0. 0. ... 0. 0. 0.]\n",
      "  [0. 0. 0. ... 0. 0. 0.]\n",
      "  [0. 0. 0. ... 0. 0. 0.]]\n",
      "\n",
      " [[0. 0. 0. ... 0. 0. 0.]\n",
      "  [0. 0. 0. ... 0. 0. 0.]\n",
      "  [0. 0. 0. ... 0. 0. 0.]\n",
      "  ...\n",
      "  [0. 0. 0. ... 0. 0. 0.]\n",
      "  [0. 0. 0. ... 0. 0. 0.]\n",
      "  [0. 0. 0. ... 0. 0. 0.]]\n",
      "\n",
      " [[0. 0. 0. ... 0. 0. 0.]\n",
      "  [0. 0. 0. ... 0. 0. 0.]\n",
      "  [0. 0. 0. ... 0. 0. 0.]\n",
      "  ...\n",
      "  [0. 0. 0. ... 0. 0. 0.]\n",
      "  [0. 0. 0. ... 0. 0. 0.]\n",
      "  [0. 0. 0. ... 0. 0. 0.]]]\n",
      "[[[0. 0. 0. ... 0. 0. 0.]\n",
      "  [0. 0. 0. ... 0. 0. 0.]\n",
      "  [0. 0. 0. ... 0. 0. 0.]\n",
      "  ...\n",
      "  [0. 0. 0. ... 0. 0. 0.]\n",
      "  [0. 0. 0. ... 0. 0. 0.]\n",
      "  [0. 0. 0. ... 0. 0. 0.]]\n",
      "\n",
      " [[0. 0. 0. ... 0. 0. 0.]\n",
      "  [0. 0. 0. ... 0. 0. 0.]\n",
      "  [0. 0. 0. ... 0. 0. 0.]\n",
      "  ...\n",
      "  [0. 0. 0. ... 0. 0. 0.]\n",
      "  [0. 0. 0. ... 0. 0. 0.]\n",
      "  [0. 0. 0. ... 0. 0. 0.]]\n",
      "\n",
      " [[0. 0. 0. ... 0. 0. 0.]\n",
      "  [0. 0. 0. ... 0. 0. 0.]\n",
      "  [0. 0. 0. ... 0. 0. 0.]\n",
      "  ...\n",
      "  [0. 0. 0. ... 0. 0. 0.]\n",
      "  [0. 0. 0. ... 0. 0. 0.]\n",
      "  [0. 0. 0. ... 0. 0. 0.]]\n",
      "\n",
      " ...\n",
      "\n",
      " [[0. 0. 0. ... 0. 0. 0.]\n",
      "  [0. 0. 0. ... 0. 0. 0.]\n",
      "  [0. 0. 0. ... 0. 0. 0.]\n",
      "  ...\n",
      "  [0. 0. 0. ... 0. 0. 0.]\n",
      "  [0. 0. 0. ... 0. 0. 0.]\n",
      "  [0. 0. 0. ... 0. 0. 0.]]\n",
      "\n",
      " [[0. 0. 0. ... 0. 0. 0.]\n",
      "  [0. 0. 0. ... 0. 0. 0.]\n",
      "  [0. 0. 0. ... 0. 0. 0.]\n",
      "  ...\n",
      "  [0. 0. 0. ... 0. 0. 0.]\n",
      "  [0. 0. 0. ... 0. 0. 0.]\n",
      "  [0. 0. 0. ... 0. 0. 0.]]\n",
      "\n",
      " [[0. 0. 0. ... 0. 0. 0.]\n",
      "  [0. 0. 0. ... 0. 0. 0.]\n",
      "  [0. 0. 0. ... 0. 0. 0.]\n",
      "  ...\n",
      "  [0. 0. 0. ... 0. 0. 0.]\n",
      "  [0. 0. 0. ... 0. 0. 0.]\n",
      "  [0. 0. 0. ... 0. 0. 0.]]]\n"
     ]
    }
   ],
   "source": [
    "class_names = ['T-shirt/top', 'Trouser', 'Pullover', 'Dress', 'Coat',\n",
    "               'Sandal', 'Shirt', 'Sneaker', 'Bag', 'Ankle boot']\n",
    "#10 labels (0-9)\n",
    "train_images = train_images/255.0\n",
    "test_images = test_images/255.0\n",
    "print(train_images)\n",
    "print(test_images)"
   ]
  },
  {
   "cell_type": "code",
   "execution_count": 23,
   "metadata": {},
   "outputs": [
    {
     "data": {
      "image/png": "[encoded data removed]",
      "text/plain": [
       "<Figure size 432x288 with 1 Axes>"
      ]
     },
     "metadata": {
      "needs_background": "light"
     },
     "output_type": "display_data"
    }
   ],
   "source": [
    "plt.imshow(train_images[7],cmap=plt.cm.binary)\n",
    "plt.show()"
   ]
  },
  {
   "cell_type": "code",
   "execution_count": 24,
   "metadata": {},
   "outputs": [
    {
     "name": "stdout",
     "output_type": "stream",
     "text": [
      "[[0.         0.         0.         0.         0.         0.00392157\n",
      "  0.00392157 0.         0.         0.         0.         0.24705882\n",
      "  0.10980392 0.         0.         0.         0.12941176 0.33333333\n",
      "  0.         0.         0.         0.         0.         0.\n",
      "  0.         0.         0.         0.        ]\n",
      " [0.         0.         0.         0.         0.         0.00784314\n",
      "  0.         0.         0.10980392 0.49411765 0.94509804 1.\n",
      "  1.         1.         1.         1.         1.         0.98823529\n",
      "  0.97254902 0.43529412 0.         0.         0.         0.00784314\n",
      "  0.         0.         0.         0.        ]\n",
      " [0.         0.         0.         0.         0.00784314 0.\n",
      "  0.         0.80784314 0.95686275 0.98431373 0.94509804 0.90196078\n",
      "  0.93333333 0.86666667 0.80392157 0.90196078 0.94117647 0.90196078\n",
      "  0.9372549  0.98431373 0.91372549 0.64705882 0.         0.\n",
      "  0.00784314 0.         0.         0.        ]\n",
      " [0.         0.         0.         0.00392157 0.         0.\n",
      "  0.78039216 0.98431373 0.89411765 0.91764706 0.91372549 0.9254902\n",
      "  0.92156863 0.96078431 0.96862745 0.92941176 0.91764706 0.9372549\n",
      "  0.90196078 0.90196078 0.92156863 1.         0.69019608 0.\n",
      "  0.         0.00392157 0.         0.        ]\n",
      " [0.         0.         0.         0.         0.         0.31764706\n",
      "  0.99607843 0.88627451 0.89411765 0.9372549  0.92941176 0.9254902\n",
      "  0.91764706 0.90980392 0.91372549 0.92156863 0.92156863 0.9254902\n",
      "  0.9372549  0.92941176 0.91372549 0.88235294 0.96470588 0.28627451\n",
      "  0.         0.         0.         0.        ]\n",
      " [0.         0.         0.01176471 0.         0.         1.\n",
      "  0.92156863 0.9372549  0.8745098  0.91764706 0.93333333 0.9254902\n",
      "  0.92941176 0.9254902  0.92156863 0.92156863 0.92156863 0.92156863\n",
      "  0.9254902  0.92156863 0.91764706 0.90196078 0.90588235 1.\n",
      "  0.09411765 0.         0.01568627 0.        ]\n",
      " [0.         0.         0.         0.         0.69411765 0.9372549\n",
      "  0.8745098  0.99607843 0.8745098  0.90980392 0.91764706 0.91764706\n",
      "  0.9254902  0.9254902  0.92156863 0.92156863 0.92156863 0.92156863\n",
      "  0.92156863 0.91764706 0.90588235 0.91372549 0.87058824 0.96470588\n",
      "  0.34509804 0.         0.00392157 0.        ]\n",
      " [0.         0.         0.         0.         0.91764706 0.9372549\n",
      "  0.89803922 1.         0.8627451  0.90980392 0.91372549 0.90980392\n",
      "  0.91764706 0.92156863 0.92156863 0.92156863 0.92156863 0.92156863\n",
      "  0.91764706 0.91372549 0.90980392 0.90196078 0.89411765 0.99607843\n",
      "  0.54901961 0.         0.         0.        ]\n",
      " [0.         0.         0.         0.         0.88235294 0.94117647\n",
      "  0.88627451 1.         0.86666667 0.89019608 0.90980392 0.89411765\n",
      "  0.90588235 0.90196078 0.89411765 0.89803922 0.90588235 0.90196078\n",
      "  0.89411765 0.89411765 0.90980392 0.8745098  0.89803922 0.95686275\n",
      "  0.90588235 0.         0.         0.        ]\n",
      " [0.         0.         0.         0.18431373 0.96078431 0.90588235\n",
      "  0.91764706 0.97647059 0.89803922 0.86666667 0.89803922 0.88235294\n",
      "  0.89803922 0.89019608 0.88627451 0.89019608 0.89411765 0.89019608\n",
      "  0.89411765 0.89803922 0.89411765 0.87843137 0.96470588 0.94117647\n",
      "  0.89019608 0.         0.         0.        ]\n",
      " [0.         0.         0.         0.2        0.97254902 0.90196078\n",
      "  0.96078431 0.96470588 0.90196078 0.88627451 0.90196078 0.89019608\n",
      "  0.90196078 0.89803922 0.89411765 0.89803922 0.90196078 0.89411765\n",
      "  0.89411765 0.90588235 0.88235294 0.89019608 0.94901961 0.92941176\n",
      "  1.         0.         0.         0.        ]\n",
      " [0.         0.         0.         0.39607843 0.99215686 0.89803922\n",
      "  0.96862745 0.94509804 0.86666667 0.91372549 0.89411765 0.89019608\n",
      "  0.89803922 0.89411765 0.89019608 0.89411765 0.90196078 0.89019608\n",
      "  0.90196078 0.91764706 0.88235294 0.89803922 0.98431373 0.89803922\n",
      "  0.95294118 0.21568627 0.         0.        ]\n",
      " [0.         0.         0.         0.4        1.         0.89019608\n",
      "  0.94901961 0.94509804 0.86666667 0.91764706 0.8745098  0.90196078\n",
      "  0.89411765 0.90588235 0.89803922 0.90588235 0.90588235 0.89019608\n",
      "  0.89803922 0.94509804 0.85882353 0.9254902  0.99607843 0.88235294\n",
      "  0.98039216 0.65490196 0.         0.        ]\n",
      " [0.         0.         0.         0.35294118 1.         0.89803922\n",
      "  0.9254902  0.90588235 0.87058824 0.9254902  0.8745098  0.90588235\n",
      "  0.89803922 0.90588235 0.89803922 0.90588235 0.90588235 0.89411765\n",
      "  0.87843137 0.96078431 0.85490196 0.95294118 0.9372549  0.89019608\n",
      "  0.95686275 0.68627451 0.         0.        ]\n",
      " [0.         0.         0.         0.83137255 0.98039216 0.88235294\n",
      "  0.9254902  0.97647059 0.89803922 0.92941176 0.8745098  0.90588235\n",
      "  0.89803922 0.90588235 0.89803922 0.90588235 0.90588235 0.90196078\n",
      "  0.86666667 0.95294118 0.88235294 0.97254902 0.90196078 0.9254902\n",
      "  0.91764706 1.         0.00392157 0.        ]\n",
      " [0.         0.         0.         0.96078431 0.95294118 0.90980392\n",
      "  0.95294118 0.85490196 0.89411765 0.93333333 0.87058824 0.90588235\n",
      "  0.89803922 0.90588235 0.89803922 0.90588235 0.90588235 0.90196078\n",
      "  0.87058824 0.92941176 0.92941176 0.98823529 0.89803922 0.9372549\n",
      "  0.94117647 0.8745098  0.         0.        ]\n",
      " [0.         0.         0.10588235 1.         0.92156863 0.94901961\n",
      "  0.92941176 0.84705882 0.90196078 0.9254902  0.87843137 0.89803922\n",
      "  0.89019608 0.91372549 0.91372549 0.91372549 0.90196078 0.89411765\n",
      "  0.87843137 0.90196078 0.96078431 0.96862745 0.86666667 0.95294118\n",
      "  0.9372549  0.98823529 0.         0.        ]\n",
      " [0.         0.         0.34509804 1.         0.90980392 0.97254902\n",
      "  0.9254902  0.81568627 0.91764706 0.90588235 0.8745098  0.89019608\n",
      "  0.88627451 0.91372549 0.90980392 0.90980392 0.90196078 0.89411765\n",
      "  0.87843137 0.87843137 0.92156863 0.91372549 0.91764706 0.96862745\n",
      "  0.92156863 1.         0.         0.        ]\n",
      " [0.         0.         0.3254902  1.         0.88235294 0.98039216\n",
      "  0.92941176 0.87843137 0.9254902  0.89803922 0.88235294 0.88235294\n",
      "  0.89019608 0.92156863 0.89803922 0.90588235 0.90196078 0.90196078\n",
      "  0.89019608 0.86666667 0.89019608 0.86666667 0.9372549  0.98039216\n",
      "  0.90588235 1.         0.         0.        ]\n",
      " [0.         0.         0.07843137 1.         0.87843137 0.97254902\n",
      "  0.91764706 0.88627451 0.90980392 0.87058824 0.88235294 0.87843137\n",
      "  0.90588235 0.93333333 0.88627451 0.90196078 0.89411765 0.90196078\n",
      "  0.90196078 0.86666667 0.89803922 0.88235294 0.95686275 0.96470588\n",
      "  0.90196078 1.         0.         0.        ]\n",
      " [0.         0.         0.37254902 1.         0.85490196 0.94901961\n",
      "  1.         0.90980392 0.88627451 0.87843137 0.89803922 0.89411765\n",
      "  0.89411765 0.90980392 0.89411765 0.89803922 0.90588235 0.91372549\n",
      "  0.90980392 0.88627451 0.86666667 0.87843137 0.96862745 0.95686275\n",
      "  0.89411765 1.         0.         0.        ]\n",
      " [0.         0.         0.65490196 1.         0.83529412 0.92156863\n",
      "  1.         0.31764706 0.96078431 0.98431373 0.93333333 0.9254902\n",
      "  0.90196078 0.89803922 0.90196078 0.89803922 0.90196078 0.90588235\n",
      "  0.93333333 0.94117647 1.         0.75294118 1.         0.9372549\n",
      "  0.89411765 1.         0.09019608 0.        ]\n",
      " [0.         0.         0.67843137 0.94901961 0.87843137 0.91372549\n",
      "  1.         0.         0.53333333 0.88627451 0.9372549  1.\n",
      "  0.89803922 0.9254902  0.9254902  0.91764706 0.91372549 0.89411765\n",
      "  0.98431373 0.97254902 0.78431373 0.31764706 1.         0.92941176\n",
      "  0.88235294 1.         0.39607843 0.        ]\n",
      " [0.         0.         0.6745098  1.         0.88627451 0.91372549\n",
      "  1.         0.         0.         0.         0.         0.\n",
      "  0.03137255 0.08235294 0.08627451 0.08235294 0.07843137 0.05490196\n",
      "  0.         0.         0.         0.         1.         0.93333333\n",
      "  0.89803922 0.96470588 0.69803922 0.        ]\n",
      " [0.         0.         0.0627451  1.         0.9254902  0.93333333\n",
      "  0.98823529 0.         0.         0.         0.         0.\n",
      "  0.         0.         0.         0.         0.         0.\n",
      "  0.         0.         0.         0.         0.87058824 0.95686275\n",
      "  0.87058824 0.99607843 0.46666667 0.        ]\n",
      " [0.         0.         0.         0.11764706 0.89411765 0.94901961\n",
      "  0.63921569 0.         0.         0.         0.         0.00784314\n",
      "  0.01568627 0.02352941 0.01960784 0.01960784 0.01568627 0.01568627\n",
      "  0.00784314 0.         0.00392157 0.         0.59215686 0.98431373\n",
      "  0.92156863 0.70588235 0.         0.        ]\n",
      " [0.         0.         0.         0.         0.91764706 1.\n",
      "  0.74901961 0.         0.04313725 0.         0.         0.\n",
      "  0.         0.         0.         0.         0.         0.\n",
      "  0.         0.         0.01568627 0.         0.40392157 0.96470588\n",
      "  0.96862745 0.28235294 0.         0.        ]\n",
      " [0.         0.         0.         0.00392157 0.37254902 0.30196078\n",
      "  0.20392157 0.         0.01568627 0.         0.         0.\n",
      "  0.         0.         0.         0.         0.         0.\n",
      "  0.         0.         0.01176471 0.         0.32156863 0.92941176\n",
      "  0.90588235 0.2745098  0.         0.        ]]\n"
     ]
    }
   ],
   "source": [
    "print(train_images[7])"
   ]
  },
  {
   "cell_type": "markdown",
   "metadata": {},
   "source": [
    "### Creating the Model\n"
   ]
  },
  {
   "cell_type": "markdown",
   "metadata": {},
   "source": [
    "Now time to create our first neural network model! We will do this by using the Sequential object from keras. A Sequential model simply defines a sequence of layers starting with the input layer and ending with the output layer. Our model will have 3 layers, and input layer of 784 neurons (representing all of the 28x28 pixels in a picture) a hidden layer of an arbitrary 128 neurons and an output layer of 10 neurons representing the probability of the picture being each of the 10 classes."
   ]
  },
  {
   "cell_type": "code",
   "execution_count": 25,
   "metadata": {},
   "outputs": [],
   "source": [
    "model = keras.Sequential([\n",
    "    keras.layers.Flatten(input_shape=(28,28)),\n",
    "    keras.layers.Dense(128, activation=\"relu\"),\n",
    "    keras.layers.Dense(10, activation=\"softmax\")\n",
    "    ])"
   ]
  },
  {
   "cell_type": "markdown",
   "metadata": {},
   "source": [
    "## Training the Model\n"
   ]
  },
  {
   "cell_type": "markdown",
   "metadata": {},
   "source": [
    "Now that we have defined the model it is time to compile and train it. Compiling the model is just picking the optimizer, loss function and metrics to keep track of. Training is the process of passing our data to the model."
   ]
  },
  {
   "cell_type": "code",
   "execution_count": 26,
   "metadata": {},
   "outputs": [],
   "source": [
    "model.compile(optimizer=\"adam\", loss=\"sparse_categorical_crossentropy\", metrics=[\"accuracy\"])"
   ]
  },
  {
   "cell_type": "code",
   "execution_count": 29,
   "metadata": {},
   "outputs": [
    {
     "name": "stdout",
     "output_type": "stream",
     "text": [
      "Epoch 1/10\n",
      "60000/60000 [==============================] - 4s 66us/step - loss: 0.2790 - acc: 0.8975\n",
      "Epoch 2/10\n",
      "60000/60000 [==============================] - 5s 82us/step - loss: 0.2662 - acc: 0.9010\n",
      "Epoch 3/10\n",
      "60000/60000 [==============================] - 7s 110us/step - loss: 0.2583 - acc: 0.9049\n",
      "Epoch 4/10\n",
      "60000/60000 [==============================] - 7s 109us/step - loss: 0.2479 - acc: 0.9073\n",
      "Epoch 5/10\n",
      "60000/60000 [==============================] - 6s 108us/step - loss: 0.2399 - acc: 0.9100\n",
      "Epoch 6/10\n",
      "60000/60000 [==============================] - 7s 110us/step - loss: 0.2283 - acc: 0.9137\n",
      "Epoch 7/10\n",
      "60000/60000 [==============================] - 7s 109us/step - loss: 0.2245 - acc: 0.9165\n",
      "Epoch 8/10\n",
      "60000/60000 [==============================] - 6s 106us/step - loss: 0.2172 - acc: 0.9193\n",
      "Epoch 9/10\n",
      "60000/60000 [==============================] - 7s 109us/step - loss: 0.2108 - acc: 0.9209\n",
      "Epoch 10/10\n",
      "60000/60000 [==============================] - 6s 107us/step - loss: 0.2030 - acc: 0.9236\n"
     ]
    },
    {
     "data": {
      "text/plain": [
       "<tensorflow.python.keras.callbacks.History at 0x1b61b8543c8>"
      ]
     },
     "execution_count": 29,
     "metadata": {},
     "output_type": "execute_result"
    }
   ],
   "source": [
    "model.fit(train_images, train_labels, epochs=10)"
   ]
  },
  {
   "cell_type": "markdown",
   "metadata": {},
   "source": [
    "### Testing the Model\n"
   ]
  },
  {
   "cell_type": "markdown",
   "metadata": {},
   "source": [
    "Now that the model has been trained it is time to test it for accuracy. We will do this using the following line of code"
   ]
  },
  {
   "cell_type": "code",
   "execution_count": 30,
   "metadata": {},
   "outputs": [
    {
     "name": "stdout",
     "output_type": "stream",
     "text": [
      "10000/10000 [==============================] - 0s 23us/step\n",
      "\n",
      "Test accuracy: 0.8906\n"
     ]
    }
   ],
   "source": [
    "test_loss, test_acc = model.evaluate(test_images, test_labels)\n",
    "\n",
    "print('\\nTest accuracy:', test_acc)"
   ]
  },
  {
   "cell_type": "markdown",
   "metadata": {},
   "source": [
    "## Using the Model"
   ]
  },
  {
   "cell_type": "markdown",
   "metadata": {},
   "source": [
    "Now that we have trained the model it is time to actually use it! We will pick a few images from our testing data, show them on the screen and then use the model to predict what they are.\n",
    "\n",
    "To make predictions we use our model name and .predict() passing it a list of data to predict. It is important that we understand it is used to make MULTIPLE predictions and that whatever data it is expecting mus be inside of a list. Since it is making multiple predictions it will also return to use a list of predicted values."
   ]
  },
  {
   "cell_type": "code",
   "execution_count": 31,
   "metadata": {},
   "outputs": [],
   "source": [
    "predictions = model.predict(test_images)\n",
    "#print(predictions)\n",
    "#print(predictions[0])\n",
    "#print(np.argmax(predictions[0]))\n",
    "#print(class_names[np.argmax(predictions[0])])"
   ]
  },
  {
   "cell_type": "markdown",
   "metadata": {},
   "source": [
    "Now we will display the first 5 images and their predictions using matplotlib."
   ]
  },
  {
   "cell_type": "code",
   "execution_count": 38,
   "metadata": {},
   "outputs": [
    {
     "data": {
      "image/png": "[encoded data removed]",
      "text/plain": [
       "<Figure size 360x360 with 1 Axes>"
      ]
     },
     "metadata": {
      "needs_background": "light"
     },
     "output_type": "display_data"
    },
    {
     "data": {
      "image/png": "[encoded data removed]",
      "text/plain": [
       "<Figure size 432x288 with 1 Axes>"
      ]
     },
     "metadata": {
      "needs_background": "light"
     },
     "output_type": "display_data"
    },
    {
     "data": {
      "image/png": "[encoded data removed]",
      "text/plain": [
       "<Figure size 432x288 with 1 Axes>"
      ]
     },
     "metadata": {
      "needs_background": "light"
     },
     "output_type": "display_data"
    },
    {
     "data": {
      "image/png": "[encoded data removed]",
      "text/plain": [
       "<Figure size 432x288 with 1 Axes>"
      ]
     },
     "metadata": {
      "needs_background": "light"
     },
     "output_type": "display_data"
    },
    {
     "data": {
      "image/png": "[encoded data removed]",
      "text/plain": [
       "<Figure size 432x288 with 1 Axes>"
      ]
     },
     "metadata": {
      "needs_background": "light"
     },
     "output_type": "display_data"
    }
   ],
   "source": [
    "plt.figure(figsize=(5,5))\n",
    "for i in range(5):\n",
    "    plt.grid(False)\n",
    "    plt.imshow(test_images[i], cmap=plt.cm.binary)\n",
    "    plt.xlabel('Actual:'+class_names[test_labels[i]])\n",
    "    plt.title('Prediction:'+ class_names[np.argmax(predictions[i])])\n",
    "    plt.show()"
   ]
  },
  {
   "cell_type": "code",
   "execution_count": null,
   "metadata": {},
   "outputs": [],
   "source": []
  }
 ],
 "metadata": {
  "kernelspec": {
   "display_name": "Python 3.6 (tensorflow)",
   "language": "python",
   "name": "tensorflow"
  },
  "language_info": {
   "codemirror_mode": {
    "name": "ipython",
    "version": 3
   },
   "file_extension": ".py",
   "mimetype": "text/x-python",
   "name": "python",
   "nbconvert_exporter": "python",
   "pygments_lexer": "ipython3",
   "version": "3.6.6"
  }
 },
 "nbformat": 4,
 "nbformat_minor": 2
}
