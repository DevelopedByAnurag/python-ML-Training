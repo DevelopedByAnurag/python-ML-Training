{
 "cells": [
  {
   "cell_type": "code",
   "execution_count": null,
   "metadata": {},
   "outputs": [],
   "source": [
    "http://bit.ly/328YCR2"
   ]
  },
  {
   "cell_type": "markdown",
   "metadata": {},
   "source": [
    "Downloading Our Data\n",
    "In this specific tutorial we will be implementing the linear regression algorithm to predict students final grade based on a series of attributes. To do this we need some data!\n",
    "\n",
    "We are going to be using the Student Performance data set from the UCI Machine Learning Repository. \n",
    "\n",
    "https://archive.ics.uci.edu/ml/machine-learning-databases/00320/\n",
    "\n",
    "Description:\n",
    "https://archive.ics.uci.edu/ml/datasets/Student+Performance"
   ]
  },
  {
   "cell_type": "markdown",
   "metadata": {},
   "source": [
    "This data set consists of 33 attributes for each student. You can see a description of each attribute here. It is great that there is many attributes but we likely don't want to consider all of them when trying to predict a students grade. Therefore, we will trim this data set down so we only have the attributes we need."
   ]
  },
  {
   "cell_type": "markdown",
   "metadata": {},
   "source": [
    "# Importing Modules/Packages\n"
   ]
  },
  {
   "cell_type": "markdown",
   "metadata": {},
   "source": [
    " Before we start coding we should import all of the following.\n",
    "\n"
   ]
  },
  {
   "cell_type": "code",
   "execution_count": 4,
   "metadata": {},
   "outputs": [],
   "source": [
    "import pandas as pd\n",
    "import numpy as np\n",
    "import sklearn\n",
    "from sklearn import linear_model\n",
    "from sklearn.utils import shuffle\n",
    "import matplotlib.pyplot as plt\n",
    "from matplotlib import style\n",
    "import pickle"
   ]
  },
  {
   "cell_type": "markdown",
   "metadata": {},
   "source": [
    "### Loading in Our Data\n"
   ]
  },
  {
   "cell_type": "markdown",
   "metadata": {},
   "source": [
    "Once you've downloaded the data set and placed it into your main directory you can load it in using the pandas module."
   ]
  },
  {
   "cell_type": "code",
   "execution_count": 5,
   "metadata": {},
   "outputs": [
    {
     "name": "stdout",
     "output_type": "stream",
     "text": [
      "    school sex  age address famsize Pstatus  Medu  Fedu      Mjob      Fjob  \\\n",
      "0       GP   F   18       U     GT3       A     4     4   at_home   teacher   \n",
      "1       GP   F   17       U     GT3       T     1     1   at_home     other   \n",
      "2       GP   F   15       U     LE3       T     1     1   at_home     other   \n",
      "3       GP   F   15       U     GT3       T     4     2    health  services   \n",
      "4       GP   F   16       U     GT3       T     3     3     other     other   \n",
      "5       GP   M   16       U     LE3       T     4     3  services     other   \n",
      "6       GP   M   16       U     LE3       T     2     2     other     other   \n",
      "7       GP   F   17       U     GT3       A     4     4     other   teacher   \n",
      "8       GP   M   15       U     LE3       A     3     2  services     other   \n",
      "9       GP   M   15       U     GT3       T     3     4     other     other   \n",
      "10      GP   F   15       U     GT3       T     4     4   teacher    health   \n",
      "11      GP   F   15       U     GT3       T     2     1  services     other   \n",
      "12      GP   M   15       U     LE3       T     4     4    health  services   \n",
      "13      GP   M   15       U     GT3       T     4     3   teacher     other   \n",
      "14      GP   M   15       U     GT3       A     2     2     other     other   \n",
      "15      GP   F   16       U     GT3       T     4     4    health     other   \n",
      "16      GP   F   16       U     GT3       T     4     4  services  services   \n",
      "17      GP   F   16       U     GT3       T     3     3     other     other   \n",
      "18      GP   M   17       U     GT3       T     3     2  services  services   \n",
      "19      GP   M   16       U     LE3       T     4     3    health     other   \n",
      "20      GP   M   15       U     GT3       T     4     3   teacher     other   \n",
      "21      GP   M   15       U     GT3       T     4     4    health    health   \n",
      "22      GP   M   16       U     LE3       T     4     2   teacher     other   \n",
      "23      GP   M   16       U     LE3       T     2     2     other     other   \n",
      "24      GP   F   15       R     GT3       T     2     4  services    health   \n",
      "25      GP   F   16       U     GT3       T     2     2  services  services   \n",
      "26      GP   M   15       U     GT3       T     2     2     other     other   \n",
      "27      GP   M   15       U     GT3       T     4     2    health  services   \n",
      "28      GP   M   16       U     LE3       A     3     4  services     other   \n",
      "29      GP   M   16       U     GT3       T     4     4   teacher   teacher   \n",
      "..     ...  ..  ...     ...     ...     ...   ...   ...       ...       ...   \n",
      "365     MS   M   18       R     GT3       T     1     3   at_home     other   \n",
      "366     MS   M   18       U     LE3       T     4     4   teacher  services   \n",
      "367     MS   F   17       R     GT3       T     1     1     other  services   \n",
      "368     MS   F   18       U     GT3       T     2     3   at_home  services   \n",
      "369     MS   F   18       R     GT3       T     4     4     other   teacher   \n",
      "370     MS   F   19       U     LE3       T     3     2  services  services   \n",
      "371     MS   M   18       R     LE3       T     1     2   at_home  services   \n",
      "372     MS   F   17       U     GT3       T     2     2     other   at_home   \n",
      "373     MS   F   17       R     GT3       T     1     2     other     other   \n",
      "374     MS   F   18       R     LE3       T     4     4     other     other   \n",
      "375     MS   F   18       R     GT3       T     1     1     other     other   \n",
      "376     MS   F   20       U     GT3       T     4     2    health     other   \n",
      "377     MS   F   18       R     LE3       T     4     4   teacher  services   \n",
      "378     MS   F   18       U     GT3       T     3     3     other     other   \n",
      "379     MS   F   17       R     GT3       T     3     1   at_home     other   \n",
      "380     MS   M   18       U     GT3       T     4     4   teacher   teacher   \n",
      "381     MS   M   18       R     GT3       T     2     1     other     other   \n",
      "382     MS   M   17       U     GT3       T     2     3     other  services   \n",
      "383     MS   M   19       R     GT3       T     1     1     other  services   \n",
      "384     MS   M   18       R     GT3       T     4     2     other     other   \n",
      "385     MS   F   18       R     GT3       T     2     2   at_home     other   \n",
      "386     MS   F   18       R     GT3       T     4     4   teacher   at_home   \n",
      "387     MS   F   19       R     GT3       T     2     3  services     other   \n",
      "388     MS   F   18       U     LE3       T     3     1   teacher  services   \n",
      "389     MS   F   18       U     GT3       T     1     1     other     other   \n",
      "390     MS   M   20       U     LE3       A     2     2  services  services   \n",
      "391     MS   M   17       U     LE3       T     3     1  services  services   \n",
      "392     MS   M   21       R     GT3       T     1     1     other     other   \n",
      "393     MS   M   18       R     LE3       T     3     2  services     other   \n",
      "394     MS   M   19       U     LE3       T     1     1     other   at_home   \n",
      "\n",
      "     ... famrel freetime  goout  Dalc  Walc health absences  G1  G2  G3  \n",
      "0    ...      4        3      4     1     1      3        6   5   6   6  \n",
      "1    ...      5        3      3     1     1      3        4   5   5   6  \n",
      "2    ...      4        3      2     2     3      3       10   7   8  10  \n",
      "3    ...      3        2      2     1     1      5        2  15  14  15  \n",
      "4    ...      4        3      2     1     2      5        4   6  10  10  \n",
      "5    ...      5        4      2     1     2      5       10  15  15  15  \n",
      "6    ...      4        4      4     1     1      3        0  12  12  11  \n",
      "7    ...      4        1      4     1     1      1        6   6   5   6  \n",
      "8    ...      4        2      2     1     1      1        0  16  18  19  \n",
      "9    ...      5        5      1     1     1      5        0  14  15  15  \n",
      "10   ...      3        3      3     1     2      2        0  10   8   9  \n",
      "11   ...      5        2      2     1     1      4        4  10  12  12  \n",
      "12   ...      4        3      3     1     3      5        2  14  14  14  \n",
      "13   ...      5        4      3     1     2      3        2  10  10  11  \n",
      "14   ...      4        5      2     1     1      3        0  14  16  16  \n",
      "15   ...      4        4      4     1     2      2        4  14  14  14  \n",
      "16   ...      3        2      3     1     2      2        6  13  14  14  \n",
      "17   ...      5        3      2     1     1      4        4   8  10  10  \n",
      "18   ...      5        5      5     2     4      5       16   6   5   5  \n",
      "19   ...      3        1      3     1     3      5        4   8  10  10  \n",
      "20   ...      4        4      1     1     1      1        0  13  14  15  \n",
      "21   ...      5        4      2     1     1      5        0  12  15  15  \n",
      "22   ...      4        5      1     1     3      5        2  15  15  16  \n",
      "23   ...      5        4      4     2     4      5        0  13  13  12  \n",
      "24   ...      4        3      2     1     1      5        2  10   9   8  \n",
      "25   ...      1        2      2     1     3      5       14   6   9   8  \n",
      "26   ...      4        2      2     1     2      5        2  12  12  11  \n",
      "27   ...      2        2      4     2     4      1        4  15  16  15  \n",
      "28   ...      5        3      3     1     1      5        4  11  11  11  \n",
      "29   ...      4        4      5     5     5      5       16  10  12  11  \n",
      "..   ...    ...      ...    ...   ...   ...    ...      ...  ..  ..  ..  \n",
      "365  ...      3        3      4     2     4      3        4  10  10  10  \n",
      "366  ...      4        2      2     2     2      5        0  13  13  13  \n",
      "367  ...      5        2      1     1     2      1        0   7   6   0  \n",
      "368  ...      5        2      3     1     2      4        0  11  10  10  \n",
      "369  ...      3        2      2     4     2      5       10  14  12  11  \n",
      "370  ...      3        2      2     1     1      3        4   7   7   9  \n",
      "371  ...      4        3      3     2     3      3        3  14  12  12  \n",
      "372  ...      3        4      3     1     1      3        8  13  11  11  \n",
      "373  ...      3        5      5     1     3      1       14   6   5   5  \n",
      "374  ...      5        4      4     1     1      1        0  19  18  19  \n",
      "375  ...      4        3      2     1     2      4        2   8   8  10  \n",
      "376  ...      5        4      3     1     1      3        4  15  14  15  \n",
      "377  ...      5        4      3     3     4      2        4   8   9  10  \n",
      "378  ...      4        1      3     1     2      1        0  15  15  15  \n",
      "379  ...      4        5      4     2     3      1       17  10  10  10  \n",
      "380  ...      3        2      4     1     4      2        4  15  14  14  \n",
      "381  ...      4        4      3     1     3      5        5   7   6   7  \n",
      "382  ...      4        4      3     1     1      3        2  11  11  10  \n",
      "383  ...      4        3      2     1     3      5        0   6   5   0  \n",
      "384  ...      5        4      3     4     3      3       14   6   5   5  \n",
      "385  ...      5        3      3     1     3      4        2  10   9  10  \n",
      "386  ...      4        4      3     2     2      5        7   6   5   6  \n",
      "387  ...      5        4      2     1     2      5        0   7   5   0  \n",
      "388  ...      4        3      4     1     1      1        0   7   9   8  \n",
      "389  ...      1        1      1     1     1      5        0   6   5   0  \n",
      "390  ...      5        5      4     4     5      4       11   9   9   9  \n",
      "391  ...      2        4      5     3     4      2        3  14  16  16  \n",
      "392  ...      5        5      3     3     3      3        3  10   8   7  \n",
      "393  ...      4        4      1     3     4      5        0  11  12  10  \n",
      "394  ...      3        2      3     3     3      5        5   8   9   9  \n",
      "\n",
      "[395 rows x 33 columns]\n"
     ]
    }
   ],
   "source": [
    "#csv stands for comma seterated values\n",
    "#seperator sep =\";\"\n",
    "data = pd.read_csv(\"student-mat.csv\", sep=\";\")\n",
    "print(data)\n",
    "# Since our data is seperated by semicolons we need to do sep=\";\""
   ]
  },
  {
   "cell_type": "markdown",
   "metadata": {},
   "source": [
    "To see our data frame we can type:\n",
    "\n"
   ]
  },
  {
   "cell_type": "code",
   "execution_count": 6,
   "metadata": {},
   "outputs": [
    {
     "name": "stdout",
     "output_type": "stream",
     "text": [
      "  school sex  age address famsize Pstatus  Medu  Fedu     Mjob      Fjob  ...  \\\n",
      "0     GP   F   18       U     GT3       A     4     4  at_home   teacher  ...   \n",
      "1     GP   F   17       U     GT3       T     1     1  at_home     other  ...   \n",
      "2     GP   F   15       U     LE3       T     1     1  at_home     other  ...   \n",
      "3     GP   F   15       U     GT3       T     4     2   health  services  ...   \n",
      "4     GP   F   16       U     GT3       T     3     3    other     other  ...   \n",
      "\n",
      "  famrel freetime  goout  Dalc  Walc health absences  G1  G2  G3  \n",
      "0      4        3      4     1     1      3        6   5   6   6  \n",
      "1      5        3      3     1     1      3        4   5   5   6  \n",
      "2      4        3      2     2     3      3       10   7   8  10  \n",
      "3      3        2      2     1     1      5        2  15  14  15  \n",
      "4      4        3      2     1     2      5        4   6  10  10  \n",
      "\n",
      "[5 rows x 33 columns]\n"
     ]
    }
   ],
   "source": [
    "print(data.head())\n"
   ]
  },
  {
   "cell_type": "markdown",
   "metadata": {},
   "source": [
    "This will print out the first 5 students in our data frame.\n",
    "\n"
   ]
  },
  {
   "cell_type": "markdown",
   "metadata": {},
   "source": [
    "## Trimming Our Data\n"
   ]
  },
  {
   "cell_type": "markdown",
   "metadata": {},
   "source": [
    "Since we have so many attributes and not all are relevant we need to select the ones we want to use. We can do this by typing the following."
   ]
  },
  {
   "cell_type": "code",
   "execution_count": 7,
   "metadata": {},
   "outputs": [
    {
     "name": "stdout",
     "output_type": "stream",
     "text": [
      "   G1  G2  G3  studytime  failures  absences\n",
      "0   5   6   6          2         0         6\n",
      "1   5   5   6          2         0         4\n",
      "2   7   8  10          2         3        10\n",
      "3  15  14  15          3         0         2\n",
      "4   6  10  10          2         0         4\n"
     ]
    }
   ],
   "source": [
    "data = data[[\"G1\", \"G2\", \"G3\", \"studytime\", \"failures\", \"absences\"]]\n",
    "print(data.head())"
   ]
  },
  {
   "cell_type": "markdown",
   "metadata": {},
   "source": [
    "Now our data frame only has the information associated with those 6 attributes.\n",
    "\n"
   ]
  },
  {
   "cell_type": "markdown",
   "metadata": {},
   "source": [
    "## Separating Our Data\n"
   ]
  },
  {
   "cell_type": "markdown",
   "metadata": {},
   "source": [
    "Now that we've trimmed our data set down we need to separate it into 4 arrays. However, before we can do that we need to define what attribute we are trying to predict. This attribute is known as a label. The other attributes that will determine our label are known as features. Once we've done this we will use numpy to create two arrays. One that contains all of our features and one that contains our labels."
   ]
  },
  {
   "cell_type": "code",
   "execution_count": 8,
   "metadata": {},
   "outputs": [
    {
     "name": "stdout",
     "output_type": "stream",
     "text": [
      "[[ 5  6  2  0  6]\n",
      " [ 5  5  2  0  4]\n",
      " [ 7  8  2  3 10]\n",
      " ...\n",
      " [10  8  1  3  3]\n",
      " [11 12  1  0  0]\n",
      " [ 8  9  1  0  5]]\n",
      "[ 6  6 10 15 10 15 11  6 19 15  9 12 14 11 16 14 14 10  5 10 15 15 16 12\n",
      "  8  8 11 15 11 11 12 17 16 12 15  6 18 15 11 13 11 12 18 11  9  6 11 20\n",
      " 14  7 13 13 10 11 13 10 15 15  9 16 11 11  9  9 10 15 12  6  8 16 15 10\n",
      "  5 14 11 10 10 11 10  5 12 11  6 15 10  8  6 14 10  7  8 18  6 10 14 10\n",
      " 15 10 14  8  5 17 14  6 18 11  8 18 13 16 19 10 13 19  9 16 14 13  8 13\n",
      " 15 15 13 13  8 12 11  9  0 18  0  0 12 11  0  0  0  0 12 15  0  9 11 13\n",
      "  0 11  0 11  0 10  0 14 10  0 12  8 13 10 15 12  0  7  0 10  7 12 10 16\n",
      "  0 14  0 16 10  0  9  9 11  6  9 11  8 12 17  8 12 11 11 15  9 10 13  9\n",
      "  8 10 14 15 16 10 18 10 16 10 10  6 11  9  7 13 10  7  8 13 14  8 10 15\n",
      "  4  8  8 10  6  0 17 13 14  7 15 12  9 12 14 11  9 13  6 10 13 12 11  0\n",
      " 12 12  0 12  0 18 13  8  5 15  8 10  8  8 12  8 13 11 14  0 18  8 12  9\n",
      "  0 17 10 11 10  0  9 14 11 14 10 12  9  9  8 10  8 10 12 10 11 11 19 12\n",
      " 14 15 11 15 13 18 14 11  0  8 14 16 11 10 14 18 13 12 18  8 12 10  0 13\n",
      " 11 11 13 11  0  9 10 11 13  9 11 15 15 11 16 10  9 14  8 14  0  0  0 15\n",
      " 13  0 17 10 11  0 15  0 10 14 16  9 15 13  8 13  8  8 11  9 13 11 10 16\n",
      " 13 12 10 15 12 10 13  0 10 11  9 12 11  5 19 10 15 10 15 10 14  7 10  0\n",
      "  5 10  6  0  8  0  9 16  7 10  9]\n"
     ]
    }
   ],
   "source": [
    "predict = \"G3\"\n",
    "#i stands for y axis\n",
    "X = np.array(data.drop([predict], 1)) # Features          #returns new dataframe \n",
    "print(X)\n",
    "y = np.array(data[predict]) # Labels\n",
    "print(y)"
   ]
  },
  {
   "cell_type": "markdown",
   "metadata": {},
   "source": [
    "After this we need to split our data into testing and training data. We will use 90% of our data to train and the other 10% to test. The reason we do this is so that we do not test our model on data that it has already seen."
   ]
  },
  {
   "cell_type": "code",
   "execution_count": 9,
   "metadata": {},
   "outputs": [
    {
     "name": "stdout",
     "output_type": "stream",
     "text": [
      "[[ 5  5  2  0  4]\n",
      " [18 18  4  0  6]\n",
      " [ 9  8  2  1 15]\n",
      " ...\n",
      " [13 14  1  0  0]\n",
      " [19 19  4  0  4]\n",
      " [13 11  2  0  0]]\n"
     ]
    }
   ],
   "source": [
    "x_train, x_test, y_train, y_test = sklearn.model_selection.train_test_split(X, y, test_size = 0.1,random_state=0)\n",
    "print(x_train)"
   ]
  },
  {
   "cell_type": "markdown",
   "metadata": {},
   "source": [
    "## Training Multiple Models"
   ]
  },
  {
   "cell_type": "markdown",
   "metadata": {},
   "source": [
    "You may have noticed that our models vary in accuracy. This is because when we split the data into training and testing data it is divided differently each time. Since our model trains very quickly it may be worth training multiple models and saving the best one. We can do this in the following way."
   ]
  },
  {
   "cell_type": "code",
   "execution_count": 81,
   "metadata": {},
   "outputs": [],
   "source": [
    "# TRAIN MODEL MULTIPLE TIMES FOR BEST SCORE\n"
   ]
  },
  {
   "cell_type": "code",
   "execution_count": 10,
   "metadata": {},
   "outputs": [
    {
     "name": "stdout",
     "output_type": "stream",
     "text": [
      "Accuracy: 0.8509777870627004\n",
      "Accuracy: 0.7180127320612191\n",
      "Accuracy: 0.7315864941579387\n",
      "Accuracy: 0.771194792453368\n",
      "Accuracy: 0.8033041558329231\n",
      "Accuracy: 0.6873063372599347\n",
      "Accuracy: 0.7650424421416003\n",
      "Accuracy: 0.8220292410404553\n",
      "Accuracy: 0.9170624993841396\n",
      "Accuracy: 0.8363673972996214\n",
      "Accuracy: 0.8218994467823265\n",
      "Accuracy: 0.8119645107320005\n",
      "Accuracy: 0.9232743035294322\n",
      "Accuracy: 0.7453726008232917\n",
      "Accuracy: 0.723397205362277\n",
      "Accuracy: 0.6914825882201183\n",
      "Accuracy: 0.9195722988138403\n",
      "Accuracy: 0.6385686730913318\n",
      "Accuracy: 0.9132201954965334\n",
      "Accuracy: 0.7966646352244052\n",
      "Accuracy: 0.831033967767134\n",
      "Accuracy: 0.7748977441729568\n",
      "Accuracy: 0.846655514798316\n",
      "Accuracy: 0.8180033858934559\n",
      "Accuracy: 0.7675926447030972\n",
      "Accuracy: 0.747253395353392\n",
      "Accuracy: 0.8966992822392172\n",
      "Accuracy: 0.8441427951450975\n",
      "Accuracy: 0.9244405066547009\n",
      "Accuracy: 0.8653778675211282\n",
      "Accuracy: 0.7933661298860186\n",
      "Accuracy: 0.8295824239033882\n",
      "Accuracy: 0.8159861884228933\n",
      "Accuracy: 0.8043652086515335\n",
      "Accuracy: 0.7033915252072567\n",
      "Accuracy: 0.86597790982275\n",
      "Accuracy: 0.8218561118790295\n",
      "Accuracy: 0.8940465801124438\n",
      "Accuracy: 0.8491066723285916\n",
      "Accuracy: 0.9495895520877008\n",
      "Accuracy: 0.740653862876334\n",
      "Accuracy: 0.9176192145444932\n",
      "Accuracy: 0.8755446964545375\n",
      "Accuracy: 0.9214098649057358\n",
      "Accuracy: 0.8119504006098492\n",
      "Accuracy: 0.7226522976305528\n",
      "Accuracy: 0.9201845167784151\n",
      "Accuracy: 0.9364752048818081\n",
      "Accuracy: 0.8499422393362195\n",
      "Accuracy: 0.8237328016627099\n",
      "Accuracy: 0.8988410410964829\n",
      "Accuracy: 0.8608339857742224\n",
      "Accuracy: 0.928346729160083\n",
      "Accuracy: 0.7427066761391602\n",
      "Accuracy: 0.9035061353289009\n",
      "Accuracy: 0.8513478924876304\n",
      "Accuracy: 0.7356354011887642\n",
      "Accuracy: 0.7940571449605973\n",
      "Accuracy: 0.8551983090457101\n",
      "Accuracy: 0.7468770569475995\n",
      "Accuracy: 0.8194412848919982\n",
      "Accuracy: 0.9329508913662526\n",
      "Accuracy: 0.7807318795862447\n",
      "Accuracy: 0.9397920825842978\n",
      "Accuracy: 0.7981268660297488\n",
      "Accuracy: 0.8760267458560594\n",
      "Accuracy: 0.7913651748548518\n",
      "Accuracy: 0.896230628745321\n",
      "Accuracy: 0.7711841345320092\n",
      "Accuracy: 0.8505675618423543\n",
      "Accuracy: 0.6841599045018394\n",
      "Accuracy: 0.8550980475021706\n",
      "Accuracy: 0.8495742404268971\n",
      "Accuracy: 0.8544200034724868\n",
      "Accuracy: 0.7010040234280013\n",
      "Accuracy: 0.7940503127209084\n",
      "Accuracy: 0.9145057100625718\n",
      "Accuracy: 0.7574823676273855\n",
      "Accuracy: 0.7323513384041728\n",
      "Accuracy: 0.8088502928510006\n",
      "Accuracy: 0.8219898742230277\n",
      "Accuracy: 0.7252552059875993\n",
      "Accuracy: 0.5672254806176551\n",
      "Accuracy: 0.9361917838937888\n",
      "Accuracy: 0.7379430344996203\n",
      "Accuracy: 0.8151032398212195\n",
      "Accuracy: 0.8145962720934545\n",
      "Accuracy: 0.6537830751990683\n",
      "Accuracy: 0.7821145451670514\n",
      "Accuracy: 0.8234273261822538\n",
      "Accuracy: 0.7362660833266725\n",
      "Accuracy: 0.922402151270469\n",
      "Accuracy: 0.8608476284567054\n",
      "Accuracy: 0.9306402758622316\n",
      "Accuracy: 0.7916488350733843\n",
      "Accuracy: 0.8110272465964055\n",
      "Accuracy: 0.8419299886630335\n",
      "Accuracy: 0.822059419632219\n",
      "Accuracy: 0.7422769131170188\n",
      "Accuracy: 0.7017183843759804\n"
     ]
    }
   ],
   "source": [
    "best = 0\n",
    "for _ in range(100):\n",
    "    x_train, x_test, y_train, y_test = sklearn.model_selection.train_test_split(X, y, test_size = 0.1)\n",
    "    linear = linear_model.LinearRegression()\n",
    "    linear.fit(x_train, y_train)\n",
    "    acc = linear.score(x_test, y_test)\n",
    "    print(\"Accuracy: \" + str(acc))\n",
    "    # If the current model has a better score than one we've already trained then save it\n",
    "    if acc > best:\n",
    "        best = acc\n",
    "        with open(\"studentgrades.pickle\", \"wb\") as f:\n",
    "            pickle.dump(linear, f)"
   ]
  },
  {
   "cell_type": "markdown",
   "metadata": {},
   "source": [
    "Now we are ready to implement the linear regression algorithm\n"
   ]
  },
  {
   "cell_type": "markdown",
   "metadata": {},
   "source": [
    "This tutorial will be dedicated to understanding how the linear regression algorithm works and implementing it to make predictions using our data set."
   ]
  },
  {
   "cell_type": "markdown",
   "metadata": {},
   "source": [
    "### How Does it Work?"
   ]
  },
  {
   "cell_type": "markdown",
   "metadata": {},
   "source": [
    "Linear Regression is essentially just a best fit line. Given a set of data the algorithm will create a best fit line through those data points."
   ]
  },
  {
   "cell_type": "markdown",
   "metadata": {},
   "source": [
    "https://techwithtim.net/wp-content/uploads/2019/01/linear-1.png"
   ]
  },
  {
   "cell_type": "markdown",
   "metadata": {},
   "source": [
    "This line can be defined by the equation y = m*x + b.\n",
    "m is the slope. Meaning how much the y value increases for each x value."
   ]
  },
  {
   "cell_type": "markdown",
   "metadata": {},
   "source": [
    "b is the y intercept. Where the line crosses the y axis."
   ]
  },
  {
   "cell_type": "markdown",
   "metadata": {},
   "source": [
    "We can determine the slope(m) of the line by picking two points on the line (p1 and p2) and using the following equation: m = (y2 - y1) / (x2 - x1)"
   ]
  },
  {
   "cell_type": "markdown",
   "metadata": {},
   "source": [
    "Once the computer has generated this line it will use it to predict certain values.\n",
    "\n",
    "Note: The examples above are done in 2D space. In reality most of our best fit lines will span across multiple dimensions and therefore will have multiple slope values."
   ]
  },
  {
   "cell_type": "markdown",
   "metadata": {},
   "source": [
    "### Implementing the Algorithm"
   ]
  },
  {
   "cell_type": "markdown",
   "metadata": {},
   "source": [
    "Now that we understand how linear regression works we can use it to predict students final grades."
   ]
  },
  {
   "cell_type": "markdown",
   "metadata": {},
   "source": [
    "We will start by defining the model which we will be using.\n",
    "\n"
   ]
  },
  {
   "cell_type": "code",
   "execution_count": 9,
   "metadata": {},
   "outputs": [],
   "source": [
    "linear = linear_model.LinearRegression()"
   ]
  },
  {
   "cell_type": "markdown",
   "metadata": {},
   "source": [
    "Next we will train and score our model using the arrays we created in the previous tutorial."
   ]
  },
  {
   "cell_type": "code",
   "execution_count": 10,
   "metadata": {},
   "outputs": [
    {
     "data": {
      "text/plain": [
       "LinearRegression(copy_X=True, fit_intercept=True, n_jobs=1, normalize=False)"
      ]
     },
     "execution_count": 10,
     "metadata": {},
     "output_type": "execute_result"
    }
   ],
   "source": [
    "linear.fit(x_train, y_train)"
   ]
  },
  {
   "cell_type": "code",
   "execution_count": 11,
   "metadata": {},
   "outputs": [],
   "source": [
    "acc = linear.score(x_test, y_test) # acc stands for accuracy "
   ]
  },
  {
   "cell_type": "markdown",
   "metadata": {},
   "source": [
    "To see how well our algorithm performed on our test data we can print out the accuracy.\n",
    "\n"
   ]
  },
  {
   "cell_type": "code",
   "execution_count": 12,
   "metadata": {},
   "outputs": [
    {
     "name": "stdout",
     "output_type": "stream",
     "text": [
      "0.8443733244005991\n"
     ]
    }
   ],
   "source": [
    "print(acc)\n"
   ]
  },
  {
   "cell_type": "markdown",
   "metadata": {},
   "source": [
    "### Saving Our Model"
   ]
  },
  {
   "cell_type": "markdown",
   "metadata": {},
   "source": [
    "To save our model we will write to a new file using pickle.dump().\n",
    "\n"
   ]
  },
  {
   "cell_type": "code",
   "execution_count": 91,
   "metadata": {},
   "outputs": [],
   "source": [
    "#wb write mode  ,  f stands for file\n",
    "with open(\"studentgrades.pickle\", \"wb\") as f:\n",
    "    pickle.dump(linear, f)\n",
    "\n",
    "# linear is the name of the model we created in the last tutorial\n",
    "# it should be defined above this"
   ]
  },
  {
   "cell_type": "markdown",
   "metadata": {},
   "source": [
    "For this specific data set a score of above 80% is fairly good.\n"
   ]
  },
  {
   "cell_type": "markdown",
   "metadata": {},
   "source": [
    "### Viewing The Constants\n"
   ]
  },
  {
   "cell_type": "markdown",
   "metadata": {},
   "source": [
    "If we want to see the constants used to generate the line we can type the following.\n",
    "\n"
   ]
  },
  {
   "cell_type": "code",
   "execution_count": 92,
   "metadata": {},
   "outputs": [
    {
     "name": "stdout",
     "output_type": "stream",
     "text": [
      "Coefficient: \n",
      " [ 0.15285832  0.97199155 -0.22783581 -0.31108546  0.03634893]\n",
      "Intercept: \n",
      " -1.3213218714415191\n"
     ]
    }
   ],
   "source": [
    "print('Coefficient: \\n', linear.coef_) # These are each slope value\n",
    "print('Intercept: \\n', linear.intercept_) # This is the intercept"
   ]
  },
  {
   "cell_type": "markdown",
   "metadata": {},
   "source": [
    "### Predicting on Specific Students"
   ]
  },
  {
   "cell_type": "markdown",
   "metadata": {},
   "source": [
    "Seeing a score value is cool but I'd like to see how well our algorithm works on specific students. To do this we are going to print out all of our test data. Beside this data we will print the actual final grade and our models predicted grade."
   ]
  },
  {
   "cell_type": "code",
   "execution_count": 93,
   "metadata": {},
   "outputs": [
    {
     "name": "stdout",
     "output_type": "stream",
     "text": [
      "[11.63567561  9.16125696 15.77470264 18.39532658 15.16845234  9.85219928\n",
      "  3.60577905  7.97345145 19.25942875 12.53577886 20.03362073 16.44097756\n",
      " 11.33304817 11.3018822  13.68208015  8.34437567 10.74175074  7.73815305\n",
      " 12.30276008 11.93929847 13.69179469  9.31118424  6.58908273 10.08943698\n",
      "  9.3913447  12.75390013 10.51619457 11.24979852 11.33760742  7.95022641\n",
      "  5.04171437 14.94289616  6.88733677 -0.70698526  6.46790747  9.31118424\n",
      "  3.9168645  13.47891176 12.02173855  8.47400894]\n"
     ]
    }
   ],
   "source": [
    "predictions = linear.predict(x_test) # Gets a list of all predictions\n",
    "print(predictions)"
   ]
  },
  {
   "cell_type": "code",
   "execution_count": 94,
   "metadata": {},
   "outputs": [
    {
     "name": "stdout",
     "output_type": "stream",
     "text": [
      "11.635675608336822 [13 12  2  1  2] 12\n",
      "9.16125695571338 [11  9  2  0 14] 9\n",
      "15.774702643597376 [17 15  1  0  4] 16\n",
      "18.395326583150542 [19 18  3  0  0] 19\n",
      "15.168452340511227 [15 15  2  0  2] 16\n",
      "9.852199282427827 [11 10  1  0  0] 10\n",
      "3.6057790472217413 [6 5 1 2 0] 0\n",
      "7.973451454348805 [10  8  1  0  6] 11\n",
      "19.25942875448391 [18 18  1  1 24] 18\n",
      "12.535778859025667 [13 13  4  0  4] 12\n",
      "20.033620731083406 [18 19  1  0 10] 19\n",
      "16.440977555151512 [15 16  1  0  4] 15\n",
      "11.333048166446835 [10 12  3  0  4] 12\n",
      "11.301882203219671 [12 12  4  0  1] 12\n",
      "13.682080152274091 [13 13  2  0 23] 13\n",
      "8.344375665262167 [10  9  3  0  2] 8\n",
      "10.741750744222356 [11 11  2  0  4] 11\n",
      "7.738153051823431 [ 9  8  2  0 10] 8\n",
      "12.302760084839221 [11 13  4  0  6] 14\n",
      "11.939298469532986 [12 12  2  0  6] 12\n",
      "13.691794686572731 [12 14  3  0  7] 14\n",
      "9.311184244725279 [ 8 10  2  0  4] 9\n",
      "6.589082726780293 [8 8 1 3 2] 10\n",
      "10.0894369763422 [10 10  2  0 17] 10\n",
      "9.391344701323135 [ 9 10  2  0  2] 10\n",
      "12.75390013164527 [14 12  2  0 20] 13\n",
      "10.516194565643037 [10 11  2  0  2] 11\n",
      "11.249798516561787 [10 12  2  1  4] 12\n",
      "11.337607423124688 [ 8 12  1  0  0] 12\n",
      "7.950226412931743 [6 9 1 1 4] 8\n",
      "5.041714368344934 [7 6 1 1 0] 0\n",
      "14.942896161931909 [14 15  2  0  0] 15\n",
      "6.887336766350341 [9 8 1 3 6] 10\n",
      "-0.7069852621578914 [7 0 2 0 0] 0\n",
      "6.467907465522074 [8 7 2 0 6] 9\n",
      "9.311184244725279 [ 8 10  2  0  4] 10\n",
      "3.9168645040250336 [6 5 1 1 0] 0\n",
      "13.478911760516157 [15 13  2  0  9] 15\n",
      "12.02173855446977 [12 12  1  0  2] 11\n",
      "8.474008941433693 [ 7 10  3  1  0] 10\n"
     ]
    }
   ],
   "source": [
    "for x in range(len(predictions)):\n",
    "    print(predictions[x],x_test[x],y_test[x])"
   ]
  },
  {
   "cell_type": "markdown",
   "metadata": {},
   "source": [
    "In this tutorial we will be creating multiple models and saving ones that generate the best scores. We will also be plotting our data points to see a graphical representation of data correlation.\n",
    "\n",
    "Installing Packages\n",
    "In this tutorial we will need to install one more module called matplotlib. We will also be using the module pickle that does not need to be installed.\n",
    "\n",
    "Similarly to before we will activate our environment using activate \"environment name\" and then type pip install matplotlib in the command prompt."
   ]
  },
  {
   "cell_type": "markdown",
   "metadata": {},
   "source": [
    "### Saving Our Model"
   ]
  },
  {
   "cell_type": "markdown",
   "metadata": {},
   "source": [
    "To save our model we will write to a new file using pickle.dump()."
   ]
  },
  {
   "cell_type": "raw",
   "metadata": {},
   "source": [
    "with open(\"studentgrades.pickle\", \"wb\") as f:\n",
    "    pickle.dump(linear, f)\n",
    "\n",
    "# linear is the name of the model we created in the last tutorial\n",
    "# it should be defined above this"
   ]
  },
  {
   "cell_type": "markdown",
   "metadata": {},
   "source": [
    "### Loading Our Model"
   ]
  },
  {
   "cell_type": "markdown",
   "metadata": {},
   "source": [
    "Once we've saved our model we can load it in using the following two lines. Now you can remove the code that creates and trains our model as we are simply loading in an existing one from our pickle file."
   ]
  },
  {
   "cell_type": "code",
   "execution_count": 95,
   "metadata": {},
   "outputs": [],
   "source": [
    "#rb stands for read mode\n",
    "pickle_in = open(\"studentgrades.pickle\", \"rb\")\n",
    "linear = pickle.load(pickle_in)"
   ]
  },
  {
   "cell_type": "markdown",
   "metadata": {},
   "source": [
    "Now we can use linear to predict grades like before"
   ]
  },
  {
   "cell_type": "markdown",
   "metadata": {},
   "source": [
    "## Plotting Our Data\n"
   ]
  },
  {
   "cell_type": "markdown",
   "metadata": {},
   "source": [
    "To get a visual representation of our data we can plot it using the matplotlib library we installed earlier. We are going to use a scatter plot to visualize our data.\n",
    "\n"
   ]
  },
  {
   "cell_type": "code",
   "execution_count": 13,
   "metadata": {},
   "outputs": [
    {
     "data": {
      "image/png": "[encoded data removed]",
      "text/plain": [
       "<Figure size 432x288 with 1 Axes>"
      ]
     },
     "metadata": {},
     "output_type": "display_data"
    }
   ],
   "source": [
    "# Drawing and plotting model\n",
    "plot = \"studytime\" # Change this to G1, G2, studytime or absences to see other graphs\n",
    "style.use(\"ggplot\")\n",
    "plt.scatter(data[plot], data[\"G3\"]) \n",
    "plt.legend(loc=4)\n",
    "plt.xlabel(plot)\n",
    "plt.ylabel(\"Final Grade\")\n",
    "plt.show()"
   ]
  },
  {
   "cell_type": "code",
   "execution_count": 105,
   "metadata": {},
   "outputs": [
    {
     "name": "stdout",
     "output_type": "stream",
     "text": [
      "Accuracy: 0.7573383488733711\n",
      "Accuracy: 0.814995442231909\n",
      "Accuracy: 0.9030302896774295\n",
      "Accuracy: 0.7164681105787252\n",
      "Accuracy: 0.7915592584894876\n",
      "Accuracy: 0.8814242936823805\n",
      "Accuracy: 0.8096432986846539\n",
      "Accuracy: 0.7495412686621666\n",
      "Accuracy: 0.7121461203348313\n",
      "Accuracy: 0.9082428231287795\n",
      "Accuracy: 0.8522075316061357\n",
      "Accuracy: 0.7996961996450915\n",
      "Accuracy: 0.8797029635159638\n",
      "Accuracy: 0.868681573039029\n",
      "Accuracy: 0.8372751983648142\n",
      "Accuracy: 0.8029982483260826\n",
      "Accuracy: 0.8036575702576857\n",
      "Accuracy: 0.6854836957175294\n",
      "Accuracy: 0.8271870653659391\n",
      "Accuracy: 0.724023405022862\n",
      "-------------------------\n",
      "Coefficient: \n",
      " [ 0.16263628  0.96752199  0.04042923 -0.38807631 -0.17232091]\n",
      "Intercept: \n",
      " -1.517531921488077\n",
      "-------------------------\n",
      "4.548754334318992 [8 6 2 2 2] 5\n",
      "12.19548032861314 [12 12  8  0  1] 12\n",
      "8.227472922491197 [8 9 2 0 2] 8\n",
      "17.015559753609082 [16 17  0  0  3] 17\n",
      "5.047341556840689 [8 7 0 3 2] 0\n",
      "8.318935365399339 [8 9 0 0 1] 8\n",
      "12.748106023165931 [12 13  2  0  2] 13\n",
      "8.308331386152917 [8 9 4 0 2] 10\n",
      "12.999446681922631 [10 13 12  0  1] 12\n",
      "9.051332711134647 [10 10  0  1  2] 0\n",
      "12.359035967411454 [14 12  4  0  1] 11\n",
      "14.213221487965349 [14 14  2  0  1] 14\n",
      "11.148093622673699 [10 12  4  1  2] 12\n",
      "14.213221487965349 [14 14  2  0  1] 13\n",
      "7.25995093038339 [8 8 2 0 2] 8\n",
      "5.243129126768616 [7 6 4 0 2] 6\n",
      "8.070374278475452 [10  8 14  0  2] 9\n",
      "5.25373310601504 [7 6 0 0 1] 0\n",
      "8.309250741890354 [9 9 0 0 2] 10\n",
      "13.519019495164573 [15 13  9  0  2] 15\n",
      "8.633603952274667 [10  9  4  0  2] 9\n",
      "17.0058751301001 [17 17  0  0  4] 18\n",
      "10.126705958183644 [10 10 17  0  2] 10\n",
      "13.969726741242756 [13 14  0  0  1] 14\n",
      "9.59144132087349 [11 10  4  0  3] 11\n",
      "7.450400954904977 [7 9 6 2 2] 8\n",
      "3.9503345685390565 [5 5 4 0 2] 6\n",
      "9.119674089982416 [11  9 12  0  2] 9\n",
      "11.045952806426484 [13 11  8  0  3] 11\n",
      "16.138580848671978 [15 16  2  0  2] 16\n",
      "11.608263124488262 [12 12  2  0  3] 11\n",
      "8.95150016787641 [ 7 10  0  0  2] 11\n",
      "9.438489661321599 [ 9 10  4  0  2] 10\n",
      "8.380424582043087 [10  9  2  0  3] 10\n",
      "10.081658443045093 [ 8 11  0  0  2] 11\n",
      "16.37331032762303 [18 16  0  0  3] 16\n",
      "11.163315885227812 [12 11 16  1  1] 12\n",
      "12.667247559504213 [12 13  0  0  2] 13\n",
      "6.454145865599018 [8 7 6 0 2] 9\n",
      "12.94056755881124 [13 13  7  0  3] 14\n"
     ]
    },
    {
     "data": {
      "image/png": "[encoded data removed]",
      "text/plain": [
       "<Figure size 432x288 with 1 Axes>"
      ]
     },
     "metadata": {},
     "output_type": "display_data"
    }
   ],
   "source": [
    "#Import Library\n",
    "import numpy as np\n",
    "import pandas as pd\n",
    "from sklearn import linear_model\n",
    "import sklearn\n",
    "from sklearn.utils import shuffle\n",
    "import matplotlib.pyplot as plt\n",
    "from matplotlib import style\n",
    "import pickle\n",
    "\n",
    "style.use(\"ggplot\")\n",
    "\n",
    "data = pd.read_csv(\"student-mat.csv\", sep=\";\")\n",
    "\n",
    "predict = \"G3\"\n",
    "\n",
    "data = data[[\"G1\", \"G2\", \"absences\",\"failures\", \"studytime\",\"G3\"]]\n",
    "data = shuffle(data) # Optional - shuffle the data\n",
    "\n",
    "x = np.array(data.drop([predict], 1))\n",
    "y =np.array(data[predict])\n",
    "x_train, x_test, y_train, y_test = sklearn.model_selection.train_test_split(x, y, test_size=0.1)\n",
    "\n",
    "\n",
    "# TRAIN MODEL MULTIPLE TIMES FOR BEST SCORE\n",
    "best = 0\n",
    "for _ in range(20):\n",
    "    x_train, x_test, y_train, y_test = sklearn.model_selection.train_test_split(x, y, test_size=0.1)\n",
    "\n",
    "    linear = linear_model.LinearRegression()\n",
    "\n",
    "    linear.fit(x_train, y_train)\n",
    "    acc = linear.score(x_test, y_test)\n",
    "    print(\"Accuracy: \" + str(acc))\n",
    "\n",
    "    if acc > best:\n",
    "        best = acc\n",
    "        with open(\"studentgrades.pickle\", \"wb\") as f:\n",
    "            pickle.dump(linear, f)\n",
    "\n",
    "# LOAD MODEL\n",
    "pickle_in = open(\"studentgrades.pickle\", \"rb\")\n",
    "linear = pickle.load(pickle_in)\n",
    "\n",
    "\n",
    "print(\"-------------------------\")\n",
    "print('Coefficient: \\n', linear.coef_)\n",
    "print('Intercept: \\n', linear.intercept_)\n",
    "print(\"-------------------------\")\n",
    "\n",
    "predicted= linear.predict(x_test)\n",
    "for x in range(len(predicted)):\n",
    "    print(predicted[x], x_test[x], y_test[x])\n",
    "\n",
    "\n",
    "# Drawing and plotting model\n",
    "plot = \"failures\"\n",
    "plt.scatter(data[plot], data[\"G3\"])\n",
    "plt.legend(loc=4)\n",
    "plt.xlabel(plot)\n",
    "plt.ylabel(\"Final Grade\")\n",
    "plt.show()"
   ]
  },
  {
   "cell_type": "code",
   "execution_count": null,
   "metadata": {},
   "outputs": [],
   "source": []
  }
 ],
 "metadata": {
  "kernelspec": {
   "display_name": "Python 3.6 (tensorflow)",
   "language": "python",
   "name": "tensorflow"
  },
  "language_info": {
   "codemirror_mode": {
    "name": "ipython",
    "version": 3
   },
   "file_extension": ".py",
   "mimetype": "text/x-python",
   "name": "python",
   "nbconvert_exporter": "python",
   "pygments_lexer": "ipython3",
   "version": "3.6.6"
  }
 },
 "nbformat": 4,
 "nbformat_minor": 2
}
