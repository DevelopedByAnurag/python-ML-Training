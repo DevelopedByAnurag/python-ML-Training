{
 "cells": [
  {
   "cell_type": "code",
   "execution_count": 1,
   "metadata": {},
   "outputs": [
    {
     "name": "stdout",
     "output_type": "stream",
     "text": [
      "What is your name?\n",
      "jaskirat\n",
      "jaskirat\n"
     ]
    }
   ],
   "source": [
    "print(\"What is your name?\")\n",
    "name = input()\n",
    "print(name)  # This will print out whatever the user typed "
   ]
  },
  {
   "cell_type": "code",
   "execution_count": 4,
   "metadata": {},
   "outputs": [
    {
     "name": "stdout",
     "output_type": "stream",
     "text": [
      "What is your name: j\n",
      "Well hello there j\n"
     ]
    }
   ],
   "source": [
    "name = input(\"What is your name: \")\n",
    "print(\"Well hello there\", name) "
   ]
  },
  {
   "cell_type": "code",
   "execution_count": 5,
   "metadata": {},
   "outputs": [
    {
     "name": "stdout",
     "output_type": "stream",
     "text": [
      "Pick a Number: 1\n",
      "Pick Another Number: 2\n",
      "12\n"
     ]
    }
   ],
   "source": [
    "num1 = input(\"Pick a Number: \")\n",
    "num2 = input(\"Pick Another Number: \")\n",
    "\n",
    "SUM = num1 + num2\n",
    "\n",
    "print(SUM)"
   ]
  },
  {
   "cell_type": "code",
   "execution_count": 6,
   "metadata": {},
   "outputs": [
    {
     "name": "stdout",
     "output_type": "stream",
     "text": [
      "Pick a Number: 1\n",
      "Pick Another Number: 2\n",
      "3\n"
     ]
    }
   ],
   "source": [
    "num1 = input(\"Pick a Number: \")\n",
    "num2 = input(\"Pick Another Number: \")\n",
    "\n",
    "SUM = int(num1) + int(num2)\n",
    "\n",
    "print(SUM)"
   ]
  },
  {
   "cell_type": "markdown",
   "metadata": {},
   "source": [
    "## Comparison Operators"
   ]
  },
  {
   "cell_type": "raw",
   "metadata": {},
   "source": [
    "<   # less than\n",
    "<=  # less than or equal to\n",
    ">   # greater than\n",
    ">=  # greater than or equal to\n",
    "==  # equal to\n",
    "!=  # not equal to"
   ]
  },
  {
   "cell_type": "code",
   "execution_count": 5,
   "metadata": {},
   "outputs": [
    {
     "data": {
      "text/plain": [
       "True"
      ]
     },
     "execution_count": 5,
     "metadata": {},
     "output_type": "execute_result"
    }
   ],
   "source": [
    "x = 5\n",
    "y = 9\n",
    "\n",
    "x > y     # this is False\n",
    "y == x    # this is False\n",
    "x < y-1   # this is True\n",
    "x+1 != y  # this is True\n",
    "2.0 > 5   # this is False\n",
    "\n",
    "\"hello\" == \"hello\"  # this is True\n",
    "\"tim\" == \"Tim\"      # this is False\n",
    "\"a\" > \"b\"           # this is False\n",
    "\"apple\" < \"tim\"     # this is True\n",
    "\n",
    "\n",
    "\"5\" == 5 # this will return False\n",
    "\n",
    "# # NOT ALLOWED\n",
    "# 2 > \"hello\"\n",
    "# 3.0 < \"tim\"\n",
    "# These result in errors"
   ]
  },
  {
   "cell_type": "code",
   "execution_count": 19,
   "metadata": {},
   "outputs": [
    {
     "name": "stdout",
     "output_type": "stream",
     "text": [
      "False\n",
      "False\n",
      "True\n"
     ]
    }
   ],
   "source": [
    "check = \"tim\" == \"joe\"\n",
    "print(check)\n",
    "larger = 1 > 5\n",
    "print(larger)\n",
    "bothSame = larger == check  # This will be comparing two boolean values together\n",
    "# if they are both the same we will get a True value\n",
    "print(bothSame)"
   ]
  },
  {
   "cell_type": "code",
   "execution_count": 22,
   "metadata": {},
   "outputs": [
    {
     "name": "stdout",
     "output_type": "stream",
     "text": [
      "Please type a number: 12\n",
      "I always run\n"
     ]
    }
   ],
   "source": [
    "number = int(input(\"Please type a number: \"))\n",
    "if number < 5:\n",
    "    print(\"the number is less than 5\")\n",
    "print(\"I always run\")\n",
    "\n",
    "# If the number is less than 5 both print statements will execute. \n",
    "# Otherwise just \"I always run\" will be printed to the screen"
   ]
  },
  {
   "cell_type": "code",
   "execution_count": 23,
   "metadata": {},
   "outputs": [
    {
     "name": "stdout",
     "output_type": "stream",
     "text": [
      "Please type a number: 2\n",
      "the number is less than 5\n"
     ]
    }
   ],
   "source": [
    "number = int(input(\"Please type a number: \"))\n",
    "if number < 5:\n",
    "    print(\"the number is less than 5\")\n",
    "else:\n",
    "    print(\"the number is NOT less than 5\")"
   ]
  },
  {
   "cell_type": "code",
   "execution_count": 1,
   "metadata": {},
   "outputs": [
    {
     "name": "stdout",
     "output_type": "stream",
     "text": [
      "Please type a number: 15\n",
      "the number is NOT less than 15\n",
      "The number is 15\n"
     ]
    }
   ],
   "source": [
    "number = int(input(\"Please type a number: \"))\n",
    "\n",
    "if number < 5:\n",
    "    print(\"the number is less than 5\")\n",
    "elif number < 10:\n",
    "    print(\"the number is greater than or 5 and less than 10\")\n",
    "elif number < 15:\n",
    "    print(\"the number is greater than or 10 and less than 15\")\n",
    "else:\n",
    "    print(\"the number is NOT less than 15\")\n",
    "\n",
    "\n",
    "if number == 10:\n",
    "    print(\"The number is 10\")\n",
    "elif number == 15:\n",
    "    print(\"The number is 15\")\n",
    "\n",
    "# Notice it is not necessary to include an else"
   ]
  },
  {
   "cell_type": "markdown",
   "metadata": {},
   "source": [
    "## Chained Conditionals"
   ]
  },
  {
   "cell_type": "code",
   "execution_count": 25,
   "metadata": {},
   "outputs": [
    {
     "data": {
      "text/plain": [
       "True"
      ]
     },
     "execution_count": 25,
     "metadata": {},
     "output_type": "execute_result"
    }
   ],
   "source": [
    "True and False  # This gives False\n",
    "True and True   # This gives True\n",
    "False and False # This gives False\n",
    "\n",
    "True or False   # This gives True\n",
    "True or True    # This gives True\n",
    "False or False  # This gives False\n",
    "\n",
    "not True        # This gives False\n",
    "not False       # This gives True"
   ]
  },
  {
   "cell_type": "code",
   "execution_count": 26,
   "metadata": {},
   "outputs": [
    {
     "data": {
      "text/plain": [
       "True"
      ]
     },
     "execution_count": 26,
     "metadata": {},
     "output_type": "execute_result"
    }
   ],
   "source": [
    "(True or False) and False  # This is False\n",
    "False and True and True    # This is False\n",
    "(True or False) and True   # This is True\n",
    "True and not(False)        # This is True\n",
    "\n",
    "not(1 > 2 and 2-7 == -5)   # This is True"
   ]
  },
  {
   "cell_type": "code",
   "execution_count": 7,
   "metadata": {},
   "outputs": [
    {
     "name": "stdout",
     "output_type": "stream",
     "text": [
      "What is your favorite food? piz\n",
      "What is your favorite drink? sdc\n",
      "Neither of them is my favorite\n"
     ]
    }
   ],
   "source": [
    "food = input(\"What is your favorite food? \")\n",
    "drink = input(\"What is your favorite drink? \")\n",
    "\n",
    "if food == \"pizza\" and drink == \"juice\":\n",
    "    print(\"Those are my favorite as well!\")\n",
    "elif food == \"pizza\" or  drink == \"juice\" :\n",
    "    print(\"One of those is not my favorite\")\n",
    "else:\n",
    "    print(\"Neither of them is my favorite\")"
   ]
  },
  {
   "cell_type": "markdown",
   "metadata": {},
   "source": [
    "## Nested Statements"
   ]
  },
  {
   "cell_type": "code",
   "execution_count": 29,
   "metadata": {},
   "outputs": [
    {
     "name": "stdout",
     "output_type": "stream",
     "text": [
      "What is your age? 18\n",
      "What country do you live in? india\n",
      "Oh, I do not live there.\n"
     ]
    }
   ],
   "source": [
    "answer = input(\"What is your age? \")\n",
    "\n",
    "if int(answer) >= 18:\n",
    "    answer = input(\"What country do you live in? \")\n",
    "    if answer == \"canada\":\n",
    "        print(\"Me as well!\")\n",
    "    else:\n",
    "        print(\"Oh, I do not live there.\")"
   ]
  },
  {
   "cell_type": "code",
   "execution_count": 30,
   "metadata": {},
   "outputs": [
    {
     "name": "stdout",
     "output_type": "stream",
     "text": [
      "Type a number: 5\n"
     ]
    }
   ],
   "source": [
    "while True:\n",
    "    inp = input(\"Type a number: \")\n",
    "    if inp == \"5\":\n",
    "        break  # when 5 is typed we will stop asking the user to type a number\n",
    "    print(\"Try again...\")  # Try again will not be printed if 5 is typed"
   ]
  },
  {
   "cell_type": "code",
   "execution_count": 33,
   "metadata": {},
   "outputs": [
    {
     "name": "stdout",
     "output_type": "stream",
     "text": [
      "What is 5 + 712\n",
      "Correct!\n"
     ]
    }
   ],
   "source": [
    "# When we want to keep asking the user for input until we get a certain value\n",
    "run = True\n",
    "\n",
    "while run:\n",
    "    answer = input(\"What is 5 + 7\")\n",
    "    \n",
    "    if answer == \"12\":\n",
    "        print(\"Correct!\")\n",
    "        run = False\n",
    "    else:\n",
    "        print(\"Try Again...\")"
   ]
  },
  {
   "cell_type": "code",
   "execution_count": 34,
   "metadata": {},
   "outputs": [
    {
     "name": "stdout",
     "output_type": "stream",
     "text": [
      "I found 2 \"l\"s in the string\n"
     ]
    }
   ],
   "source": [
    "# This program counts how many \"l\"s appear in the string \n",
    "myString = \"hello tim\"\n",
    "\n",
    "count = 0\n",
    "for item in myString:\n",
    "    if item == \"l\":\n",
    "        count += 1\n",
    "\n",
    "print(\"I found\", count, '\"l\"s in the string')\n",
    "\n",
    "# When looping through a string we will look at each letter\n",
    "# Looping through a tuple works the same as a looping through list"
   ]
  },
  {
   "cell_type": "markdown",
   "metadata": {},
   "source": [
    "## String Methods "
   ]
  },
  {
   "cell_type": "code",
   "execution_count": 42,
   "metadata": {},
   "outputs": [
    {
     "name": "stdout",
     "output_type": "stream",
     "text": [
      "my nAME Is Tim\n",
      "['my', 'nAME', 'Is', 'Tim']\n",
      "    my name is tim\n",
      "    MY NAME IS TIM\n",
      "18\n"
     ]
    }
   ],
   "source": [
    "myStr = \"    my nAME Is Tim\"\n",
    "\n",
    "print(myStr.strip())  # -> \"my nAME Is Tim\"\n",
    "print(myStr.split())  # -> [\"my\", \"nAME\", \"Is\", \"Tim\"]\n",
    "print(myStr.lower())  # -> \"    my name is tim\"\n",
    "print(myStr.upper())  # -> \"    MY NAME IS TIM\"\n",
    "print(len(myStr))     # -> 18"
   ]
  },
  {
   "cell_type": "code",
   "execution_count": 45,
   "metadata": {},
   "outputs": [
    {
     "name": "stdout",
     "output_type": "stream",
     "text": [
      "What is my name?   Tim  \n",
      "Correct!\n"
     ]
    }
   ],
   "source": [
    "# we want the user to be able to type any variation of tim and be told that they are correct\n",
    "# if we don't convert everything into lower cases that means if the user types \"Tim\"\n",
    "# they'll be told that they got it wrong\n",
    "# same goes for spaces, if the user clicks space before or after they type \"tim\"\n",
    "# we still want to tell them they got the correct answer\n",
    "\n",
    "answer = input(\"What is my name? \")\n",
    "\n",
    "if answer.lower().strip() == \"tim\":\n",
    "    print(\"Correct!\")\n",
    "else:\n",
    "    print(\"That is incorrect!\")"
   ]
  },
  {
   "cell_type": "code",
   "execution_count": 5,
   "metadata": {},
   "outputs": [
    {
     "name": "stdout",
     "output_type": "stream",
     "text": [
      "False\n",
      "False\n"
     ]
    }
   ],
   "source": [
    "# This function checks to see if every element in a list is a zero\n",
    "# It returns to us a True or False value depending on the list it's given\n",
    "def isZeros(li):    \n",
    "    for element in li:\n",
    "        if element != 0:\n",
    "            return False\n",
    "    return True\n",
    "\n",
    "print(isZeros([0,0,0,1]))  # This will print False\n"
   ]
  },
  {
   "cell_type": "code",
   "execution_count": 2,
   "metadata": {},
   "outputs": [
    {
     "name": "stdout",
     "output_type": "stream",
     "text": [
      "False\n"
     ]
    }
   ],
   "source": [
    "# This function checks to see if every element in a list is a zero\n",
    "# It displays to the screen True or False\n",
    "# It does NOT return a value\n",
    "def isZeros(li):\n",
    "    check = True    \n",
    "    for element in li:\n",
    "        if element != 0:\n",
    "            check = False\n",
    "            break    \n",
    "    if check:\n",
    "        print(\"True\")\n",
    "    else:\n",
    "        print(\"False\")\n",
    "\n",
    "isZeros([0,0,0,1])  # Calling this will result in True being printed to the screen"
   ]
  },
  {
   "cell_type": "markdown",
   "metadata": {},
   "source": [
    "Problem: we want to ask a set of questions 5 times.\n",
    "\n",
    "Below I will show you three ways of solving this problem and then we will compare their efficiency and elegance."
   ]
  },
  {
   "cell_type": "code",
   "execution_count": 53,
   "metadata": {},
   "outputs": [
    {
     "name": "stdout",
     "output_type": "stream",
     "text": [
      "Please type your name: j\n",
      "Please type your age: 1\n",
      "Please type where you are from: d\n",
      "Your name is j you are 1 old and you are from d.\n",
      "Please type your name: 2\n",
      "Please type your age: 3\n",
      "Please type where you are from: 2\n",
      "Your name is 2 you are 3 old and you are from 2.\n",
      "Please type your name: \n",
      "Please type your age: \n",
      "Please type where you are from: \n",
      "Your name is  you are  old and you are from .\n",
      "Please type your name: \n",
      "Please type your age: \n",
      "Please type where you are from: \n",
      "Your name is  you are  old and you are from .\n",
      "Please type your name: \n",
      "Please type your age: \n",
      "Please type where you are from: \n",
      "Your name is  you are  old and you are from .\n"
     ]
    }
   ],
   "source": [
    "name = input(\"Please type your name: \")\n",
    "age = input(\"Please type your age: \")\n",
    "country = input(\"Please type where you are from: \")\n",
    "print(\"Your name is\", name, \"you are\", age, \"old and you are from\", country + '.')\n",
    "\n",
    "name = input(\"Please type your name: \")\n",
    "age = input(\"Please type your age: \")\n",
    "country = input(\"Please type where you are from: \")\n",
    "print(\"Your name is\", name, \"you are\", age, \"old and you are from\", country + '.')\n",
    "\n",
    "name = input(\"Please type your name: \")\n",
    "age = input(\"Please type your age: \")\n",
    "country = input(\"Please type where you are from: \")\n",
    "print(\"Your name is\", name, \"you are\", age, \"old and you are from\", country + '.')\n",
    "\n",
    "name = input(\"Please type your name: \")\n",
    "age = input(\"Please type your age: \")\n",
    "country = input(\"Please type where you are from: \")\n",
    "print(\"Your name is\", name, \"you are\", age, \"old and you are from\", country + '.')\n",
    "\n",
    "name = input(\"Please type your name: \")\n",
    "age = input(\"Please type your age: \")\n",
    "country = input(\"Please type where you are from: \")\n",
    "print(\"Your name is\", name, \"you are\", age, \"old and you are from\", country + '.')"
   ]
  },
  {
   "cell_type": "code",
   "execution_count": 56,
   "metadata": {},
   "outputs": [
    {
     "name": "stdout",
     "output_type": "stream",
     "text": [
      "Please type your name: jaskirat\n",
      "Please type your age: \n",
      "Please type where you are from: \n",
      "Your name is jaskirat you are  old and you are from .\n",
      "Please type your name: \n",
      "Please type your age: \n",
      "Please type where you are from: \n",
      "Your name is  you are  old and you are from .\n",
      "Please type your name: \n",
      "Please type your age: \n",
      "Please type where you are from: \n",
      "Your name is  you are  old and you are from .\n",
      "Please type your name: \n",
      "Please type your age: \n",
      "Please type where you are from: \n",
      "Your name is  you are  old and you are from .\n",
      "Please type your name: \n",
      "Please type your age: \n",
      "Please type where you are from: \n",
      "Your name is  you are  old and you are from .\n"
     ]
    }
   ],
   "source": [
    "def askQuestions():\n",
    "    name = input(\"Please type your name: \")\n",
    "    age = input(\"Please type your age: \")\n",
    "    country = input(\"Please type where you are from: \")\n",
    "    print(\"Your name is\", name, \"you are\", age, \"old and you are from\", country + '.')\n",
    "\n",
    "askQuestions() #1\n",
    "askQuestions() #2\n",
    "askQuestions() #3\n",
    "askQuestions() #4\n",
    "askQuestions() #5"
   ]
  },
  {
   "cell_type": "code",
   "execution_count": null,
   "metadata": {},
   "outputs": [],
   "source": [
    "def askQuestions():\n",
    "    name = input(\"Please type your name: \")\n",
    "    age = input(\"Please type your age: \")\n",
    "    country = input(\"Please type where you are from: \")\n",
    "    print(\"Your name is\", name, \"you are\", years, \"old and you are from\", country + '.')\n",
    "\n",
    "for i in range(5):\n",
    "    askQuestions()  # This will call the function 5 times"
   ]
  },
  {
   "cell_type": "markdown",
   "metadata": {},
   "source": [
    "As we can see solution 2 and 3 are much more efficient and elegant. Not only do they use less lines of code but they are easier to read and make our program look cleaner."
   ]
  },
  {
   "cell_type": "markdown",
   "metadata": {},
   "source": [
    "### Reading From A File"
   ]
  },
  {
   "cell_type": "code",
   "execution_count": 85,
   "metadata": {},
   "outputs": [],
   "source": [
    "f = open(\"PythonExercise.txt\", \"r\")"
   ]
  },
  {
   "cell_type": "markdown",
   "metadata": {},
   "source": [
    "The open function takes two arguments. The first is the file name (\"file.txt\") and the second is the mode (\"r\"). The mode will tell python if it is reading, writing or appending to the document. In our case we use \"r\" standing for read."
   ]
  },
  {
   "cell_type": "code",
   "execution_count": 86,
   "metadata": {},
   "outputs": [],
   "source": [
    "lines = f.readlines()"
   ]
  },
  {
   "cell_type": "markdown",
   "metadata": {},
   "source": [
    "Once we've opened the file and have stored it in a variable (in our case f) we can use the .readlines() method to convert each line into an element in a list."
   ]
  },
  {
   "cell_type": "code",
   "execution_count": 87,
   "metadata": {},
   "outputs": [
    {
     "name": "stdout",
     "output_type": "stream",
     "text": [
      "[' October 22nd, 2018\\n', 'Comments\\n', '53 Python Exercises and Questions for Beginners\\n', 'In this post, I’m going to list a bunch of Python exercises and questions for beginners. If you’re starting out with Python, this post is a good way to test your knowledge and learn new things. You may also want to check out my Python Tutorial for Beginners on YouTube and Python 3 Cheat Sheet.\\n', '\\n', 'NOTE: This post is a work in progress and I’ll regularly add new questions to the list. So, be sure to come back for new coding exercises.  If you enjoy this post, please spread the love by share it with others.\\n', '\\n', 'Let’s get started!\\n', '\\n', 'Questions\\n', 'Basics\\n', 'What is an expression?\\n', 'What is a syntax error?\\n', 'What is PEP8?\\n', 'What does a linter do?\\n', 'What is the result of this expression: “*” * 10\\n', 'What is CPython?\\n', 'How is CPython different from Jython?\\n', 'How is CPython different from IronPython?\\n', 'Primitive Types\\n', 'What is a variable?\\n', 'What are the primitive built-in types in Python?\\n', 'When should we use “”” (tripe quotes) to define strings?\\n', 'Assuming (name = “John Smith”), what does name[1] return?\\n', 'What about name[-2]?\\n', 'What about name[1:-1]?\\n', 'How to get the length of name?\\n', 'What are the escape sequences in Python?\\n', 'What is the result of f“{2+2}+{10%3}”?\\n', 'Given (name = “john smith”), what will name.title() return?\\n', 'What does name.strip() do?\\n', 'What will name.find(“Smith”) return?\\n', 'What will be the value of name after we call name.replace(“j”, “k”)?\\n', 'How can we check to see if name contains “John”?\\n', 'What are the 3 types of numbers in Python?\\n', 'Control Flow\\n', 'What is the difference between 10 / 3 and 10 // 3?\\n', 'What is the result of 10 ** 3?\\n', 'Given (x = 1), what will be the value of after we run (x += 2)?\\n', 'How can we round a number?\\n', 'What is the result of float(1)?\\n', 'What is the result of bool(“False”)?\\n', 'What are the falsy values in Python?\\n', 'What is the result of 10 == “10”?\\n', 'What is the result of “bag” > “apple”?\\n', 'What is the result of not(True or False)?\\n', 'Under what circumstances does the expression 18 <= age < 65 evaluate to True?\\n', 'What does range(1, 10, 2) return?\\n', 'Name 3 iterable objects in Python.\\n', 'Functions\\n', 'What is the difference between a parameter and an argument?\\n', 'All functions in Python by default return …?\\n', 'What are keyword arguments and when should we use them?\\n', 'How can we make a parameter of a function optional?\\n', 'What happens when we prefix a parameter with an asterisk (*)?\\n', 'What about two asterisks (**)?\\n', 'What is scope?\\n', 'What is the difference between local and global variables?\\n', 'Why is using the global statement a bad practice?\\n', 'Coding Exercises\\n', 'Write a function that returns the maximum of two numbers.\\n', 'Write a function called fizz_buzz that takes a number.\\n', 'If the number is divisible by 3, it should return “Fizz”.\\n', 'If it is divisible by 5, it should return “Buzz”.\\n', 'If it is divisible by both 3 and 5, it should return “FizzBuzz”.\\n', 'Otherwise, it should return the same number.\\n', 'Write a function for checking the speed of drivers. This function should have one parameter: speed.\\n', 'If speed is less than 70, it should print “Ok”.\\n', 'Otherwise, for every 5km above the speed limit (70), it should give the driver one demerit point and print the total number of demerit points. For example, if the speed is 80, it should print: “Points: 2”.\\n', 'If the driver gets more than 12 points, the function should print: “License suspended”\\n', 'Write a function called showNumbers that takes a parameter called limit. It should print all the numbers between 0 and limit with a label to identify the even and odd numbers. For example, if the limit is 3, it should print:\\n', '0 EVEN\\n', '1 ODD\\n', '2 EVEN\\n', '3 ODD\\n', 'Write a function that returns the sum of multiples of 3 and 5 between 0 and limit (parameter). For example, if limit is 20, it should return the sum of 3, 5, 6, 9, 10, 12, 15, 18, 20.\\n', 'Write a function called show_stars(rows). If rows is 5, it should print the following:\\n', '*\\n', '**\\n', '***\\n', '****\\n', '*****\\n', 'Write a function that prints all the prime numbers between 0 and limit where limit is a parameter.']\n"
     ]
    }
   ],
   "source": [
    "print(lines)\n",
    "# lines looks like [\"line 1 \\n\", \"line 2 \\n\", \"line 3\"]"
   ]
  },
  {
   "cell_type": "markdown",
   "metadata": {},
   "source": [
    "Now you may notice that each element in the list (excluding the last in some cases) has a trailing \"\\n\". This \"\\n\" is known as an escape character and it is how programs know to go to a newline. Typically this character is not visible to us but since we are reading in all of the content of the file we see it. To remove this character we can utilize the .strip() method."
   ]
  },
  {
   "cell_type": "code",
   "execution_count": 89,
   "metadata": {},
   "outputs": [
    {
     "name": "stdout",
     "output_type": "stream",
     "text": [
      "['October 22nd, 2018', 'Comments', '53 Python Exercises and Questions for Beginners', 'In this post, I’m going to list a bunch of Python exercises and questions for beginners. If you’re starting out with Python, this post is a good way to test your knowledge and learn new things. You may also want to check out my Python Tutorial for Beginners on YouTube and Python 3 Cheat Sheet.', '', 'NOTE: This post is a work in progress and I’ll regularly add new questions to the list. So, be sure to come back for new coding exercises.  If you enjoy this post, please spread the love by share it with others.', '', 'Let’s get started!', '', 'Questions', 'Basics', 'What is an expression?', 'What is a syntax error?', 'What is PEP8?', 'What does a linter do?', 'What is the result of this expression: “*” * 10', 'What is CPython?', 'How is CPython different from Jython?', 'How is CPython different from IronPython?', 'Primitive Types', 'What is a variable?', 'What are the primitive built-in types in Python?', 'When should we use “”” (tripe quotes) to define strings?', 'Assuming (name = “John Smith”), what does name[1] return?', 'What about name[-2]?', 'What about name[1:-1]?', 'How to get the length of name?', 'What are the escape sequences in Python?', 'What is the result of f“{2+2}+{10%3}”?', 'Given (name = “john smith”), what will name.title() return?', 'What does name.strip() do?', 'What will name.find(“Smith”) return?', 'What will be the value of name after we call name.replace(“j”, “k”)?', 'How can we check to see if name contains “John”?', 'What are the 3 types of numbers in Python?', 'Control Flow', 'What is the difference between 10 / 3 and 10 // 3?', 'What is the result of 10 ** 3?', 'Given (x = 1), what will be the value of after we run (x += 2)?', 'How can we round a number?', 'What is the result of float(1)?', 'What is the result of bool(“False”)?', 'What are the falsy values in Python?', 'What is the result of 10 == “10”?', 'What is the result of “bag” > “apple”?', 'What is the result of not(True or False)?', 'Under what circumstances does the expression 18 <= age < 65 evaluate to True?', 'What does range(1, 10, 2) return?', 'Name 3 iterable objects in Python.', 'Functions', 'What is the difference between a parameter and an argument?', 'All functions in Python by default return …?', 'What are keyword arguments and when should we use them?', 'How can we make a parameter of a function optional?', 'What happens when we prefix a parameter with an asterisk (*)?', 'What about two asterisks (**)?', 'What is scope?', 'What is the difference between local and global variables?', 'Why is using the global statement a bad practice?', 'Coding Exercises', 'Write a function that returns the maximum of two numbers.', 'Write a function called fizz_buzz that takes a number.', 'If the number is divisible by 3, it should return “Fizz”.', 'If it is divisible by 5, it should return “Buzz”.', 'If it is divisible by both 3 and 5, it should return “FizzBuzz”.', 'Otherwise, it should return the same number.', 'Write a function for checking the speed of drivers. This function should have one parameter: speed.', 'If speed is less than 70, it should print “Ok”.', 'Otherwise, for every 5km above the speed limit (70), it should give the driver one demerit point and print the total number of demerit points. For example, if the speed is 80, it should print: “Points: 2”.', 'If the driver gets more than 12 points, the function should print: “License suspended”', 'Write a function called showNumbers that takes a parameter called limit. It should print all the numbers between 0 and limit with a label to identify the even and odd numbers. For example, if the limit is 3, it should print:', '0 EVEN', '1 ODD', '2 EVEN', '3 ODD', 'Write a function that returns the sum of multiples of 3 and 5 between 0 and limit (parameter). For example, if limit is 20, it should return the sum of 3, 5, 6, 9, 10, 12, 15, 18, 20.', 'Write a function called show_stars(rows). If rows is 5, it should print the following:', '*', '**', '***', '****', '*****', 'Write a function that prints all the prime numbers between 0 and limit where limit is a parameter.']\n"
     ]
    }
   ],
   "source": [
    "f = open(\"PythonExercise.txt\", \"r\")\n",
    "\n",
    "lines = f.readlines()\n",
    "for i in range (len(lines)):\n",
    "    lines[i]=lines[i].strip()\n",
    "print(lines)\n",
    "# lines now looks like [\"line 1\", \"line 2\", \"line 3\"]"
   ]
  },
  {
   "cell_type": "markdown",
   "metadata": {},
   "source": [
    "## Writing to a File"
   ]
  },
  {
   "cell_type": "markdown",
   "metadata": {},
   "source": [
    "Appending to a file will add to the end of it. If we are opening in a file in \"a\" mode we must ensure it is in the same directory as our python script."
   ]
  },
  {
   "cell_type": "code",
   "execution_count": 90,
   "metadata": {},
   "outputs": [],
   "source": [
    "f = open(\"PythonExercise.txt\", \"a\")"
   ]
  },
  {
   "cell_type": "markdown",
   "metadata": {},
   "source": [
    "Opening a file in \"w\" or write mode will clear the entire file if it exists. If it does not exist it will create a new one for us."
   ]
  },
  {
   "cell_type": "code",
   "execution_count": 92,
   "metadata": {},
   "outputs": [],
   "source": [
    "f = open(\"PythonExercise.txt\", \"w\")\n",
    "\n",
    "lines = [\"line 1\", \"line 2\", \"line 3\"]\n",
    "for line in lines:\n",
    "    f.write(line + \"\\n\")\n",
    "\n",
    "f.close()  # Once we are done writing we must close the file to save the changes."
   ]
  },
  {
   "cell_type": "markdown",
   "metadata": {},
   "source": [
    "### List Methods\n"
   ]
  },
  {
   "cell_type": "code",
   "execution_count": 97,
   "metadata": {},
   "outputs": [
    {
     "data": {
      "text/plain": [
       "2"
      ]
     },
     "execution_count": 97,
     "metadata": {},
     "output_type": "execute_result"
    }
   ],
   "source": [
    "myList = [\"a\", \"b\", \"b\", \"a\", \"c\", \"d\"]\n",
    "\n",
    "myList.count(\"a\")  # -> 2\n",
    "myList.count(\"b\")  # -> 2"
   ]
  },
  {
   "cell_type": "code",
   "execution_count": 98,
   "metadata": {},
   "outputs": [
    {
     "name": "stdout",
     "output_type": "stream",
     "text": [
      "Email Address: jkrt.ngh69@gmail.com\n",
      "Valid Email\n"
     ]
    }
   ],
   "source": [
    "email = input(\"Email Address: \")\n",
    "\n",
    "if email.count(\"@\") == 1 and len(email) >= 5:\n",
    "    if email.find(\".com\") == len(email) - 4:\n",
    "        print(\"Valid Email\")\n",
    "    else:\n",
    "        print(\"Invalid Email, must end with .com\")\n",
    "else:\n",
    "    print(\"Invalid Email, must contain one @ and be longer than 5 characters\")"
   ]
  },
  {
   "cell_type": "markdown",
   "metadata": {},
   "source": [
    "## Modular Programming"
   ]
  },
  {
   "cell_type": "markdown",
   "metadata": {},
   "source": [
    "Modular programming is the practice of splitting our code up into different files (modules) and then importing that code so that we can use it for many different projects. Typically code that you will be reusing goes into its own module so you can simply import that module rather than copying and pasting. This makes our programs more readable, easier to scale and nicer to work with.\n",
    "\n",
    "A module is typically any python file that contains only functions and classes. A good example of module you may have used before is the math module. We can create and import our own modules."
   ]
  },
  {
   "cell_type": "raw",
   "metadata": {},
   "source": [
    "# File name: myModule.py\n",
    "\n",
    "def func(x):\n",
    "    return x + 2\n",
    "\n",
    "def func2(y):\n",
    "    return y * 78"
   ]
  },
  {
   "cell_type": "raw",
   "metadata": {},
   "source": [
    "# File name: main.py\n",
    "\n",
    "import myModule\n",
    "\n",
    "value = myModule.func(5)  # this will call the func function from myModule\n",
    "\n",
    "print(value)  # this prints 7"
   ]
  },
  {
   "cell_type": "markdown",
   "metadata": {},
   "source": [
    "We can use the import keyword to import modules that are built into python or that we've created.\n",
    "Note: To import our own modules they must be in the same directory as the file we are importing from."
   ]
  },
  {
   "cell_type": "markdown",
   "metadata": {},
   "source": [
    "To avoid the use of \"myModule\" we can import specific functions from our modules using a combination of keywords \"import\" and \"from\"."
   ]
  },
  {
   "cell_type": "raw",
   "metadata": {},
   "source": [
    "# File name: main.py\n",
    "\n",
    "from myModule import func\n",
    "\n",
    "value = func(5)  # now we can just use func like a regular function\n",
    "\n",
    "print(value)  # this prints 7"
   ]
  },
  {
   "cell_type": "markdown",
   "metadata": {},
   "source": [
    "### Catching Errors"
   ]
  },
  {
   "cell_type": "code",
   "execution_count": 8,
   "metadata": {},
   "outputs": [
    {
     "name": "stdout",
     "output_type": "stream",
     "text": [
      "I will add 5 to any number you give me.\n",
      "type a number:abc\n"
     ]
    },
    {
     "ename": "ValueError",
     "evalue": "invalid literal for int() with base 10: 'abc'",
     "output_type": "error",
     "traceback": [
      "\u001b[1;31m---------------------------------------------------------------------------\u001b[0m",
      "\u001b[1;31mValueError\u001b[0m                                Traceback (most recent call last)",
      "\u001b[1;32m<ipython-input-8-1a581593e4b2>\u001b[0m in \u001b[0;36m<module>\u001b[1;34m()\u001b[0m\n\u001b[0;32m      2\u001b[0m \u001b[0mnum\u001b[0m \u001b[1;33m=\u001b[0m \u001b[0minput\u001b[0m\u001b[1;33m(\u001b[0m\u001b[1;34m\"type a number:\"\u001b[0m\u001b[1;33m)\u001b[0m\u001b[1;33m\u001b[0m\u001b[0m\n\u001b[0;32m      3\u001b[0m \u001b[1;33m\u001b[0m\u001b[0m\n\u001b[1;32m----> 4\u001b[1;33m \u001b[0maddedNum\u001b[0m \u001b[1;33m=\u001b[0m \u001b[0mint\u001b[0m\u001b[1;33m(\u001b[0m\u001b[0mnum\u001b[0m\u001b[1;33m)\u001b[0m \u001b[1;33m+\u001b[0m \u001b[1;36m5\u001b[0m\u001b[1;33m\u001b[0m\u001b[0m\n\u001b[0m\u001b[0;32m      5\u001b[0m \u001b[0mprint\u001b[0m\u001b[1;33m(\u001b[0m\u001b[1;34m\"5 +\"\u001b[0m\u001b[1;33m,\u001b[0m \u001b[0mnum\u001b[0m\u001b[1;33m,\u001b[0m \u001b[1;34m\"is\"\u001b[0m\u001b[1;33m,\u001b[0m \u001b[0maddedNum\u001b[0m\u001b[1;33m)\u001b[0m\u001b[1;33m\u001b[0m\u001b[0m\n",
      "\u001b[1;31mValueError\u001b[0m: invalid literal for int() with base 10: 'abc'"
     ]
    }
   ],
   "source": [
    "print(\"I will add 5 to any number you give me.\")\n",
    "num = input(\"type a number:\")\n",
    "\n",
    "addedNum = int(num) + 5\n",
    "print(\"5 +\", num, \"is\", addedNum)"
   ]
  },
  {
   "cell_type": "markdown",
   "metadata": {},
   "source": [
    "### Try -Catch"
   ]
  },
  {
   "cell_type": "code",
   "execution_count": 7,
   "metadata": {},
   "outputs": [
    {
     "name": "stdout",
     "output_type": "stream",
     "text": [
      "I will add 5 to any number you give me.\n",
      "type a number:ax\n",
      "That is not a number!!\n"
     ]
    }
   ],
   "source": [
    "print(\"I will add 5 to any number you give me.\")\n",
    "num = input(\"type a number:\")\n",
    "\n",
    "try:\n",
    "    addedNum = int(num) + 5\n",
    "    print(\"5 +\", num, \"is\", addedNum)\n",
    "except:\n",
    "    print(\"That is not a number!!\")"
   ]
  },
  {
   "cell_type": "markdown",
   "metadata": {},
   "source": [
    "## Global vs Local Variables"
   ]
  },
  {
   "cell_type": "markdown",
   "metadata": {},
   "source": [
    "Now that we've learned about functions it's time to understand an important topic, the difference between global and local variables. When we create a variable within a function is it said to be local to that function. This means that we cannot access variables that we've created within that function outside of it."
   ]
  },
  {
   "cell_type": "code",
   "execution_count": 102,
   "metadata": {},
   "outputs": [
    {
     "name": "stdout",
     "output_type": "stream",
     "text": [
      "7\n"
     ]
    }
   ],
   "source": [
    "def myFunc():\n",
    "    y = 7\n",
    "    print(y)\n",
    "\n",
    "myFunc()\n",
    "print(y)  # -> This will cause an error!\n",
    "# We cannot access the variable y as it is defined within a function"
   ]
  },
  {
   "cell_type": "markdown",
   "metadata": {},
   "source": [
    "When we create variables in the main-line (not within a function) they are said to be global. This means that all of our functions can access these variables so long as they are defined after the variable is created."
   ]
  },
  {
   "cell_type": "markdown",
   "metadata": {},
   "source": [
    "When we create variables in the main-line (not within a function) they are said to be global. This means that all of our functions can access these variables so long as they are defined after the variable is created."
   ]
  },
  {
   "cell_type": "code",
   "execution_count": 9,
   "metadata": {},
   "outputs": [
    {
     "name": "stdout",
     "output_type": "stream",
     "text": [
      "7\n"
     ]
    }
   ],
   "source": [
    "x = 7\n",
    "def myFunc():\n",
    "    print(x)  # This will print 7\n",
    "    pass\n",
    "myFunc()"
   ]
  },
  {
   "cell_type": "markdown",
   "metadata": {},
   "source": [
    "## Global Keyword\n"
   ]
  },
  {
   "cell_type": "markdown",
   "metadata": {},
   "source": [
    "Many times we would like to change a global variable from within a function. However, have a look at what happens when we try this below."
   ]
  },
  {
   "cell_type": "code",
   "execution_count": 110,
   "metadata": {},
   "outputs": [
    {
     "name": "stdout",
     "output_type": "stream",
     "text": [
      "7\n"
     ]
    },
    {
     "data": {
      "text/plain": [
       "7"
      ]
     },
     "execution_count": 110,
     "metadata": {},
     "output_type": "execute_result"
    }
   ],
   "source": [
    "x = 7\n",
    "\n",
    "def myFunc():\n",
    "    x = 5\n",
    "    \n",
    "myFunc()\n",
    "print(x)\n",
    "\n",
    "# OUTPUT:\n",
    "7"
   ]
  },
  {
   "cell_type": "markdown",
   "metadata": {},
   "source": [
    "When we try to change the value of x from within the function what we actually end up doing is creating a new variable local to myFunc. To avoid this problem we can use the \"global\" keyword."
   ]
  },
  {
   "cell_type": "code",
   "execution_count": 113,
   "metadata": {},
   "outputs": [
    {
     "name": "stdout",
     "output_type": "stream",
     "text": [
      "5\n"
     ]
    },
    {
     "data": {
      "text/plain": [
       "5"
      ]
     },
     "execution_count": 113,
     "metadata": {},
     "output_type": "execute_result"
    }
   ],
   "source": [
    "x = 7\n",
    "\n",
    "def myFunc():\n",
    "    global x\n",
    "    x = 5\n",
    "    \n",
    "myFunc()\n",
    "print(x)\n",
    "\n",
    "# OUTPUT\n",
    "5"
   ]
  },
  {
   "cell_type": "markdown",
   "metadata": {},
   "source": [
    "## Objects"
   ]
  },
  {
   "cell_type": "markdown",
   "metadata": {},
   "source": [
    "What is an Object?\n",
    "In python almost everything we create and use is an object. Pretty much any time we declare a variable we are creating a new object of a certain class. Different objects have certain properties and they inherit those properties from the class they belong to. For example objects of type str have methods like .strip() and .split(), Integers can be added and lists can be indexed. These are all proprties specific to objects of certain classes."
   ]
  },
  {
   "cell_type": "markdown",
   "metadata": {},
   "source": [
    "Up until this point you may have have heard me reference objects but never explain what they are. In python almost everything is an object! When we create variables and set them equal to certain data types what we are doing is creating a new object of that data type. When we create objects we say they are of different classes. Each class has attributes and properties associated with it. For example when we create a variable and set it = 1 we are creating a new object of class integer. Integers can be added, divided, multiplied etc. We can use the “type()” function to determine what class objects belong to."
   ]
  },
  {
   "cell_type": "code",
   "execution_count": 117,
   "metadata": {},
   "outputs": [
    {
     "name": "stdout",
     "output_type": "stream",
     "text": [
      "<class 'str'>\n",
      "<class 'int'>\n",
      "<class 'list'>\n"
     ]
    }
   ],
   "source": [
    "print(type(\"hello\"))  # -> <class 'str'>\n",
    "print(type(1))        # -> <class 'int'>\n",
    "print(type([1,3]))   # -> <class 'list'>"
   ]
  },
  {
   "cell_type": "markdown",
   "metadata": {},
   "source": [
    "## Classes\n"
   ]
  },
  {
   "cell_type": "markdown",
   "metadata": {},
   "source": [
    "he built in data types in python are really just classes! That means that we can create our own data types by creating our own classes. Below is the basic syntax for creating our own class and adding our own methods."
   ]
  },
  {
   "cell_type": "code",
   "execution_count": 118,
   "metadata": {},
   "outputs": [
    {
     "name": "stdout",
     "output_type": "stream",
     "text": [
      "24\n"
     ]
    }
   ],
   "source": [
    "class Number:\n",
    "    def __init__(self):\n",
    "        self.var = 24\n",
    "    \n",
    "    def display(self):\n",
    "        print(self.var)\n",
    "\n",
    "newNum = Number()\n",
    "newNum.display()"
   ]
  },
  {
   "cell_type": "markdown",
   "metadata": {},
   "source": [
    "The __init__() is whats known as a constructor method. It is automatically called when we create a new instance of the class."
   ]
  },
  {
   "cell_type": "markdown",
   "metadata": {},
   "source": [
    "The display() is whats known as a method. We can use it on instances of the class."
   ]
  },
  {
   "cell_type": "code",
   "execution_count": 119,
   "metadata": {},
   "outputs": [
    {
     "name": "stdout",
     "output_type": "stream",
     "text": [
      "Help on class int in module builtins:\n",
      "\n",
      "class int(object)\n",
      " |  int(x=0) -> integer\n",
      " |  int(x, base=10) -> integer\n",
      " |  \n",
      " |  Convert a number or string to an integer, or return 0 if no arguments\n",
      " |  are given.  If x is a number, return x.__int__().  For floating point\n",
      " |  numbers, this truncates towards zero.\n",
      " |  \n",
      " |  If x is not a number or if base is given, then x must be a string,\n",
      " |  bytes, or bytearray instance representing an integer literal in the\n",
      " |  given base.  The literal can be preceded by '+' or '-' and be surrounded\n",
      " |  by whitespace.  The base defaults to 10.  Valid bases are 0 and 2-36.\n",
      " |  Base 0 means to interpret the base from the string as an integer literal.\n",
      " |  >>> int('0b100', base=0)\n",
      " |  4\n",
      " |  \n",
      " |  Methods defined here:\n",
      " |  \n",
      " |  __abs__(self, /)\n",
      " |      abs(self)\n",
      " |  \n",
      " |  __add__(self, value, /)\n",
      " |      Return self+value.\n",
      " |  \n",
      " |  __and__(self, value, /)\n",
      " |      Return self&value.\n",
      " |  \n",
      " |  __bool__(self, /)\n",
      " |      self != 0\n",
      " |  \n",
      " |  __ceil__(...)\n",
      " |      Ceiling of an Integral returns itself.\n",
      " |  \n",
      " |  __divmod__(self, value, /)\n",
      " |      Return divmod(self, value).\n",
      " |  \n",
      " |  __eq__(self, value, /)\n",
      " |      Return self==value.\n",
      " |  \n",
      " |  __float__(self, /)\n",
      " |      float(self)\n",
      " |  \n",
      " |  __floor__(...)\n",
      " |      Flooring an Integral returns itself.\n",
      " |  \n",
      " |  __floordiv__(self, value, /)\n",
      " |      Return self//value.\n",
      " |  \n",
      " |  __format__(...)\n",
      " |      default object formatter\n",
      " |  \n",
      " |  __ge__(self, value, /)\n",
      " |      Return self>=value.\n",
      " |  \n",
      " |  __getattribute__(self, name, /)\n",
      " |      Return getattr(self, name).\n",
      " |  \n",
      " |  __getnewargs__(...)\n",
      " |  \n",
      " |  __gt__(self, value, /)\n",
      " |      Return self>value.\n",
      " |  \n",
      " |  __hash__(self, /)\n",
      " |      Return hash(self).\n",
      " |  \n",
      " |  __index__(self, /)\n",
      " |      Return self converted to an integer, if self is suitable for use as an index into a list.\n",
      " |  \n",
      " |  __int__(self, /)\n",
      " |      int(self)\n",
      " |  \n",
      " |  __invert__(self, /)\n",
      " |      ~self\n",
      " |  \n",
      " |  __le__(self, value, /)\n",
      " |      Return self<=value.\n",
      " |  \n",
      " |  __lshift__(self, value, /)\n",
      " |      Return self<<value.\n",
      " |  \n",
      " |  __lt__(self, value, /)\n",
      " |      Return self<value.\n",
      " |  \n",
      " |  __mod__(self, value, /)\n",
      " |      Return self%value.\n",
      " |  \n",
      " |  __mul__(self, value, /)\n",
      " |      Return self*value.\n",
      " |  \n",
      " |  __ne__(self, value, /)\n",
      " |      Return self!=value.\n",
      " |  \n",
      " |  __neg__(self, /)\n",
      " |      -self\n",
      " |  \n",
      " |  __new__(*args, **kwargs) from builtins.type\n",
      " |      Create and return a new object.  See help(type) for accurate signature.\n",
      " |  \n",
      " |  __or__(self, value, /)\n",
      " |      Return self|value.\n",
      " |  \n",
      " |  __pos__(self, /)\n",
      " |      +self\n",
      " |  \n",
      " |  __pow__(self, value, mod=None, /)\n",
      " |      Return pow(self, value, mod).\n",
      " |  \n",
      " |  __radd__(self, value, /)\n",
      " |      Return value+self.\n",
      " |  \n",
      " |  __rand__(self, value, /)\n",
      " |      Return value&self.\n",
      " |  \n",
      " |  __rdivmod__(self, value, /)\n",
      " |      Return divmod(value, self).\n",
      " |  \n",
      " |  __repr__(self, /)\n",
      " |      Return repr(self).\n",
      " |  \n",
      " |  __rfloordiv__(self, value, /)\n",
      " |      Return value//self.\n",
      " |  \n",
      " |  __rlshift__(self, value, /)\n",
      " |      Return value<<self.\n",
      " |  \n",
      " |  __rmod__(self, value, /)\n",
      " |      Return value%self.\n",
      " |  \n",
      " |  __rmul__(self, value, /)\n",
      " |      Return value*self.\n",
      " |  \n",
      " |  __ror__(self, value, /)\n",
      " |      Return value|self.\n",
      " |  \n",
      " |  __round__(...)\n",
      " |      Rounding an Integral returns itself.\n",
      " |      Rounding with an ndigits argument also returns an integer.\n",
      " |  \n",
      " |  __rpow__(self, value, mod=None, /)\n",
      " |      Return pow(value, self, mod).\n",
      " |  \n",
      " |  __rrshift__(self, value, /)\n",
      " |      Return value>>self.\n",
      " |  \n",
      " |  __rshift__(self, value, /)\n",
      " |      Return self>>value.\n",
      " |  \n",
      " |  __rsub__(self, value, /)\n",
      " |      Return value-self.\n",
      " |  \n",
      " |  __rtruediv__(self, value, /)\n",
      " |      Return value/self.\n",
      " |  \n",
      " |  __rxor__(self, value, /)\n",
      " |      Return value^self.\n",
      " |  \n",
      " |  __sizeof__(...)\n",
      " |      Returns size in memory, in bytes\n",
      " |  \n",
      " |  __str__(self, /)\n",
      " |      Return str(self).\n",
      " |  \n",
      " |  __sub__(self, value, /)\n",
      " |      Return self-value.\n",
      " |  \n",
      " |  __truediv__(self, value, /)\n",
      " |      Return self/value.\n",
      " |  \n",
      " |  __trunc__(...)\n",
      " |      Truncating an Integral returns itself.\n",
      " |  \n",
      " |  __xor__(self, value, /)\n",
      " |      Return self^value.\n",
      " |  \n",
      " |  bit_length(...)\n",
      " |      int.bit_length() -> int\n",
      " |      \n",
      " |      Number of bits necessary to represent self in binary.\n",
      " |      >>> bin(37)\n",
      " |      '0b100101'\n",
      " |      >>> (37).bit_length()\n",
      " |      6\n",
      " |  \n",
      " |  conjugate(...)\n",
      " |      Returns self, the complex conjugate of any int.\n",
      " |  \n",
      " |  from_bytes(...) from builtins.type\n",
      " |      int.from_bytes(bytes, byteorder, *, signed=False) -> int\n",
      " |      \n",
      " |      Return the integer represented by the given array of bytes.\n",
      " |      \n",
      " |      The bytes argument must be a bytes-like object (e.g. bytes or bytearray).\n",
      " |      \n",
      " |      The byteorder argument determines the byte order used to represent the\n",
      " |      integer.  If byteorder is 'big', the most significant byte is at the\n",
      " |      beginning of the byte array.  If byteorder is 'little', the most\n",
      " |      significant byte is at the end of the byte array.  To request the native\n",
      " |      byte order of the host system, use `sys.byteorder' as the byte order value.\n",
      " |      \n",
      " |      The signed keyword-only argument indicates whether two's complement is\n",
      " |      used to represent the integer.\n",
      " |  \n",
      " |  to_bytes(...)\n",
      " |      int.to_bytes(length, byteorder, *, signed=False) -> bytes\n",
      " |      \n",
      " |      Return an array of bytes representing an integer.\n",
      " |      \n",
      " |      The integer is represented using length bytes.  An OverflowError is\n",
      " |      raised if the integer is not representable with the given number of\n",
      " |      bytes.\n",
      " |      \n",
      " |      The byteorder argument determines the byte order used to represent the\n",
      " |      integer.  If byteorder is 'big', the most significant byte is at the\n",
      " |      beginning of the byte array.  If byteorder is 'little', the most\n",
      " |      significant byte is at the end of the byte array.  To request the native\n",
      " |      byte order of the host system, use `sys.byteorder' as the byte order value.\n",
      " |      \n",
      " |      The signed keyword-only argument determines whether two's complement is\n",
      " |      used to represent the integer.  If signed is False and a negative integer\n",
      " |      is given, an OverflowError is raised.\n",
      " |  \n",
      " |  ----------------------------------------------------------------------\n",
      " |  Data descriptors defined here:\n",
      " |  \n",
      " |  denominator\n",
      " |      the denominator of a rational number in lowest terms\n",
      " |  \n",
      " |  imag\n",
      " |      the imaginary part of a complex number\n",
      " |  \n",
      " |  numerator\n",
      " |      the numerator of a rational number in lowest terms\n",
      " |  \n",
      " |  real\n",
      " |      the real part of a complex number\n",
      "\n"
     ]
    }
   ],
   "source": [
    "#Help() Function\n",
    "help(int)"
   ]
  },
  {
   "cell_type": "markdown",
   "metadata": {},
   "source": [
    "## Definitions"
   ]
  },
  {
   "cell_type": "markdown",
   "metadata": {},
   "source": [
    "Instance: Whenever we create a new object we are said to be creating an instance of a class. For example typing the command x = 1 translates to: creating a new instance of the int class with the value 1 and the name x."
   ]
  },
  {
   "cell_type": "markdown",
   "metadata": {},
   "source": [
    "Method: You can think of a method as a function that is specific to certain objects and classes. Methods are created within a class and are only visible to instances of that class. An example of a method is .strip(). It can only be used on objects of class str as it is specific to the str class. All methods must be called on an instance of a class. We cannot simply type strip() as we need to include an instance followed by a period before it."
   ]
  },
  {
   "cell_type": "markdown",
   "metadata": {},
   "source": [
    "Attributes: An attribute is anything that is specific to a certain object. For example the object has an attribute color. We can change that color and modify it and if we create a new turtle object it can have a different color."
   ]
  },
  {
   "cell_type": "code",
   "execution_count": null,
   "metadata": {},
   "outputs": [],
   "source": [
    "class Dog():\n",
    "    def __init__(self):\n",
    "        print(\"Created a dog\")\n",
    "\n",
    "    def speak(self):\n",
    "        pass\n",
    "\n",
    "tim = Dog()  # This will print \"Created a dog\" because __init__ will automatically be called"
   ]
  },
  {
   "cell_type": "markdown",
   "metadata": {},
   "source": [
    "### The Self Keyword"
   ]
  },
  {
   "cell_type": "markdown",
   "metadata": {},
   "source": [
    "You may have noticed that each of my methods above contain the keyword self as a parameter. For now all of the methods we make must do just this. When we call methods on an instance of the class the name of that instance is automatically passed to the method as the argument self. This allows us to access and change attributes that are specific to this instance.\n",
    "\n",
    "To create a new attribute we must use the self keyword in the following way."
   ]
  },
  {
   "cell_type": "code",
   "execution_count": 120,
   "metadata": {},
   "outputs": [],
   "source": [
    "class Dog():\n",
    "    def __init__(self, name):\n",
    "        self.name = name  # self.name is now an attribute of the Dog class and has a specific value for each instance\n",
    "\n",
    "    def speak(self):\n",
    "        pass\n",
    "\n",
    "tim = Dog(\"Tim\") "
   ]
  },
  {
   "cell_type": "code",
   "execution_count": 121,
   "metadata": {},
   "outputs": [
    {
     "name": "stdout",
     "output_type": "stream",
     "text": [
      "Tim\n",
      "Fred\n"
     ]
    }
   ],
   "source": [
    "class Dog():\n",
    "    def __init__(self, name):\n",
    "        self.name = name  # self.name is now an attribute of the Dog class and has a specific value for each instance\n",
    "\n",
    "    def speak(self):\n",
    "        print(self.name)\n",
    "\n",
    "tim = Dog(\"Tim\") \n",
    "dog2 = Dog(\"Fred\")\n",
    "\n",
    "tim.speak()  # Prints \"Tim\"\n",
    "dog2.speak() # Prints \"Fred\""
   ]
  },
  {
   "cell_type": "markdown",
   "metadata": {},
   "source": [
    "## Changing Attributes"
   ]
  },
  {
   "cell_type": "code",
   "execution_count": 123,
   "metadata": {},
   "outputs": [
    {
     "name": "stdout",
     "output_type": "stream",
     "text": [
      "I am Tim and I am 7 years old\n"
     ]
    }
   ],
   "source": [
    "class Dog():\n",
    "    def __init__(self, name, age):\n",
    "        self.name = name\n",
    "        self.age = age \n",
    "\n",
    "    def speak(self):\n",
    "        print(\"I am\", self.name, \"and I am\", self.age, \"years old\")\n",
    "\n",
    "    def change_age(self, age):\n",
    "        self.age = age  # This changes the age attribute\n",
    "\n",
    "tim = Dog(\"Tim\", 5)\n",
    "tim.change_age(7)\n",
    "tim.speak() # This will print \"I am Tim and I am 7 years old\" "
   ]
  },
  {
   "cell_type": "code",
   "execution_count": 124,
   "metadata": {},
   "outputs": [
    {
     "name": "stdout",
     "output_type": "stream",
     "text": [
      "I am Tim and I am 7 years old\n"
     ]
    }
   ],
   "source": [
    "#The second way to change attribute is to do so outside of the class, like so:\n",
    "\n",
    "class Dog():\n",
    "    def __init__(self, name, age):\n",
    "        self.name = name\n",
    "        self.age = age \n",
    "\n",
    "    def speak(self):\n",
    "        print(\"I am\", self.name, \"and I am\", self.age, \"years old\")\n",
    "\n",
    "\n",
    "tim = Dog(\"Tim\", 5)\n",
    "tim.age = 7\n",
    "tim.speak() # This will print \"I am Tim and I am 7 years old\" "
   ]
  },
  {
   "cell_type": "markdown",
   "metadata": {},
   "source": [
    "Note: We can add new attributes to a class from outside of the __init__ method. However, we must do this within another method in the class. (Watch video if confused)"
   ]
  },
  {
   "cell_type": "markdown",
   "metadata": {},
   "source": [
    "## Inheritance"
   ]
  },
  {
   "cell_type": "markdown",
   "metadata": {},
   "source": [
    "When we create classes we can inherit methods and attributes from other already existing classes. This allows us to create a variety of different sub-classes or child classes based off of what is known as a parent class or super class."
   ]
  },
  {
   "cell_type": "raw",
   "metadata": {},
   "source": [
    "The following words are all equivalent and mean a class that inherits from another:\n",
    "- child class\n",
    "- subclass\n",
    "- derived class\n",
    "- concrete class\n",
    "\n",
    "The following words are all equivalent and mean a class that is inherited from:\n",
    "- parent class\n",
    "- super class\n",
    "- abstract class"
   ]
  },
  {
   "cell_type": "code",
   "execution_count": 126,
   "metadata": {},
   "outputs": [
    {
     "name": "stdout",
     "output_type": "stream",
     "text": [
      "I am Tim and I am 5 years old\n"
     ]
    }
   ],
   "source": [
    "class Animal():\n",
    "    def __init__(self, name, age):\n",
    "        self.name = name\n",
    "        self.age = age \n",
    "\n",
    "    def speak(self):\n",
    "        print(\"I am\", self.name, \"and I am\", self.age, \"years old\")\n",
    "\n",
    "\n",
    "class Dog(Animal):\n",
    "    def __init__(self, name, age):\n",
    "        self.name = name\n",
    "        self.age = age\n",
    "        self.type = \"dog\"\n",
    "\n",
    "    # Since we inherit from the animal class we can use the method speak on Dog objects\n",
    "\n",
    "\n",
    "tim = Dog(\"Tim\", 5)\n",
    "tim.speak() # This will print \"I am Tim and I am 5 years old\" "
   ]
  },
  {
   "cell_type": "markdown",
   "metadata": {},
   "source": [
    "## Calling a Super-Classes Constructor"
   ]
  },
  {
   "cell_type": "markdown",
   "metadata": {},
   "source": [
    "Often times when we create sub-classes we want to initialize them in a similar same way as the parent class. To save ourselves from repeating code we can call the parents __init__ function from inside of our childs class __init__ like so:"
   ]
  },
  {
   "cell_type": "code",
   "execution_count": 129,
   "metadata": {},
   "outputs": [
    {
     "name": "stdout",
     "output_type": "stream",
     "text": [
      "I am Tim and I am 5 years old\n"
     ]
    }
   ],
   "source": [
    "class Animal():\n",
    "    def __init__(self, name, age):\n",
    "        self.name = name\n",
    "        self.age = age \n",
    "\n",
    "    def speak(self):\n",
    "        print(\"I am\", self.name, \"and I am\", self.age, \"years old\")\n",
    "\n",
    "\n",
    "class Dog(Animal):\n",
    "    def __init__(self, name, age):\n",
    "        super().__init__(name, age)  # This will call the Animal classes constructor method\n",
    "\n",
    "\n",
    "tim = Dog(\"Tim\", 5)\n",
    "tim.speak() # This will print \"I am Tim and I am 5 years old\" "
   ]
  },
  {
   "cell_type": "markdown",
   "metadata": {},
   "source": [
    "## Overriding Methods"
   ]
  },
  {
   "cell_type": "markdown",
   "metadata": {},
   "source": [
    "Sometimes when we inherit from a parent class we want to have methods or attributes that have the same name as a method in the parent class but that have a different functionality. If we create a method or attribute inside of our child class with the same name as one in the parent it will override the parent class."
   ]
  },
  {
   "cell_type": "code",
   "execution_count": 136,
   "metadata": {},
   "outputs": [
    {
     "name": "stdout",
     "output_type": "stream",
     "text": [
      "I am a Dog\n"
     ]
    }
   ],
   "source": [
    "class Animal():\n",
    "    def __init__(self, name, age):\n",
    "        self.name = name\n",
    "        self.age = age \n",
    "\n",
    "    def speak(self):\n",
    "        print(\"I am\", self.name, \"and I am\", self.age, \"years old\")\n",
    "\n",
    "\n",
    "class Dog(Animal):\n",
    "    def __init__(self, name, age):\n",
    "        super().__init__(name, age)  # This will call the Animal classes constructor method\n",
    "        pass\n",
    "    def speak(self):\n",
    "        print(\"I am a Dog\")\n",
    "\n",
    "\n",
    "tim = Dog(\"Tim\", 5)\n",
    "tim.speak() # This will print \"I am Tim and I am 5 years old\" "
   ]
  },
  {
   "cell_type": "markdown",
   "metadata": {},
   "source": [
    "## Below is a realistic example of inheritance and where you may use it."
   ]
  },
  {
   "cell_type": "code",
   "execution_count": 139,
   "metadata": {},
   "outputs": [
    {
     "name": "stdout",
     "output_type": "stream",
     "text": [
      "Honk honk\n"
     ]
    },
    {
     "data": {
      "text/plain": [
       "100"
      ]
     },
     "execution_count": 139,
     "metadata": {},
     "output_type": "execute_result"
    }
   ],
   "source": [
    "class Veichle:\n",
    "    def __init__(self, price, color):\n",
    "        self.color = color\n",
    "        self.price = price\n",
    "        self.gas = 0\n",
    "\n",
    "    def fillUpTank(self):\n",
    "        self.gas = 100\n",
    "\n",
    "    def emptyTank(self):\n",
    "        self.gas = 0\n",
    "\n",
    "    def gasLeft(self):\n",
    "        return self.gas\n",
    "\n",
    "\n",
    "class Truck(Veichle):\n",
    "    def __init__(self, price, color, tires):\n",
    "        super().__init__(price, color)\n",
    "        self.tires = tires\n",
    "\n",
    "    def beep(self):\n",
    "        print(\"Honk honk\")\n",
    "\n",
    "\n",
    "class Car(Veichle):\n",
    "    def __init__(self, price, color, speed):\n",
    "        super().__init__(price, color)\n",
    "        self.speed = speed\n",
    "\n",
    "    def beep(self):\n",
    "        print(\"Beep Beep\")\n",
    "        pass\n",
    "    pass\n",
    "T1=Truck(\"120k\",'blue',8)\n",
    "T1.beep()\n",
    "T1.fillUpTank()\n",
    "T1.gas"
   ]
  },
  {
   "cell_type": "markdown",
   "metadata": {},
   "source": [
    "We often take for granted the fact that you can use operators like +, -, == on python builtin data types. However, in reality this functionality has actually been coded into the classes by python. This means that we can code this functionality into our own classes by creating some special methods."
   ]
  },
  {
   "cell_type": "code",
   "execution_count": 141,
   "metadata": {},
   "outputs": [
    {
     "name": "stdout",
     "output_type": "stream",
     "text": [
      "False\n"
     ]
    }
   ],
   "source": [
    "class Point():\n",
    "    def __init__(self, x=0, y=0):\n",
    "        self.x = x\n",
    "        self.y = y\n",
    "        self.coords = (self.x, self.y)\n",
    "\n",
    "    def move(self, x, y):\n",
    "        self.x += x\n",
    "        self.y += y\n",
    "\n",
    "p1 = Point(3, 4)\n",
    "p2 = Point(3, 2)\n",
    "p3 = Point(1, 3)\n",
    "p4 = Point(0, 1)\n",
    "#If we would like to compare two points for equality we would have to do something like this:\n",
    "isSame = p1.x == p2.x and p1.y == p2.y\n",
    "print(isSame)"
   ]
  },
  {
   "cell_type": "markdown",
   "metadata": {},
   "source": [
    "This is far from elegant and is extremely inefficient. To solve this problem we can overload the default python method __eq__."
   ]
  },
  {
   "cell_type": "code",
   "execution_count": 142,
   "metadata": {},
   "outputs": [
    {
     "name": "stdout",
     "output_type": "stream",
     "text": [
      "False\n"
     ]
    }
   ],
   "source": [
    "class Point():\n",
    "    def __init__(self, x=0, y=0):\n",
    "        self.x = x\n",
    "        self.y = y\n",
    "        self.coords = (self.x, self.y)\n",
    "\n",
    "    def move(self, x, y):\n",
    "        self.x += x\n",
    "        self.y += y\n",
    "\n",
    "    def __eq__(self, other):\n",
    "        return self.x == other.x and self.y == other.y\n",
    "\n",
    "p1 = Point(3, 4)\n",
    "p2 = Point(3, 2)\n",
    "p3 = Point(1, 3)\n",
    "p4 = Point(0, 1)\n",
    "\n",
    "# Now we can compare points using ==\n",
    "\n",
    "isSame = p1 == p2\n",
    "print(isSame)  # Prints False"
   ]
  },
  {
   "cell_type": "markdown",
   "metadata": {},
   "source": [
    "There are tons of other python default methods that we can overload. Some of the most used are featured below."
   ]
  },
  {
   "cell_type": "code",
   "execution_count": 151,
   "metadata": {},
   "outputs": [
    {
     "name": "stdout",
     "output_type": "stream",
     "text": [
      "<__main__.Point object at 0x000001E53F460DA0>\n",
      "x= 3\n",
      "y= 4\n",
      "x= 6\n",
      "y= 6\n"
     ]
    }
   ],
   "source": [
    "class Point():\n",
    "    def __init__(self, x=0, y=0):\n",
    "        self.x = x\n",
    "        self.y = y\n",
    "        self.coords = (self.x, self.y)\n",
    "\n",
    "    def move(self, x, y):\n",
    "        self.x += x\n",
    "        self.y += y\n",
    "\n",
    "    def __add__(self, other):\n",
    "        return Point(self.x + other.x, self.y + other.y)\n",
    "\n",
    "    def __sub__(self, other):\n",
    "        return Point(self.x + other.x, self.y + other.y)\n",
    "\n",
    "    def __mul__(self, other):\n",
    "        return self.x * other.x + self.y * other.y\n",
    "    def print(self):\n",
    "        print(\"x=\",self.x)\n",
    "        print(\"y=\",self.y)\n",
    "\n",
    "    \n",
    "p1 = Point(3, 4)\n",
    "p2 = Point(3, 2)\n",
    "p3 = Point(1, 3)\n",
    "p4 = Point(0, 1)\n",
    "print(p1)\n",
    "p1.print()\n",
    "p5 = p1 + p2  \n",
    "p6 = p4 - p1\n",
    "p7 = p2*p3\n",
    "p5.print()"
   ]
  },
  {
   "cell_type": "markdown",
   "metadata": {},
   "source": [
    "Now you may notice that when we try to print one of our point objects we get some cryptic text that looks like this\n",
    "\n",
    "\n",
    "<__main__.Point object at 0x000001E53F460DA0>\n",
    "\n",
    "\n",
    "This is because we have not defined how our point should be represented as a string. To do this we must overload the __str__ method."
   ]
  },
  {
   "cell_type": "code",
   "execution_count": 152,
   "metadata": {},
   "outputs": [
    {
     "name": "stdout",
     "output_type": "stream",
     "text": [
      "Point(3,4)\n"
     ]
    }
   ],
   "source": [
    "class Point():\n",
    "    def __init__(self, x=0, y=0):\n",
    "        self.x = x\n",
    "        self.y = y\n",
    "        self.coords = (self.x, self.y)\n",
    "\n",
    "    def move(self, x, y):\n",
    "        self.x += x\n",
    "        self.y += y\n",
    "\n",
    "    def __str__(self):\n",
    "        return \"Point(\" + str(self.x) + ',' + str(self.y) + \")\"\n",
    "\n",
    "p1 = Point(3, 4)\n",
    "print(p1)  # This prints Point(3, 4)"
   ]
  },
  {
   "cell_type": "markdown",
   "metadata": {},
   "source": [
    "We can also overload the methods below to implement the comparison operators."
   ]
  },
  {
   "cell_type": "code",
   "execution_count": 10,
   "metadata": {},
   "outputs": [
    {
     "name": "stdout",
     "output_type": "stream",
     "text": [
      "False\n"
     ]
    }
   ],
   "source": [
    "class Point():\n",
    "    def __init__(self, x=0, y=0):\n",
    "        self.x = x\n",
    "        self.y = y\n",
    "        self.coords = (self.x, self.y)\n",
    "\n",
    "    def move(self, x, y):\n",
    "        self.x += x\n",
    "        self.y += y\n",
    "\n",
    "    def length(self):\n",
    "        import math\n",
    "        \n",
    "        return math.sqrt(self.x ** 2 + self.y**2)\n",
    "\n",
    "    def __gt__(self, other):  # greater than\n",
    "        return self.length() > other.length()\n",
    "\n",
    "    def __ge__(self, other):  # greater than or equal to\n",
    "        return self.length() >= other.length()\n",
    "        \n",
    "    def __lt__(self, other):  # less than\n",
    "        return self.length() < other.length()\n",
    "\n",
    "    def __le__(self, other):  # less than or equal to\n",
    "        return self.length() <= other.length()\n",
    "\n",
    "\n",
    "# We are going to compare points based on their lengths\n",
    "    \n",
    "\n",
    "p1 = Point(3, 4)\n",
    "p2 = Point(3, 2)\n",
    "p3 = Point(1, 3)\n",
    "p4 = Point(0, 1)\n",
    "\n",
    "isLess = p1 <= p2  # This is False\n",
    "print(isLess)"
   ]
  },
  {
   "cell_type": "markdown",
   "metadata": {},
   "source": [
    "## Static Methods"
   ]
  },
  {
   "cell_type": "markdown",
   "metadata": {},
   "source": [
    "Static methods are methods within a class that have no access to anything else in the class (no self keyword or cls keyword). They cannot change or look at any object attributes or call other methods within the class. They can be thought of as a special kind of function that sits inside of the class. When we create a static method we must use something called a decorator. The decorator for a static method is \"@staticmethod\"."
   ]
  },
  {
   "cell_type": "code",
   "execution_count": 162,
   "metadata": {},
   "outputs": [
    {
     "data": {
      "text/plain": [
       "'i am a static method'"
      ]
     },
     "execution_count": 162,
     "metadata": {},
     "output_type": "execute_result"
    }
   ],
   "source": [
    "class myClass:\n",
    "    def __init__(self):\n",
    "        self.x = x\n",
    "\n",
    "    @staticmethod\n",
    "    def staticMethod():  \n",
    "        return \"i am a static method\"\n",
    "\n",
    "# Notice staticMethod does not require the self parameter\n",
    "myClass.staticMethod()"
   ]
  },
  {
   "cell_type": "markdown",
   "metadata": {},
   "source": [
    "## Class Methods"
   ]
  },
  {
   "cell_type": "markdown",
   "metadata": {},
   "source": [
    "Class methods are methods within a class that only have access to class variables and other class methods. They are passed the name of the class and therefore can access anything within the class. Like static methods they cannot access any instance attributes. You can create a class method by using the \"@classmethod\" decorator."
   ]
  },
  {
   "cell_type": "code",
   "execution_count": 166,
   "metadata": {},
   "outputs": [
    {
     "data": {
      "text/plain": [
       "1"
      ]
     },
     "execution_count": 166,
     "metadata": {},
     "output_type": "execute_result"
    }
   ],
   "source": [
    "class myClass:\n",
    "    count = 0    # class variables\n",
    "    list=[]\n",
    "    def __init__(self):\n",
    "        self.x = x\n",
    "\n",
    "    @classmethod\n",
    "    def classMethod(cls):     # cls is current class name \n",
    "        cls.count += 1\n",
    "        return cls.count\n",
    "# The classMethod can access and modify class variables. It takes the class name as a required parameter\n",
    "myClass.classMethod()"
   ]
  },
  {
   "cell_type": "markdown",
   "metadata": {},
   "source": [
    "## Private and Public\n"
   ]
  },
  {
   "cell_type": "markdown",
   "metadata": {},
   "source": [
    "A private class is something that can only be accessed from within a certain file or directory and a private method is something that can only be called from within the class.\n",
    "A public class or method is something that can be accessed anywhere.\n",
    "\n",
    "However, In python this does not exist. Every class and method in python is public and there is no way to change that. We can only simulate creating private classes and methods by using certain notation and conventions.\n",
    "\n",
    "To declare something as private we use one underscore before the name."
   ]
  },
  {
   "cell_type": "code",
   "execution_count": 167,
   "metadata": {},
   "outputs": [],
   "source": [
    "class _Private:\n",
    "    def __init__(self, name):\n",
    "        self.name = name\n",
    "\n",
    "\n",
    "class NotPrivate:\n",
    "    def __init__(self, name):\n",
    "        self.name = name\n",
    "        self.priv = _Private(name)  # Even though we decalre something private we can still call and us it\n",
    "\n",
    "    def _dispaly(self):  # Private\n",
    "        print(\"Hello\")\n",
    "\n",
    "    def display(self):  # Public\n",
    "        print(\"Hi\")"
   ]
  },
  {
   "cell_type": "code",
   "execution_count": null,
   "metadata": {},
   "outputs": [],
   "source": []
  }
 ],
 "metadata": {
  "kernelspec": {
   "display_name": "Python 3.6 (tensorflow)",
   "language": "python",
   "name": "tensorflow"
  },
  "language_info": {
   "codemirror_mode": {
    "name": "ipython",
    "version": 3
   },
   "file_extension": ".py",
   "mimetype": "text/x-python",
   "name": "python",
   "nbconvert_exporter": "python",
   "pygments_lexer": "ipython3",
   "version": "3.6.6"
  }
 },
 "nbformat": 4,
 "nbformat_minor": 2
}
