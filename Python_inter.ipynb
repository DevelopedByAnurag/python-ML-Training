{
 "cells": [
  {
   "cell_type": "markdown",
   "metadata": {},
   "source": [
    "## Optional Parameters\n"
   ]
  },
  {
   "cell_type": "code",
   "execution_count": 1,
   "metadata": {},
   "outputs": [
    {
     "name": "stdout",
     "output_type": "stream",
     "text": [
      "5\n",
      "12\n"
     ]
    }
   ],
   "source": [
    "def myFunc(x=5):\n",
    "    print(x)\n",
    "\n",
    "myFunc()    # Prints 5\n",
    "myFunc(12)  # Prints 12"
   ]
  },
  {
   "cell_type": "markdown",
   "metadata": {},
   "source": [
    "It is possible to have multiple optional parameters."
   ]
  },
  {
   "cell_type": "code",
   "execution_count": 2,
   "metadata": {},
   "outputs": [
    {
     "name": "stdout",
     "output_type": "stream",
     "text": [
      "11\n",
      "18\n",
      "20\n"
     ]
    }
   ],
   "source": [
    "def myFunc(x=5, y=6):\n",
    "    print(x + y)\n",
    "\n",
    "myFunc()    # Prints 11\n",
    "myFunc(12)  # Prints 18\n",
    "myFunc(10,10)  # Prints 20"
   ]
  },
  {
   "cell_type": "markdown",
   "metadata": {},
   "source": [
    "It is also possible to use a combination or optional and non-optional parameters."
   ]
  },
  {
   "cell_type": "markdown",
   "metadata": {},
   "source": [
    "To recall, parameters are input that must be passed to a function or method from the call statement. Unlike many other languages python supports optional parameters. If we setup a parameter to be optional that means we can omit passing it to the function or method in the call statement. To declare an optional parameter we simply set a default value for it when we create it. If we do not pass a value the default value will be used, if we pass a value it will be the value for the parameter."
   ]
  },
  {
   "cell_type": "code",
   "execution_count": 4,
   "metadata": {},
   "outputs": [
    {
     "name": "stdout",
     "output_type": "stream",
     "text": [
      "18\n",
      "20\n"
     ]
    }
   ],
   "source": [
    "def myFunc(x, y=6):  # Now we must always pass x\n",
    "    print(x + y)\n",
    "\n",
    "myFunc(12)  # Prints 18\n",
    "myFunc(10,10)  # Prints 20"
   ]
  },
  {
   "cell_type": "markdown",
   "metadata": {},
   "source": [
    "## Map Function"
   ]
  },
  {
   "cell_type": "markdown",
   "metadata": {},
   "source": [
    "The map function can be used to apply a function to every element in a given list. For example, if we wanted to apply a function f1 to a list of numbers we would usually do something like this:"
   ]
  },
  {
   "cell_type": "code",
   "execution_count": 10,
   "metadata": {},
   "outputs": [
    {
     "name": "stdout",
     "output_type": "stream",
     "text": [
      "[1.5, 7.5, 9.0, 10.5, 3.0]\n"
     ]
    }
   ],
   "source": [
    "def f1(x):\n",
    "    return x + x/2\n",
    "\n",
    "nums = [1,5,6,7,2]\n",
    "\n",
    "newList = []\n",
    "for item in nums:\n",
    "    newList.append(f1(item))\n",
    "    pass\n",
    "print(newList)"
   ]
  },
  {
   "cell_type": "markdown",
   "metadata": {},
   "source": [
    "However the map function can eleminate a lot of this work and perform this same task in one line.\n",
    "\n"
   ]
  },
  {
   "cell_type": "code",
   "execution_count": 6,
   "metadata": {},
   "outputs": [
    {
     "name": "stdout",
     "output_type": "stream",
     "text": [
      "[1.5, 7.5, 9.0, 10.5, 3.0]\n"
     ]
    }
   ],
   "source": [
    "def f1(x):\n",
    "    return x + x/2\n",
    "nums = [1,5,6,7,2]\n",
    "newList = list(map(f1, nums))\n",
    "print(newList)\n",
    "#This will create a new list where each element at index i is f1(nums[i])"
   ]
  },
  {
   "cell_type": "markdown",
   "metadata": {},
   "source": [
    "## Filter Function\n"
   ]
  },
  {
   "cell_type": "markdown",
   "metadata": {},
   "source": [
    "The filter function is similar to the map function. They both make use of a function and and a list. The filter function will pass every element of the given list into a function that returns a Boolean value. If the function returns True for a given element that element will be added to the new returned list. Otherwise it will not."
   ]
  },
  {
   "cell_type": "code",
   "execution_count": 8,
   "metadata": {},
   "outputs": [
    {
     "name": "stdout",
     "output_type": "stream",
     "text": [
      "[1, 1, 1, 1]\n"
     ]
    }
   ],
   "source": [
    "def isAOne(x):\n",
    "    return x == 1\n",
    "\n",
    "nums = [1,1,6,7,8,0,1,1]\n",
    "\n",
    "newList = list(filter(isAOne,nums))\n",
    "\n",
    "# newList is [1,1,1,1]\n",
    "print(newList)"
   ]
  },
  {
   "cell_type": "markdown",
   "metadata": {},
   "source": [
    "## Lambda Functions"
   ]
  },
  {
   "cell_type": "markdown",
   "metadata": {},
   "source": [
    "In python lambda stands for an anonymous function. It is used for creating small functions that are typically only used a few times. A lambda function can only perform one lines worth of operations on a given input. To declare a lambda function is similar to creating a variable."
   ]
  },
  {
   "cell_type": "markdown",
   "metadata": {},
   "source": [
    "The parameter(s) for a lambda function comes before the colon (in our case x) and what will be returned comes after (x+5). We can use our lambda function the same as a regular function.\n",
    "\n",
    "Lambda functions can also use multiple parameters."
   ]
  },
  {
   "cell_type": "code",
   "execution_count": 9,
   "metadata": {},
   "outputs": [
    {
     "name": "stdout",
     "output_type": "stream",
     "text": [
      "7\n"
     ]
    }
   ],
   "source": [
    "func = lambda x: x+5\n",
    "\n",
    "print(func(2))\n",
    "# Prints 7"
   ]
  },
  {
   "cell_type": "code",
   "execution_count": 11,
   "metadata": {},
   "outputs": [
    {
     "name": "stdout",
     "output_type": "stream",
     "text": [
      "4\n"
     ]
    }
   ],
   "source": [
    "#Lambda functions can also use multiple parameters.\n",
    "func = lambda x, y: x+y\n",
    "\n",
    "print(func(2,2))\n",
    "# Prints 4"
   ]
  },
  {
   "cell_type": "markdown",
   "metadata": {},
   "source": [
    "## Lambda with Map() & Filter()"
   ]
  },
  {
   "cell_type": "code",
   "execution_count": 18,
   "metadata": {},
   "outputs": [
    {
     "name": "stdout",
     "output_type": "stream",
     "text": [
      "[6, 7, 8, 11, 6]\n",
      "[2, 5, 7, 8, 9, 12, 4, 5, 7]\n"
     ]
    }
   ],
   "source": [
    "myList = [1,4,6,7,8,11,3,4,6]\n",
    "\n",
    "newList1 = list(filter(lambda x: x>5, myList))\n",
    "# newList 2 is [2,5,7,8,9,12,4,5,7]\n",
    "print(newList1)\n",
    "\n",
    "newList2 = list(map(lambda x: x+1, myList))\n",
    "# newList 2 is [2,5,7,8,9,12,4,5,7]\n",
    "print(newList2)"
   ]
  },
  {
   "cell_type": "markdown",
   "metadata": {},
   "source": [
    "## Collections"
   ]
  },
  {
   "cell_type": "markdown",
   "metadata": {},
   "source": [
    "Python has a builtin module named \"collections\". This module provides some useful collection data types that we can use. Before using any of these data types we must import collections."
   ]
  },
  {
   "cell_type": "code",
   "execution_count": 19,
   "metadata": {},
   "outputs": [],
   "source": [
    "import collections"
   ]
  },
  {
   "cell_type": "markdown",
   "metadata": {},
   "source": [
    "### Counter"
   ]
  },
  {
   "cell_type": "markdown",
   "metadata": {},
   "source": [
    "Within the collections module there is a data type called a counter. The counter will count every instance of a certain element from any collection data type.\n",
    "We can create and use a new counter object like so:"
   ]
  },
  {
   "cell_type": "code",
   "execution_count": 25,
   "metadata": {},
   "outputs": [
    {
     "name": "stdout",
     "output_type": "stream",
     "text": [
      "Counter({'l': 2, 'h': 1, 'e': 1, 'o': 1})\n"
     ]
    }
   ],
   "source": [
    "import collections\n",
    "from collections import Counter\n",
    "\n",
    "c = Counter(\"hello\")\n",
    "print(c)\n",
    "\n",
    "# This will print Counter({'h':1, 'e':1, 'l':2, 'o':1})"
   ]
  },
  {
   "cell_type": "markdown",
   "metadata": {},
   "source": [
    "The Counter object is similar to a dictionary. It will store as a key the letter and as the value the frequency of that key in the item it was passed."
   ]
  },
  {
   "cell_type": "markdown",
   "metadata": {},
   "source": [
    "Like dictionaries we can find the values associated with each key by typing the counter name and then the key enclosed in square brackets."
   ]
  },
  {
   "cell_type": "code",
   "execution_count": 27,
   "metadata": {},
   "outputs": [
    {
     "name": "stdout",
     "output_type": "stream",
     "text": [
      "Counter({'l': 2, 'h': 1, 'e': 1, 'o': 1})\n",
      "1\n"
     ]
    }
   ],
   "source": [
    "import collections\n",
    "\n",
    "c = Counter(\"hello\")\n",
    "print(c)\n",
    "print(c[\"h\"])"
   ]
  },
  {
   "cell_type": "markdown",
   "metadata": {},
   "source": [
    "## Counter Methods"
   ]
  },
  {
   "cell_type": "markdown",
   "metadata": {},
   "source": [
    "The Counter object has some useful methods that can be seen below.\n",
    "\n",
    ".most_common(n): This will return the n most common items along with the amount of times they occur."
   ]
  },
  {
   "cell_type": "code",
   "execution_count": 29,
   "metadata": {},
   "outputs": [
    {
     "name": "stdout",
     "output_type": "stream",
     "text": [
      "[(1, 3)]\n"
     ]
    },
    {
     "data": {
      "text/plain": [
       "[(1, 3), (7, 2)]"
      ]
     },
     "execution_count": 29,
     "metadata": {},
     "output_type": "execute_result"
    }
   ],
   "source": [
    "import collections\n",
    "from collections import Counter\n",
    "\n",
    "c = Counter([1,1,1,3,4,5,6,7, 7])\n",
    "\n",
    "print(c.most_common(1))  # returns [(1, 3)]\n",
    "c.most_common(2)  # returns [(1, 3), (7, 2)]"
   ]
  },
  {
   "cell_type": "markdown",
   "metadata": {},
   "source": [
    ".subtract(collection): This will subtract the count of items from the collection passed from the Counter object."
   ]
  },
  {
   "cell_type": "code",
   "execution_count": 30,
   "metadata": {},
   "outputs": [
    {
     "name": "stdout",
     "output_type": "stream",
     "text": [
      "Counter({7: 2, 1: 1, 5: 1, 6: 1, 3: 0, 4: -1})\n"
     ]
    }
   ],
   "source": [
    "import collections\n",
    "from collections import Counter\n",
    "\n",
    "c = Counter([1,1,1,3,4,5,6,7, 7])\n",
    "d = [1,1,3, 4, 4]\n",
    "\n",
    "c.subtract(d)\n",
    "\n",
    "print(c)  # prints Counter({1:1, 3:0, 4:-1, 5:1, 6:1, 7:2})"
   ]
  },
  {
   "cell_type": "markdown",
   "metadata": {},
   "source": [
    ".update(collection): This will add all of the counts of the collection to the Counter object."
   ]
  },
  {
   "cell_type": "code",
   "execution_count": 31,
   "metadata": {},
   "outputs": [
    {
     "name": "stdout",
     "output_type": "stream",
     "text": [
      "Counter({1: 5, 3: 2, 7: 2, 4: 1, 5: 1, 6: 1})\n"
     ]
    }
   ],
   "source": [
    "import collections\n",
    "from collections import Counter\n",
    "\n",
    "c = Counter([1,1,1,3,4,5,6,7, 7])\n",
    "d = [1,1,3]\n",
    "\n",
    "c.update(d)\n",
    "\n",
    "print(c)  # prints Counter({1:5, 3:2, 4:1, 5:1, 6:1, 7:2})"
   ]
  },
  {
   "cell_type": "markdown",
   "metadata": {},
   "source": [
    ".clear(): This will simply clear all of the counts from the Counter object."
   ]
  },
  {
   "cell_type": "code",
   "execution_count": 32,
   "metadata": {},
   "outputs": [
    {
     "name": "stdout",
     "output_type": "stream",
     "text": [
      "Counter()\n"
     ]
    }
   ],
   "source": [
    "import collections\n",
    "from collections import Counter\n",
    "\n",
    "c = Counter([1,1,1,3,4,5,6,7, 7])\n",
    "\n",
    "c.clear()\n",
    "print(c)  # prints Counter()"
   ]
  },
  {
   "cell_type": "markdown",
   "metadata": {},
   "source": [
    "## Collections/namedtuple() "
   ]
  },
  {
   "cell_type": "markdown",
   "metadata": {},
   "source": [
    "Like the Counter object namedtuple is another data type within the collections module. It is used to give names to the elements within a tuple object and make for easier code readability. When you create a namedtuple constructor it looks something like this:"
   ]
  },
  {
   "cell_type": "code",
   "execution_count": 40,
   "metadata": {},
   "outputs": [
    {
     "name": "stdout",
     "output_type": "stream",
     "text": [
      "name(paramater1=1, parameter2=4, parameterx=5)\n"
     ]
    }
   ],
   "source": [
    "import collections\n",
    "from collections import namedtuple\n",
    "\n",
    "Point = namedtuple(\"name\", \"paramater1 parameter2 parameterx\")\n",
    "\n",
    "p = Point(1,4,5)\n",
    "\n",
    "print(p)  # prints name(parameter1=1 ,parameter2=4 , parameterx=5)"
   ]
  },
  {
   "cell_type": "markdown",
   "metadata": {},
   "source": [
    "## Indexing"
   ]
  },
  {
   "cell_type": "markdown",
   "metadata": {},
   "source": [
    "Because each of our elements in the tuple now has a name attached to it we are able to access elements by name."
   ]
  },
  {
   "cell_type": "code",
   "execution_count": 42,
   "metadata": {},
   "outputs": [
    {
     "name": "stdout",
     "output_type": "stream",
     "text": [
      "1\n",
      "4\n",
      "Point(x=1, y=4)\n"
     ]
    }
   ],
   "source": [
    "import collections\n",
    "from collections import namedtuple\n",
    "\n",
    "Point = namedtuple(\"Point\", \"x y\")\n",
    "\n",
    "p = Point(1,4)\n",
    "\n",
    "print(p.x)  # prints 1\n",
    "print(p.y)  # prints 4\n",
    "print(p)  # prints Point(x=1, y=4)"
   ]
  },
  {
   "cell_type": "markdown",
   "metadata": {},
   "source": [
    "## Collections/Deque(deck)"
   ]
  },
  {
   "cell_type": "markdown",
   "metadata": {},
   "source": [
    "The collections module also contains support for the deque object. The deque object is typically used to perform fast operations on the beginning and and of a list. It should only be used when you care more about manipulating data and taking items from the beginning and end of the list rather than random lookups of elements."
   ]
  },
  {
   "cell_type": "code",
   "execution_count": 43,
   "metadata": {},
   "outputs": [
    {
     "name": "stdout",
     "output_type": "stream",
     "text": [
      "deque(['h', 'e', 'l', 'l', 'o'])\n"
     ]
    }
   ],
   "source": [
    "#To create a new deque we can do the following:\n",
    "import collections\n",
    "from collections import deque\n",
    "\n",
    "d = deque(\"hello\")  # Takes and iterable argument\n",
    "print(d)  # prints deque([\"h\", \"e\", \"l\", \"l\",\"o\"])"
   ]
  },
  {
   "cell_type": "markdown",
   "metadata": {},
   "source": [
    "### Manipulation"
   ]
  },
  {
   "cell_type": "markdown",
   "metadata": {},
   "source": [
    "The deque object allows for appending to the beginning and end of the deque. It also allows us to pop elements from either end."
   ]
  },
  {
   "cell_type": "code",
   "execution_count": 52,
   "metadata": {},
   "outputs": [
    {
     "name": "stdout",
     "output_type": "stream",
     "text": [
      "deque(['h', 'e', 'l', 'l', 'o'])\n"
     ]
    }
   ],
   "source": [
    "import collections\n",
    "from collections import deque\n",
    "\n",
    "d = deque(\"hello\")  # Takes and iterable argument\n",
    "print(d)"
   ]
  },
  {
   "cell_type": "code",
   "execution_count": 53,
   "metadata": {},
   "outputs": [
    {
     "name": "stdout",
     "output_type": "stream",
     "text": [
      "deque([5, 'h', 'e', 'l', 'l', 'o'])\n"
     ]
    }
   ],
   "source": [
    "d.appendleft(5)  # d is now deque([5, \"h\", \"e\", \"l\",\"l\", \"o\"])\n",
    "print(d)"
   ]
  },
  {
   "cell_type": "code",
   "execution_count": 54,
   "metadata": {},
   "outputs": [
    {
     "name": "stdout",
     "output_type": "stream",
     "text": [
      "deque([5, 'h', 'e', 'l', 'l', 'o', 4])\n"
     ]
    }
   ],
   "source": [
    "d.append(4)  # d is now deque([5, \"h\", \"e\", \"l\",\"l\", \"o\", 4])\n",
    "print(d)"
   ]
  },
  {
   "cell_type": "code",
   "execution_count": 55,
   "metadata": {},
   "outputs": [
    {
     "name": "stdout",
     "output_type": "stream",
     "text": [
      "deque([5, 'h', 'e', 'l', 'l', 'o'])\n"
     ]
    }
   ],
   "source": [
    "d.pop()  # would return 4\n",
    "print(d)"
   ]
  },
  {
   "cell_type": "code",
   "execution_count": 56,
   "metadata": {},
   "outputs": [
    {
     "name": "stdout",
     "output_type": "stream",
     "text": [
      "deque(['h', 'e', 'l', 'l', 'o'])\n"
     ]
    }
   ],
   "source": [
    "d.popleft()  # would return 5\n",
    "print(d)"
   ]
  },
  {
   "cell_type": "markdown",
   "metadata": {},
   "source": [
    "####    More Methods\n",
    "The deque object also has some other useful methods.\n",
    "\n",
    ".clear(): This will empty the deque object."
   ]
  },
  {
   "cell_type": "code",
   "execution_count": 57,
   "metadata": {},
   "outputs": [
    {
     "name": "stdout",
     "output_type": "stream",
     "text": [
      "deque([])\n"
     ]
    }
   ],
   "source": [
    "import collections\n",
    "from collections import deque\n",
    "\n",
    "d = deque(\"hello\")  # Takes and iterable d.clear()\n",
    "d.clear()\n",
    "print(d) # prints deque([])"
   ]
  },
  {
   "cell_type": "markdown",
   "metadata": {},
   "source": [
    ".extend(iterable): This will add all of the items from the passed iterbale data type or collection to the end of the deque. .extendleft() words the same way"
   ]
  },
  {
   "cell_type": "code",
   "execution_count": 67,
   "metadata": {},
   "outputs": [
    {
     "name": "stdout",
     "output_type": "stream",
     "text": [
      "deque(['3', '2', '3', '2', 3, 2, 3, 4, '0', '0', '1', 'h', 'e', 'l', 'l', 'o', '1', '2', 7, 8, 2, 3])\n"
     ]
    }
   ],
   "source": [
    "import collections\n",
    "from collections import deque\n",
    "\n",
    "d = deque(\"hello\")  # Takes and iterable \n",
    "d.extend(\"12\")\n",
    "d.extend([7,8])\n",
    "d.extend((2,3))\n",
    "d.extendleft('100')\n",
    "d.extendleft([4,3])\n",
    "d.extendleft({2,3})\n",
    "d.extendleft({'2','3'})\n",
    "print(d) # prints deque([100,\"h\", \"e\", \"l\", \"l\", \"o\",\"1\", \"2\", 7, 8])"
   ]
  },
  {
   "cell_type": "markdown",
   "metadata": {},
   "source": [
    ".rotate(n): Given an int n this method will rotate the deck that many positions. The given int can be negative or positive. If it is negative it will rotate the deque to the left, otherwise it will rotate to the right."
   ]
  },
  {
   "cell_type": "code",
   "execution_count": 75,
   "metadata": {},
   "outputs": [
    {
     "name": "stdout",
     "output_type": "stream",
     "text": [
      "deque(['o', 'h', 'e', 'l', 'l'])\n",
      "deque(['e', 'l', 'l', 'o', 'h'])\n"
     ]
    }
   ],
   "source": [
    "import collections\n",
    "from collections import deque\n",
    "\n",
    "d = deque(\"hello\")  # Takes and iterable \n",
    "d.rotate(1)\n",
    "\n",
    "print(d) # prints deque([\"o\", \"h\", \"e\", \"l\", \"l\"])\n",
    "\n",
    "d.rotate(-2)\n",
    "\n",
    "print(d)  # prints deque([\"e\", \"l\", \"l\", \"o\", \"h\"])"
   ]
  },
  {
   "cell_type": "code",
   "execution_count": null,
   "metadata": {},
   "outputs": [],
   "source": []
  },
  {
   "cell_type": "code",
   "execution_count": null,
   "metadata": {},
   "outputs": [],
   "source": []
  }
 ],
 "metadata": {
  "kernelspec": {
   "display_name": "Python 3.6 (tensorflow)",
   "language": "python",
   "name": "tensorflow"
  },
  "language_info": {
   "codemirror_mode": {
    "name": "ipython",
    "version": 3
   },
   "file_extension": ".py",
   "mimetype": "text/x-python",
   "name": "python",
   "nbconvert_exporter": "python",
   "pygments_lexer": "ipython3",
   "version": "3.6.6"
  }
 },
 "nbformat": 4,
 "nbformat_minor": 2
}
