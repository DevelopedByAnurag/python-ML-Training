{
 "cells": [
  {
   "cell_type": "code",
   "execution_count": 1,
   "metadata": {},
   "outputs": [
    {
     "ename": "ModuleNotFoundError",
     "evalue": "No module named 'pygame'",
     "output_type": "error",
     "traceback": [
      "\u001b[1;31m---------------------------------------------------------------------------\u001b[0m",
      "\u001b[1;31mModuleNotFoundError\u001b[0m                       Traceback (most recent call last)",
      "\u001b[1;32m<ipython-input-1-d261d4641411>\u001b[0m in \u001b[0;36m<module>\u001b[1;34m()\u001b[0m\n\u001b[1;32m----> 1\u001b[1;33m \u001b[1;32mimport\u001b[0m \u001b[0mpygame\u001b[0m\u001b[1;33m\u001b[0m\u001b[0m\n\u001b[0m\u001b[0;32m      2\u001b[0m \u001b[1;33m\u001b[0m\u001b[0m\n\u001b[0;32m      3\u001b[0m \u001b[0mwidth\u001b[0m \u001b[1;33m=\u001b[0m \u001b[1;36m500\u001b[0m\u001b[1;33m\u001b[0m\u001b[0m\n\u001b[0;32m      4\u001b[0m \u001b[0mheight\u001b[0m \u001b[1;33m=\u001b[0m \u001b[1;36m500\u001b[0m\u001b[1;33m\u001b[0m\u001b[0m\n\u001b[0;32m      5\u001b[0m \u001b[0mwin\u001b[0m \u001b[1;33m=\u001b[0m \u001b[0mpygame\u001b[0m\u001b[1;33m.\u001b[0m\u001b[0mdisplay\u001b[0m\u001b[1;33m.\u001b[0m\u001b[0mset_mode\u001b[0m\u001b[1;33m(\u001b[0m\u001b[1;33m(\u001b[0m\u001b[0mwidth\u001b[0m\u001b[1;33m,\u001b[0m \u001b[0mheight\u001b[0m\u001b[1;33m)\u001b[0m\u001b[1;33m)\u001b[0m\u001b[1;33m\u001b[0m\u001b[0m\n",
      "\u001b[1;31mModuleNotFoundError\u001b[0m: No module named 'pygame'"
     ]
    }
   ],
   "source": [
    "import pygame\n",
    "\n",
    "width = 500\n",
    "height = 500\n",
    "win = pygame.display.set_mode((width, height))\n",
    "pygame.display.set_caption(\"Client\")\n",
    "\n",
    "clientNumber = 0\n",
    "\n",
    "\n",
    "class Player():\n",
    "    def __init__(self, x, y, width, height, color):\n",
    "        self.x = x\n",
    "        self.y = y\n",
    "        self.width = width\n",
    "        self.height = height\n",
    "        self.color = color\n",
    "        self.rect = (x,y,width,height)\n",
    "        self.vel = 3\n",
    "\n",
    "    def draw(self, win):\n",
    "        pygame.draw.rect(win, self.color, self.rect)\n",
    "\n",
    "    def move(self):\n",
    "        keys = pygame.key.get_pressed()\n",
    "\n",
    "        if keys[pygame.K_LEFT]:\n",
    "            self.x -= self.vel\n",
    "\n",
    "        if keys[pygame.K_RIGHT]:\n",
    "            self.x += self.vel\n",
    "\n",
    "        if keys[pygame.K_UP]:\n",
    "            self.y -= self.vel\n",
    "\n",
    "        if keys[pygame.K_DOWN]:\n",
    "            self.y += self.vel\n",
    "\n",
    "        self.rect = (self.x, self.y, self.width, self.height)\n",
    "\n",
    "\n",
    "def redrawWindow(win,player):\n",
    "    win.fill((255,255,255))\n",
    "    player.draw(win)\n",
    "    pygame.display.update()\n",
    "\n",
    "\n",
    "def main():\n",
    "    run = True\n",
    "    p = Player(50,50,100,100,(0,255,0))\n",
    "    clock = pygame.time.Clock()\n",
    "\n",
    "    while run:\n",
    "        clock.tick(60)\n",
    "        for event in pygame.event.get():\n",
    "            if event.type == pygame.QUIT:\n",
    "                run = False\n",
    "                pygame.quit()\n",
    "\n",
    "        p.move()\n",
    "        redrawWindow(win, p)\n",
    "\n",
    "main()"
   ]
  },
  {
   "cell_type": "code",
   "execution_count": null,
   "metadata": {},
   "outputs": [],
   "source": []
  }
 ],
 "metadata": {
  "kernelspec": {
   "display_name": "Python 3.6 (tensorflow)",
   "language": "python",
   "name": "tensorflow"
  },
  "language_info": {
   "codemirror_mode": {
    "name": "ipython",
    "version": 3
   },
   "file_extension": ".py",
   "mimetype": "text/x-python",
   "name": "python",
   "nbconvert_exporter": "python",
   "pygments_lexer": "ipython3",
   "version": "3.6.6"
  }
 },
 "nbformat": 4,
 "nbformat_minor": 2
}
