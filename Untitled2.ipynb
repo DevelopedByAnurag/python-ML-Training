{
 "cells": [
  {
   "cell_type": "code",
   "execution_count": 1,
   "metadata": {},
   "outputs": [
    {
     "name": "stdout",
     "output_type": "stream",
     "text": [
      "[(1, 'one'), (2, 'two'), (3, 'three'), (4, 'four'), (5, 'five')]\n",
      "[(1, 2, 3, 4, 5), ('one', 'two', 'three', 'four', 'five')]\n",
      "1\n",
      "one\n",
      "2\n",
      "two\n",
      "3\n",
      "three\n",
      "4\n",
      "four\n",
      "5\n",
      "five\n",
      "['I bought 3 Apples at 0.99 cents each.', 'I bought 6 Bananas at 0.25 cents each.', 'I bought 4 Oranges at 0 cents each.']\n"
     ]
    }
   ],
   "source": [
    "list1=[1,2,3,4,5,6]\n",
    "list2=['one','two','three','four','five']\n",
    "#Python 2 zipped=zip(list1,list2)1\n",
    "zipped=list(zip(list1,list2))\n",
    "print(zipped)\n",
    "# unzipping the zip\n",
    "unzipped=list(zip(*zipped))\n",
    "print(unzipped)\n",
    "\n",
    "\n",
    "for (l1,l2) in  zip(list1,list2):\n",
    "    print(l1)\n",
    "    print(l2)\n",
    "\n",
    "\n",
    "items=['Apple','Banana','Orange']\n",
    "counts=[3,6,4]\n",
    "prices=[0.99,0.25,0,50]\n",
    "sentences=[]\n",
    "for (item,count,price) in zip(items,counts,prices):\n",
    "    item,count,price=str(item),str(count),str(price)\n",
    "    sentence='I bought ' + count +' ' + item + 's at ' + price +' cents each.'\n",
    "    sentences.append(sentence)\n",
    "    pass\n",
    "print(sentences)"
   ]
  },
  {
   "cell_type": "code",
   "execution_count": null,
   "metadata": {},
   "outputs": [],
   "source": []
  }
 ],
 "metadata": {
  "kernelspec": {
   "display_name": "Python 3.6 (tensorflow)",
   "language": "python",
   "name": "tensorflow"
  },
  "language_info": {
   "codemirror_mode": {
    "name": "ipython",
    "version": 3
   },
   "file_extension": ".py",
   "mimetype": "text/x-python",
   "name": "python",
   "nbconvert_exporter": "python",
   "pygments_lexer": "ipython3",
   "version": "3.6.6"
  }
 },
 "nbformat": 4,
 "nbformat_minor": 2
}
