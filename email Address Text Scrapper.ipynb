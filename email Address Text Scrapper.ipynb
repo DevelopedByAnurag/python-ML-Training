{
 "cells": [
  {
   "cell_type": "markdown",
   "metadata": {},
   "source": [
    "## Email Address Text Scapper"
   ]
  },
  {
   "cell_type": "code",
   "execution_count": 5,
   "metadata": {},
   "outputs": [
    {
     "name": "stdout",
     "output_type": "stream",
     "text": [
      "<_sre.SRE_Match object; span=(1, 2), match=' '>\n"
     ]
    }
   ],
   "source": [
    "#regular expressions(re)\n",
    "#specify different patterns in strings/Text so that u can match those patterns\n",
    "import re\n",
    "text=\"A random string.\"\n",
    "pattern=re.compile(\" \")\n",
    "result=pattern.search(text)\n",
    "print(result)"
   ]
  },
  {
   "cell_type": "code",
   "execution_count": 6,
   "metadata": {},
   "outputs": [
    {
     "name": "stdout",
     "output_type": "stream",
     "text": [
      "<_sre.SRE_Match object; span=(2, 3), match='r'>\n"
     ]
    }
   ],
   "source": [
    "#single letter that is A or B or C\n",
    "text=\"A random string.\"\n",
    "pattern=re.compile(\"[rC]\")\n",
    "result=pattern.search(text)\n",
    "print(result)"
   ]
  },
  {
   "cell_type": "code",
   "execution_count": 11,
   "metadata": {},
   "outputs": [
    {
     "name": "stdout",
     "output_type": "stream",
     "text": [
      "<_sre.SRE_Match object; span=(2, 3), match='r'>\n"
     ]
    }
   ],
   "source": [
    "text=\"A random string.\"\n",
    "pattern=re.compile(\"[rdm]\")\n",
    "result=pattern.search(text)\n",
    "print(result)"
   ]
  },
  {
   "cell_type": "code",
   "execution_count": 12,
   "metadata": {},
   "outputs": [
    {
     "name": "stdout",
     "output_type": "stream",
     "text": [
      "<_sre.SRE_Match object; span=(2, 3), match='r'>\n"
     ]
    }
   ],
   "source": [
    "text=\"A random string.\"\n",
    "pattern=re.compile(\"[a-z]\")\n",
    "result=pattern.search(text)\n",
    "print(result)"
   ]
  },
  {
   "cell_type": "code",
   "execution_count": 6,
   "metadata": {},
   "outputs": [
    {
     "name": "stdout",
     "output_type": "stream",
     "text": [
      "<_sre.SRE_Match object; span=(0, 7), match='Arandom'>\n"
     ]
    }
   ],
   "source": [
    "text=\"Arandom string.\"\n",
    "pattern=re.compile(\"[a-zA-Z]+\")\n",
    "result=pattern.search(text)\n",
    "print(result)"
   ]
  },
  {
   "cell_type": "code",
   "execution_count": 8,
   "metadata": {},
   "outputs": [
    {
     "name": "stdout",
     "output_type": "stream",
     "text": [
      "<_sre.SRE_Match object; span=(0, 13), match='random string'>\n"
     ]
    }
   ],
   "source": [
    "text=\"random string.\"\n",
    "pattern=re.compile(\"[a-zA-Z ]+\")\n",
    "result=pattern.search(text)\n",
    "print(result)"
   ]
  },
  {
   "cell_type": "code",
   "execution_count": 17,
   "metadata": {},
   "outputs": [
    {
     "name": "stdout",
     "output_type": "stream",
     "text": [
      "<_sre.SRE_Match object; span=(0, 13), match='random1212312'>\n"
     ]
    }
   ],
   "source": [
    "text=\"random1212312 string.\"\n",
    "pattern=re.compile(\"[a-zA-Z0-9]+\")\n",
    "result=pattern.search(text)\n",
    "print(result)"
   ]
  },
  {
   "cell_type": "code",
   "execution_count": 23,
   "metadata": {},
   "outputs": [
    {
     "name": "stdout",
     "output_type": "stream",
     "text": [
      "<_sre.SRE_Match object; span=(15, 35), match='jkrt.ngh69@gmail.com'>\n"
     ]
    }
   ],
   "source": [
    "text1=\"random string  jkrt.ngh69@gmail.com .jscbh\"\n",
    "pattern5=re.compile(\"[a-zA-Z0-9]+\\.[a-zA-Z0-9]+@[a-zA-Z0-9]+\\.[a-zA-Z]+\")\n",
    "result5=pattern5.search(text1)\n",
    "print(result5)"
   ]
  },
  {
   "cell_type": "code",
   "execution_count": 29,
   "metadata": {},
   "outputs": [
    {
     "name": "stdout",
     "output_type": "stream",
     "text": [
      "<_sre.SRE_Match object; span=(19, 33), match='abcd@gmail.com'>\n"
     ]
    }
   ],
   "source": [
    "text1=\"random stringjscbh abcd@gmail.com abc@gmail.com\"\n",
    "pattern5=re.compile(\"[a-z0-9]+@[a-zA-Z0-9]+\\.[a-zA-Z]+\")\n",
    "result5=pattern5.search(text1)\n",
    "print(result5)"
   ]
  },
  {
   "cell_type": "code",
   "execution_count": 8,
   "metadata": {},
   "outputs": [
    {
     "name": "stdout",
     "output_type": "stream",
     "text": [
      "['d@gmail.com', 'c@gmail.com']\n"
     ]
    }
   ],
   "source": [
    "text1=\"random stringjscbh abc.d@gmail.com ab.c@gmail.com \"\n",
    "pattern5=re.compile(\"[a-zA-Z0-9]+@[a-zA-Z0-9]+\\.[a-zA-Z]+\")\n",
    "result5=pattern5.findall(text1)\n",
    "print(result5)"
   ]
  },
  {
   "cell_type": "code",
   "execution_count": 37,
   "metadata": {},
   "outputs": [
    {
     "name": "stdout",
     "output_type": "stream",
     "text": [
      "['abcd_ajs.s2009@gmail.com', 'abc@gmail.com', 'hjdsb_mnmx.@gmaik.com']\n"
     ]
    }
   ],
   "source": [
    "text1=\"random stringjscbh abcd_ajs.s2009@gmail.com abc@gmail.com hjdsb_mnmx.@gmaik.com \"\n",
    "pattern5=re.compile(\"[a-z0-9.-_]+@[a-z]+\\.[a-z]+\")\n",
    "result5=pattern5.findall(text1)\n",
    "print(result5)"
   ]
  },
  {
   "cell_type": "code",
   "execution_count": null,
   "metadata": {},
   "outputs": [],
   "source": []
  }
 ],
 "metadata": {
  "kernelspec": {
   "display_name": "Python 3.6 (tensorflow)",
   "language": "python",
   "name": "tensorflow"
  },
  "language_info": {
   "codemirror_mode": {
    "name": "ipython",
    "version": 3
   },
   "file_extension": ".py",
   "mimetype": "text/x-python",
   "name": "python",
   "nbconvert_exporter": "python",
   "pygments_lexer": "ipython3",
   "version": "3.6.6"
  }
 },
 "nbformat": 4,
 "nbformat_minor": 2
}
