{
 "cells": [
  {
   "cell_type": "markdown",
   "metadata": {},
   "source": [
    "## Turtle Module"
   ]
  },
  {
   "cell_type": "markdown",
   "metadata": {},
   "source": [
    "The turtle module is a builtin module in python, meaning you do not have to install it. It is used to create basic 2D shapes and drawings and is extremely beginner friendly. The main advantages of turtle is that it is extremely simple and makes it very easy to draw things to the screen. That being said the turtle module does offer support for some more advanced functionality which I will be talking about in later tutorials.\n",
    "\n",
    "To start using the turtle module we must first import it."
   ]
  },
  {
   "cell_type": "code",
   "execution_count": 10,
   "metadata": {},
   "outputs": [],
   "source": [
    "import turtle\n"
   ]
  },
  {
   "cell_type": "markdown",
   "metadata": {},
   "source": [
    "Now we have to create a turtle object that we can later move around and draw things to the screen."
   ]
  },
  {
   "cell_type": "code",
   "execution_count": 11,
   "metadata": {},
   "outputs": [],
   "source": [
    "import turtle\n",
    "\n",
    "tim = turtle.Turtle()\n",
    "# Now we can use the variables tim to reference our turtle"
   ]
  },
  {
   "cell_type": "markdown",
   "metadata": {},
   "source": [
    "Once we've created our turtle object we can set some default properties for it."
   ]
  },
  {
   "cell_type": "code",
   "execution_count": 8,
   "metadata": {},
   "outputs": [],
   "source": [
    "import turtle\n",
    "\n",
    "tim = turtle.Turtle()\n",
    "tim.color(\"red\")  \n",
    "tim.pensize(5)\n",
    "tim.shape(\"turtle\") \n"
   ]
  },
  {
   "cell_type": "markdown",
   "metadata": {},
   "source": [
    "There are 4 basic commands that we will use to move the turtle around the screen.\n",
    "- .forward(pixels)\n",
    "- .backward(pixels)\n",
    "- .left(angle)\n",
    "- .right(angle)"
   ]
  },
  {
   "cell_type": "code",
   "execution_count": 23,
   "metadata": {},
   "outputs": [],
   "source": [
    "import turtle\n",
    "\n",
    "tim = turtle.Turtle()\n",
    "tim.color(\"red\")  \n",
    "tim.pensize(5)\n",
    "tim.shape(\"turtle\") \n",
    "\n",
    "tim.forward(100)\n",
    "tim.left(90)\n",
    "tim.forward(100)\n",
    "tim.left(90)\n",
    "tim.forward(100)\n",
    "tim.left(90)\n",
    "tim.forward(100)"
   ]
  },
  {
   "cell_type": "markdown",
   "metadata": {},
   "source": [
    "This results in a square being drawn to the screen."
   ]
  },
  {
   "cell_type": "markdown",
   "metadata": {},
   "source": [
    "Another two methods that are very useful are:\n",
    "- .penup()\n",
    "- .pendown()\n",
    "\n",
    "We use these methods to left the turtle pen so when we move the turtle object no line will drawn on the screen."
   ]
  },
  {
   "cell_type": "code",
   "execution_count": 24,
   "metadata": {},
   "outputs": [],
   "source": [
    "import turtle\n",
    "\n",
    "tim = turtle.Turtle()\n",
    "tim.speed(0.1)  \n",
    "tim.color(\"red\")  \n",
    "tim.pensize(5)\n",
    "tim.shape(\"turtle\") \n",
    "\n",
    "tim.forward(100)\n",
    "tim.left(90)\n",
    "tim.penup()  # Lifts the pen\n",
    "tim.forward(100)\n",
    "tim.left(90)  \n",
    "tim.pendown()  # Puts the pen back down\n",
    "tim.forward(100)\n",
    "tim.left(90)\n",
    "tim.forward(100)"
   ]
  },
  {
   "cell_type": "markdown",
   "metadata": {},
   "source": [
    "To change the speed of the turtle we can use .speed(int)."
   ]
  },
  {
   "cell_type": "code",
   "execution_count": 22,
   "metadata": {},
   "outputs": [],
   "source": [
    "import turtle\n",
    "\n",
    "tim = turtle.Turtle()\n",
    "tim.speed(5)  "
   ]
  },
  {
   "cell_type": "markdown",
   "metadata": {},
   "source": [
    "## Drawing and Filling Shapes"
   ]
  },
  {
   "cell_type": "markdown",
   "metadata": {},
   "source": [
    "Now that we've learned how to move the turtle around the screen we can move onto drawing and filling shapes.\n",
    "\n",
    "To draw a circle we can use:\n",
    "- .circle(radius)\n",
    "\n",
    "To fill shapes we must play a .begin_fill() where would like to start filling and a .end_fill() where we would like to stop."
   ]
  },
  {
   "cell_type": "code",
   "execution_count": 1,
   "metadata": {},
   "outputs": [],
   "source": [
    "import turtle\n",
    "\n",
    "tim = turtle.Turtle()\n",
    "tim.color(\"red\", \"blue\")  # Blue is the fill color\n",
    "\n",
    "tim.width(5)\n",
    "\n",
    "tim.begin_fill()\n",
    "tim.circle(50)\n",
    "tim.end_fill()  "
   ]
  },
  {
   "cell_type": "markdown",
   "metadata": {},
   "source": [
    "In the last tutorial I showed you how to draw a square using a series of turtle commands. An easier way uses a for loop and can be seen below."
   ]
  },
  {
   "cell_type": "code",
   "execution_count": 2,
   "metadata": {},
   "outputs": [],
   "source": [
    "import turtle\n",
    "\n",
    "tim = turtle.Turtle()\n",
    "tim.color(\"red\", \"blue\")  # Blue is the fill color\n",
    "\n",
    "tim.width(5)\n",
    "\n",
    "tim.begin_fill()\n",
    "for x in range(4):  # This will draw a square filled in\n",
    "    tim.forward(100)\n",
    "    tim.right(90)\n",
    "\n",
    "tim.end_fill()"
   ]
  },
  {
   "cell_type": "markdown",
   "metadata": {},
   "source": [
    "A new command that we can use to set the absolute position of the turtle object is .setpos(x, y)."
   ]
  },
  {
   "cell_type": "code",
   "execution_count": 3,
   "metadata": {},
   "outputs": [],
   "source": [
    "tim.setpos(100, -50)"
   ]
  },
  {
   "cell_type": "markdown",
   "metadata": {},
   "source": [
    "The following program will randomly draw shapes on the screen."
   ]
  },
  {
   "cell_type": "code",
   "execution_count": 4,
   "metadata": {},
   "outputs": [],
   "source": [
    "import turtle\n",
    "import random\n",
    "\n",
    "colors = [\"red\", \"blue\",\"green\", \"purple\", \"yellow\", \"orange\", \"black\"]\n",
    "\n",
    "tim = turtle.Turtle()\n",
    "tim.color(\"red\", \"blue\")\n",
    "\n",
    "for x in range(5):\n",
    "    randColor = random.randrange(0, len(colors))\n",
    "    rand1 = random.randrange(-300,300)\n",
    "    rand2 = random.randrange(-300,300)\n",
    "   \n",
    "    tim.color(colors[randColor], colors[random.randrange(0, len(colors))])\n",
    "\n",
    "    tim.penup()\n",
    "    tim.setpos((rand1, rand2))\n",
    "    tim.pendown()\n",
    "    \n",
    "    tim.begin_fill()\n",
    "    tim.circle(random.randrange(0,80))\n",
    "    tim.end_fill()"
   ]
  },
  {
   "cell_type": "markdown",
   "metadata": {},
   "source": [
    "## Events"
   ]
  },
  {
   "cell_type": "markdown",
   "metadata": {},
   "source": [
    "Events\n",
    "The turtle module allows us to detect when the user has hit certain keys on the keyboard or moved/clicked the mouse. Whenever the user performs an action as such it is called an event. We can listen for events and trigger functions to run if we \"hear\" the event."
   ]
  },
  {
   "cell_type": "markdown",
   "metadata": {},
   "source": [
    "### Key Presses"
   ]
  },
  {
   "cell_type": "markdown",
   "metadata": {},
   "source": [
    "Our first step is to set up a few functions that we will call when certain keys are pressed."
   ]
  },
  {
   "cell_type": "code",
   "execution_count": 32,
   "metadata": {},
   "outputs": [],
   "source": [
    "import turtle\n",
    "import random\n",
    "from turtle import *\n",
    "tim= turtle.Turtle()\n",
    "tim.speed(0)\n",
    "tim.width(5)\n",
    "colors = [\"red\", \"blue\",\"green\", \"purple\", \"yellow\", \"orange\", \"black\"]\n",
    "\n",
    "def up():\n",
    "    tim.setheading(90)\n",
    "    tim.forward(100)\n",
    "\n",
    "def down():\n",
    "    tim.setheading(270)\n",
    "    tim.forward(100)\n",
    "\n",
    "def left():\n",
    "    tim.setheading(180)\n",
    "    tim.forward(100)\n",
    "\n",
    "def right():\n",
    "    tim.setheading(0)\n",
    "    tim.forward(100)\n",
    "\n",
    "# Setting the heading of the turtle simply faces it a certain direction\n",
    "turtle.listen()\n",
    "\n",
    "turtle.onkey(up, \"Up\")  # This will call the up function if the \"Left\" arrow key is pressed\n",
    "turtle.onkey(down, \"Down\")\n",
    "turtle.onkey(left, \"Left\")\n",
    "turtle.onkey(right, \"Right\")\n",
    "\n",
    "turtle.mainloop()  # This will make sure the program continues to run "
   ]
  },
  {
   "cell_type": "markdown",
   "metadata": {},
   "source": [
    "To listen for events we type turtle.listen()."
   ]
  },
  {
   "cell_type": "code",
   "execution_count": 12,
   "metadata": {},
   "outputs": [],
   "source": [
    "turtle.listen()"
   ]
  },
  {
   "cell_type": "markdown",
   "metadata": {},
   "source": [
    "Now that we are listening for events we can check if certain ones have occurred."
   ]
  },
  {
   "cell_type": "code",
   "execution_count": 28,
   "metadata": {},
   "outputs": [
    {
     "name": "stderr",
     "output_type": "stream",
     "text": [
      "Exception in Tkinter callback\n",
      "Traceback (most recent call last):\n",
      "  File \"C:\\Users\\jaskirat\\Anaconda3\\lib\\tkinter\\__init__.py\", line 1702, in __call__\n",
      "    return self.func(*args)\n",
      "  File \"C:\\Users\\jaskirat\\Anaconda3\\lib\\turtle.py\", line 686, in eventfun\n",
      "    fun()\n",
      "  File \"<ipython-input-28-7f1023b76309>\", line 5, in up\n",
      "    tim.setheading(90)\n",
      "  File \"C:\\Users\\jaskirat\\Anaconda3\\lib\\turtle.py\", line 1936, in setheading\n",
      "    self._rotate(angle)\n",
      "  File \"C:\\Users\\jaskirat\\Anaconda3\\lib\\turtle.py\", line 3276, in _rotate\n",
      "    self._update()\n",
      "  File \"C:\\Users\\jaskirat\\Anaconda3\\lib\\turtle.py\", line 2660, in _update\n",
      "    self._update_data()\n",
      "  File \"C:\\Users\\jaskirat\\Anaconda3\\lib\\turtle.py\", line 2651, in _update_data\n",
      "    self._pencolor, self._pensize)\n",
      "  File \"C:\\Users\\jaskirat\\Anaconda3\\lib\\turtle.py\", line 545, in _drawline\n",
      "    self.cv.coords(lineitem, *cl)\n",
      "  File \"<string>\", line 1, in coords\n",
      "  File \"C:\\Users\\jaskirat\\Anaconda3\\lib\\tkinter\\__init__.py\", line 2466, in coords\n",
      "    self.tk.call((self._w, 'coords') + args))]\n",
      "_tkinter.TclError: invalid command name \".!canvas\"\n",
      "Exception in Tkinter callback\n",
      "Traceback (most recent call last):\n",
      "  File \"C:\\Users\\jaskirat\\Anaconda3\\lib\\tkinter\\__init__.py\", line 1702, in __call__\n",
      "    return self.func(*args)\n",
      "  File \"C:\\Users\\jaskirat\\Anaconda3\\lib\\turtle.py\", line 686, in eventfun\n",
      "    fun()\n",
      "  File \"<ipython-input-28-7f1023b76309>\", line 13, in left\n",
      "    tim.setheading(180)\n",
      "  File \"C:\\Users\\jaskirat\\Anaconda3\\lib\\turtle.py\", line 1936, in setheading\n",
      "    self._rotate(angle)\n",
      "  File \"C:\\Users\\jaskirat\\Anaconda3\\lib\\turtle.py\", line 3276, in _rotate\n",
      "    self._update()\n",
      "  File \"C:\\Users\\jaskirat\\Anaconda3\\lib\\turtle.py\", line 2660, in _update\n",
      "    self._update_data()\n",
      "  File \"C:\\Users\\jaskirat\\Anaconda3\\lib\\turtle.py\", line 2651, in _update_data\n",
      "    self._pencolor, self._pensize)\n",
      "  File \"C:\\Users\\jaskirat\\Anaconda3\\lib\\turtle.py\", line 545, in _drawline\n",
      "    self.cv.coords(lineitem, *cl)\n",
      "  File \"<string>\", line 1, in coords\n",
      "  File \"C:\\Users\\jaskirat\\Anaconda3\\lib\\tkinter\\__init__.py\", line 2466, in coords\n",
      "    self.tk.call((self._w, 'coords') + args))]\n",
      "_tkinter.TclError: invalid command name \".!canvas\"\n",
      "Exception in Tkinter callback\n",
      "Traceback (most recent call last):\n",
      "  File \"C:\\Users\\jaskirat\\Anaconda3\\lib\\tkinter\\__init__.py\", line 1702, in __call__\n",
      "    return self.func(*args)\n",
      "  File \"C:\\Users\\jaskirat\\Anaconda3\\lib\\turtle.py\", line 686, in eventfun\n",
      "    fun()\n",
      "  File \"<ipython-input-28-7f1023b76309>\", line 17, in right\n",
      "    tim.setheading(0)\n",
      "  File \"C:\\Users\\jaskirat\\Anaconda3\\lib\\turtle.py\", line 1936, in setheading\n",
      "    self._rotate(angle)\n",
      "  File \"C:\\Users\\jaskirat\\Anaconda3\\lib\\turtle.py\", line 3276, in _rotate\n",
      "    self._update()\n",
      "  File \"C:\\Users\\jaskirat\\Anaconda3\\lib\\turtle.py\", line 2660, in _update\n",
      "    self._update_data()\n",
      "  File \"C:\\Users\\jaskirat\\Anaconda3\\lib\\turtle.py\", line 2651, in _update_data\n",
      "    self._pencolor, self._pensize)\n",
      "  File \"C:\\Users\\jaskirat\\Anaconda3\\lib\\turtle.py\", line 545, in _drawline\n",
      "    self.cv.coords(lineitem, *cl)\n",
      "  File \"<string>\", line 1, in coords\n",
      "  File \"C:\\Users\\jaskirat\\Anaconda3\\lib\\tkinter\\__init__.py\", line 2466, in coords\n",
      "    self.tk.call((self._w, 'coords') + args))]\n",
      "_tkinter.TclError: invalid command name \".!canvas\"\n",
      "Exception in Tkinter callback\n",
      "Traceback (most recent call last):\n",
      "  File \"C:\\Users\\jaskirat\\Anaconda3\\lib\\tkinter\\__init__.py\", line 1702, in __call__\n",
      "    return self.func(*args)\n",
      "  File \"C:\\Users\\jaskirat\\Anaconda3\\lib\\turtle.py\", line 686, in eventfun\n",
      "    fun()\n",
      "  File \"<ipython-input-28-7f1023b76309>\", line 9, in down\n",
      "    tim.setheading(270)\n",
      "  File \"C:\\Users\\jaskirat\\Anaconda3\\lib\\turtle.py\", line 1936, in setheading\n",
      "    self._rotate(angle)\n",
      "  File \"C:\\Users\\jaskirat\\Anaconda3\\lib\\turtle.py\", line 3276, in _rotate\n",
      "    self._update()\n",
      "  File \"C:\\Users\\jaskirat\\Anaconda3\\lib\\turtle.py\", line 2660, in _update\n",
      "    self._update_data()\n",
      "  File \"C:\\Users\\jaskirat\\Anaconda3\\lib\\turtle.py\", line 2651, in _update_data\n",
      "    self._pencolor, self._pensize)\n",
      "  File \"C:\\Users\\jaskirat\\Anaconda3\\lib\\turtle.py\", line 545, in _drawline\n",
      "    self.cv.coords(lineitem, *cl)\n",
      "  File \"<string>\", line 1, in coords\n",
      "  File \"C:\\Users\\jaskirat\\Anaconda3\\lib\\tkinter\\__init__.py\", line 2466, in coords\n",
      "    self.tk.call((self._w, 'coords') + args))]\n",
      "_tkinter.TclError: invalid command name \".!canvas\"\n"
     ]
    }
   ],
   "source": [
    "import turtle\n",
    "import random\n",
    "\n",
    "def up():\n",
    "    tim.setheading(90)\n",
    "    tim.forward(100)\n",
    "\n",
    "def down():\n",
    "    tim.setheading(270)\n",
    "    tim.forward(100)\n",
    "\n",
    "def left():\n",
    "    tim.setheading(180)\n",
    "    tim.forward(100)\n",
    "\n",
    "def right():\n",
    "    tim.setheading(0)\n",
    "    tim.forward(100)\n",
    "\n",
    "turtle.listen()\n",
    "\n",
    "turtle.onkey(up, \"Up\")  # This will call the up function if the \"Left\" arrow key is pressed\n",
    "turtle.onkey(down, \"Down\")\n",
    "turtle.onkey(left, \"Left\")\n",
    "turtle.onkey(right, \"Right\")\n",
    "\n",
    "turtle.mainloop()  # This will make sure the program continues to run "
   ]
  },
  {
   "cell_type": "markdown",
   "metadata": {},
   "source": [
    "## Mouse Events"
   ]
  },
  {
   "cell_type": "markdown",
   "metadata": {},
   "source": [
    "Now that we can move the turtle around with the arrow keys we want to be able to change its color when we click the left mouse button and stamp it when we click the right.\n",
    "\n",
    "First we must set up two more functions that will run when the mouse button is clicked."
   ]
  },
  {
   "cell_type": "code",
   "execution_count": 10,
   "metadata": {},
   "outputs": [],
   "source": [
    "colors = [\"red\", \"blue\", \"green\", \"yellow\", \"black\"]\n",
    "\n",
    "def clickLeft(x, y):  # Make sure to have parameters x, y\n",
    "    tim.color(random.choice(colors))\n",
    "\n",
    "def clickRight(x, y):\n",
    "    tim.stamp()"
   ]
  },
  {
   "cell_type": "markdown",
   "metadata": {},
   "source": [
    "To see if the user has clicked the mouse button we can use turtle.onscreenclick()."
   ]
  },
  {
   "cell_type": "code",
   "execution_count": 22,
   "metadata": {},
   "outputs": [],
   "source": [
    "import turtle\n",
    "import random\n",
    "tim = turtle.Turtle()\n",
    "def up():\n",
    "    tim.setheading(90)\n",
    "    tim.forward(100)\n",
    "\n",
    "def down():\n",
    "    tim.setheading(270)\n",
    "    tim.forward(100)\n",
    "\n",
    "def left():\n",
    "    tim.setheading(180)\n",
    "    tim.forward(100)\n",
    "\n",
    "def right():\n",
    "    tim.setheading(0)\n",
    "    tim.forward(100)\n",
    "\n",
    "colors = [\"red\", \"blue\", \"green\", \"yellow\", \"black\"]\n",
    "\n",
    "def clickLeft(x, y):  # Make sure to have parameters x, y\n",
    "    tim.color(random.choice(colors))\n",
    "\n",
    "def clickRight(x, y):\n",
    "    tim.stamp()\n",
    "\n",
    "turtle.listen()\n",
    "\n",
    "turtle.onscreenclick(clickLeft, 1)  # 1:Left Mouse Button, 2: Middle Mouse Button\n",
    "turtle.onscreenclick(clickRight, 3) # 3: Right Mouse Button\n",
    "\n",
    "turtle.onkey(up, \"Up\")  # This will call the up function if the \"Left\" arrow key is pressed\n",
    "turtle.onkey(down, \"Down\")\n",
    "turtle.onkey(left, \"Left\")\n",
    "turtle.onkey(right, \"Right\")\n",
    "\n",
    "turtle.mainloop()  # This will make sure the program continues to run "
   ]
  },
  {
   "cell_type": "markdown",
   "metadata": {},
   "source": [
    "Mouse Events Continued\n",
    "In the last tutorial I explained how to check to see if the mouse was being clicked. In this tutorial I will show how to track the position of the mouse and use it to draw lines and shapes similarly to a paint program.\n",
    "\n",
    "Up until this point we have only been using a turtle object from the turtle module. However, for this tutorial we will have to use another object called screen."
   ]
  },
  {
   "cell_type": "code",
   "execution_count": 4,
   "metadata": {},
   "outputs": [],
   "source": [
    "import turtle\n",
    "from turtle import Turtle\n",
    "from turtle import Screen\n",
    "\n",
    "screen = Screen()\n",
    "t = Turtle(\"turtle\")"
   ]
  },
  {
   "cell_type": "markdown",
   "metadata": {},
   "source": [
    "We now need to create two functions that will be used to clear the screen and move the turtle."
   ]
  },
  {
   "cell_type": "code",
   "execution_count": 5,
   "metadata": {},
   "outputs": [],
   "source": [
    "def dragging(x, y):  # These parameters will be the mouse position\n",
    "    t.ondrag(None)\n",
    "    t.setheading(t.towards(x, y))\n",
    "    t.goto(x, y)\n",
    "    t.ondrag(dragging)\n",
    "\n",
    "def clickRight():\n",
    "    t.clear()"
   ]
  },
  {
   "cell_type": "markdown",
   "metadata": {},
   "source": [
    "Now we will setup the function main which will run our program."
   ]
  },
  {
   "cell_type": "code",
   "execution_count": 6,
   "metadata": {},
   "outputs": [],
   "source": [
    "def main():  # This will run the program\n",
    "    turtle.listen()\n",
    "    \n",
    "    t.ondrag(dragging)  # When we drag the turtle object call dragging\n",
    "    turtle.onscreenclick(clickRight, 3)\n",
    "\n",
    "    screen.mainloop()  # This will continue running main() "
   ]
  },
  {
   "cell_type": "markdown",
   "metadata": {},
   "source": [
    "Bringing it all together we get the following.\n",
    "\n"
   ]
  },
  {
   "cell_type": "code",
   "execution_count": 26,
   "metadata": {},
   "outputs": [],
   "source": [
    "import turtle\n",
    "from turtle import Screen, Turtle\n",
    "\n",
    "screen = Screen()\n",
    "t = Turtle(\"turtle\")\n",
    "t.speed(-1)\n",
    "\n",
    "def dragging(x, y):  # These parameters will be the mouse position\n",
    "    t.ondrag(None)\n",
    "    t.setheading(t.towards(x, y))\n",
    "    t.goto(x, y)\n",
    "    t.ondrag(dragging)\n",
    "\n",
    "def clickRight(x,y):\n",
    "    t.clear()\n",
    "\n",
    "def main():  # This will run the program\n",
    "    turtle.listen()\n",
    "    \n",
    "    t.ondrag(dragging)  # When we drag the turtle object call dragging\n",
    "    turtle.onscreenclick(clickRight, 3)\n",
    "\n",
    "    screen.mainloop()  # This will continue running main() \n",
    "\n",
    "main()"
   ]
  },
  {
   "cell_type": "code",
   "execution_count": null,
   "metadata": {},
   "outputs": [],
   "source": []
  }
 ],
 "metadata": {
  "kernelspec": {
   "display_name": "Python 3.6 (tensorflow)",
   "language": "python",
   "name": "tensorflow"
  },
  "language_info": {
   "codemirror_mode": {
    "name": "ipython",
    "version": 3
   },
   "file_extension": ".py",
   "mimetype": "text/x-python",
   "name": "python",
   "nbconvert_exporter": "python",
   "pygments_lexer": "ipython3",
   "version": "3.6.6"
  }
 },
 "nbformat": 4,
 "nbformat_minor": 2
}
